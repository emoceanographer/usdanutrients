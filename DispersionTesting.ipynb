{
  "nbformat": 4,
  "nbformat_minor": 0,
  "metadata": {
    "colab": {
      "name": "DispersionTesting.ipynb",
      "provenance": [],
      "collapsed_sections": [],
      "include_colab_link": true
    },
    "kernelspec": {
      "name": "python3",
      "display_name": "Python 3"
    }
  },
  "cells": [
    {
      "cell_type": "markdown",
      "metadata": {
        "id": "view-in-github",
        "colab_type": "text"
      },
      "source": [
        "<a href=\"https://colab.research.google.com/github/emoceanographer/usdanutrients/blob/master/DispersionTesting.ipynb\" target=\"_parent\"><img src=\"https://colab.research.google.com/assets/colab-badge.svg\" alt=\"Open In Colab\"/></a>"
      ]
    },
    {
      "cell_type": "markdown",
      "metadata": {
        "id": "5pzQUtnJnr-4",
        "colab_type": "text"
      },
      "source": [
        "The goal here is to investigate whether a Gini coefficient or a combination of Gini coefficients and GDP are good predictors for food consumption; we use stunting prevalence as a metric for food consumption outcomes"
      ]
    },
    {
      "cell_type": "code",
      "metadata": {
        "id": "--vMrPXrnk8P",
        "colab_type": "code",
        "colab": {}
      },
      "source": [
        "import pandas as pd\n",
        "from pandas import ExcelWriter\n",
        "from pandas import ExcelFile\n",
        "\n",
        "from scipy import stats\n",
        "from scipy.optimize import least_squares\n",
        "import numpy as np\n",
        "import math\n",
        "import scipy\n",
        "import re\n",
        "import matplotlib.pyplot as plt\n",
        "import statistics"
      ],
      "execution_count": 0,
      "outputs": []
    },
    {
      "cell_type": "code",
      "metadata": {
        "id": "SmKp0-xKpYVx",
        "colab_type": "code",
        "outputId": "6b726530-eef3-48d1-b241-0f3576f2d64a",
        "colab": {
          "base_uri": "https://localhost:8080/",
          "height": 122
        }
      },
      "source": [
        "from google.colab import drive\n",
        "drive.mount('/content/drive')"
      ],
      "execution_count": 2,
      "outputs": [
        {
          "output_type": "stream",
          "text": [
            "Go to this URL in a browser: https://accounts.google.com/o/oauth2/auth?client_id=947318989803-6bn6qk8qdgf4n4g3pfee6491hc0brc4i.apps.googleusercontent.com&redirect_uri=urn%3Aietf%3Awg%3Aoauth%3A2.0%3Aoob&scope=email%20https%3A%2F%2Fwww.googleapis.com%2Fauth%2Fdocs.test%20https%3A%2F%2Fwww.googleapis.com%2Fauth%2Fdrive%20https%3A%2F%2Fwww.googleapis.com%2Fauth%2Fdrive.photos.readonly%20https%3A%2F%2Fwww.googleapis.com%2Fauth%2Fpeopleapi.readonly&response_type=code\n",
            "\n",
            "Enter your authorization code:\n",
            "··········\n",
            "Mounted at /content/drive\n"
          ],
          "name": "stdout"
        }
      ]
    },
    {
      "cell_type": "code",
      "metadata": {
        "id": "MwLP_JDjphRZ",
        "colab_type": "code",
        "colab": {}
      },
      "source": [
        "path = '/content/drive/My Drive/Colab Notebooks/Nutrition/' + 'gini_explore.xls'"
      ],
      "execution_count": 0,
      "outputs": []
    },
    {
      "cell_type": "code",
      "metadata": {
        "id": "xI2_6U8QpV85",
        "colab_type": "code",
        "colab": {}
      },
      "source": [
        "# load the relevant data\n",
        "gdp_df = pd.read_excel(path, sheet_name='pppGDP', index = 'Country Code')\n",
        "pop_df = pd.read_excel(path, sheet_name='population', index = 'Country Code')\n",
        "Gini_df = pd.read_excel(path, sheet_name='GINI', index = 'Country Code')\n",
        "stunt_df = pd.read_excel(path, sheet_name='stunting', index = 'Country Code')"
      ],
      "execution_count": 0,
      "outputs": []
    },
    {
      "cell_type": "markdown",
      "metadata": {
        "id": "iprrPeVR50tq",
        "colab_type": "text"
      },
      "source": [
        "# Tries looking at food supply vs. stunting"
      ]
    },
    {
      "cell_type": "code",
      "metadata": {
        "id": "h78d-oWt4wNs",
        "colab_type": "code",
        "colab": {}
      },
      "source": [
        "path_fao = '/content/drive/My Drive/Colab Notebooks/Nutrition/' + 'FoodBalanceSheets_E_All_Data.csv'\n",
        "path_ctry_codes = '/content/drive/My Drive/Colab Notebooks/Nutrition/' + 'fao_ctry_codes.csv'\n",
        "path_under5 = '/content/drive/My Drive/Colab Notebooks/Nutrition/' + 'percent_under5.csv'\n",
        "food_df = pd.read_csv(path_fao, encoding='latin')\n",
        "ctry_codes_df = pd.read_csv(path_ctry_codes)"
      ],
      "execution_count": 0,
      "outputs": []
    },
    {
      "cell_type": "code",
      "metadata": {
        "id": "oKIUFfLIBkQV",
        "colab_type": "code",
        "colab": {}
      },
      "source": [
        "under5_df = pd.read_csv(path_under5) # Also uses ISO3 country codes\n",
        "# Want: 'Population ages 00-04, female (% of female population)' \n",
        "# and 'Population ages 00-04, male (% of male population)'"
      ],
      "execution_count": 0,
      "outputs": []
    },
    {
      "cell_type": "code",
      "metadata": {
        "id": "KIRXx60p5Vem",
        "colab_type": "code",
        "colab": {}
      },
      "source": [
        "supply = food_df[(food_df['Element']=='Food supply (kcal/capita/day)') & (food_df['Item']=='Grand Total')]"
      ],
      "execution_count": 0,
      "outputs": []
    },
    {
      "cell_type": "code",
      "metadata": {
        "id": "eC6Bx5_FtMnW",
        "colab_type": "code",
        "colab": {}
      },
      "source": [
        "protein_supply = food_df[(food_df['Element']=='Protein supply quantity (g/capita/day)') & (food_df['Item']=='Grand Total')]"
      ],
      "execution_count": 0,
      "outputs": []
    },
    {
      "cell_type": "code",
      "metadata": {
        "id": "xx-8wxtEi-zb",
        "colab_type": "code",
        "colab": {}
      },
      "source": [
        "def logn_fun(params, x, y):\n",
        "  \"\"\" Function 'stunting % = 1/2 + 1/2 erf(ln(x_s - (ln(D) - sigma^2/2))/2)', \n",
        "  where D is the average food supply per capita, stunting % is the proportion of \n",
        "  the population stunted, x_s is the unknown threshold in food supply space below \n",
        "  which stunting occurs, and sigma is the standard deviation for a lognormal \n",
        "  distribution \"\"\"\n",
        "  # let params[0] be x_s, and params[1] be sigma\n",
        "  thresh_ln = math.log(params[0])\n",
        "  food_ln = [(math.log(X) - (params[1]**2)/2) for X in x]\n",
        "  erf_fun = [scipy.special.erf((thresh_ln - food_ln[i])/(2*params[1])) for i in range(0,(len(y)-1))]\n",
        "  res_fun = [(0.5 + 0.5*erf_fun[i] - y[i]) for i in range(0,(len(y)-1))]\n",
        "  return res_fun"
      ],
      "execution_count": 0,
      "outputs": []
    },
    {
      "cell_type": "code",
      "metadata": {
        "id": "DhYerc-1wIak",
        "colab_type": "code",
        "colab": {}
      },
      "source": [
        "def logn_fun_fixed_xs(params, x, y):\n",
        "  thresh_ln = math.log(50)\n",
        "  food_ln = [(math.log(X) - (params[0]**2)/2) for X in x]\n",
        "  erf_fun = [scipy.special.erf((thresh_ln - food_ln[i])/(2*params[0])) for i in range(0,(len(y)-1))]\n",
        "  res_fun = [(0.5 + 0.5*erf_fun[i] - y[i]) for i in range(0,(len(y)-1))]\n",
        "  return res_fun"
      ],
      "execution_count": 0,
      "outputs": []
    },
    {
      "cell_type": "code",
      "metadata": {
        "id": "XziHhLlFs-P3",
        "colab_type": "code",
        "colab": {}
      },
      "source": [
        "def ctry_regression(supply,params0,whichfun):\n",
        "# Supply uses 'FAOSTAT' ('Area Code' in supply dataframe); stunt_df uses 'ISO3' ('Country Code')\n",
        "  ctry_list = list(stunt_df['Country Code'].unique())\n",
        "  ctry_data = {}\n",
        "  for country in ctry_list:\n",
        "    ctry_in_FAO = sum(ctry_codes_df['ISO3']==country)\n",
        "    if ctry_in_FAO > 0: # it exists in FAO's list\n",
        "      idx = ctry_codes_df.index[ctry_codes_df['ISO3']==country].tolist()\n",
        "      FAO_area = int(ctry_codes_df.iloc[idx]['FAOSTAT']) # gets FAO area code\n",
        "      if FAO_area in supply['Area Code'].values:\n",
        "        ctry_name = list(ctry_codes_df.iloc[idx]['Short name'])[0]\n",
        "\n",
        "        stunt_ctry = stunt_df[stunt_df['Country Code']==country]\n",
        "        supply_ctry = supply[supply['Area Code']==FAO_area]\n",
        "        under5_ctry = under5_df[under5_df['Country Code']==country]\n",
        "        # gets the stunting percentage for years that it exists and the corresponding food amts\n",
        "        # for those same years\n",
        "        data = {}\n",
        "        data['Food'] = {}\n",
        "        data['Stunting'] = {}\n",
        "        data['Child_percent'] = {}\n",
        "        \n",
        "        for col in stunt_ctry.columns: \n",
        "          if re.match(r'^\\d{4}$', str(col)): # if it looks like a year\n",
        "            temp = stunt_ctry[col]\n",
        "            if not math.isnan(temp):\n",
        "              data['Stunting'][str(col)] = float(temp)\n",
        "              if col < 2014: # FAO data only goes to 2013\n",
        "                supplyID = 'Y'+str(col)\n",
        "\n",
        "                data['Food'][str(col)] = float(supply_ctry[supplyID])\n",
        "              # gets percent of population below 5 years\n",
        "              colID = str(col) + ' [YR' + str(col) + ']' \n",
        "\n",
        "              f_vals = (under5_ctry[under5_ctry['Series Name'] == 'Population ages 00-04, female (% of female population)'])\n",
        "              m_vals = (under5_ctry[under5_ctry['Series Name'] == 'Population ages 00-04, male (% of male population)'])\n",
        "              if not f_vals[colID].values in ['..']:\n",
        "                f_percent = float(f_vals[colID])\n",
        "              else:\n",
        "                f_percent = np.nan\n",
        "\n",
        "              if not m_vals[colID].values in ['..']:\n",
        "                m_percent = float(m_vals[colID])\n",
        "              else: \n",
        "                m_percent = np.nan\n",
        "\n",
        "              ch_percent = f_percent + m_percent\n",
        "              data['Child_percent'][str(col)] = ch_percent\n",
        "\n",
        "        # Non-linear fitting\n",
        "        years = list(data['Food'].keys())\n",
        "        stunting = []\n",
        "        food_avg = []\n",
        "        for x in years:\n",
        "          if not math.isnan(data['Food'][x]):\n",
        "            ch_percent = data['Child_percent'][x]\n",
        "            food_avg.append(data['Food'][x])\n",
        "            stunting.append(data['Stunting'][x]/100*ch_percent/100)\n",
        "\n",
        "        #print(ctry_name)\n",
        "        if len(food_avg) > 0:\n",
        "          if whichfun == 'logn':\n",
        "            res_lsq = least_squares(logn_fun, params0, args=(food_avg, stunting), loss='soft_l1', bounds = (0,np.inf))\n",
        "            data['Regression x_s'] = res_lsq.x[0]\n",
        "            data['Regression sigma'] = res_lsq.x[1]\n",
        "          if whichfun == 'fixedxs':\n",
        "            res_lsq = least_squares(logn_fun_fixed_xs, params0[1], args=(food_avg, stunting), loss='soft_l1', bounds = (0,np.inf))\n",
        "            data['Regression sigma'] = res_lsq.x[1]\n",
        "          data['Country Name'] = ctry_name\n",
        "        ctry_data[country] = data\n",
        "  return ctry_data\n"
      ],
      "execution_count": 0,
      "outputs": []
    },
    {
      "cell_type": "code",
      "metadata": {
        "id": "6fvVuVWNCZ7H",
        "colab_type": "code",
        "colab": {}
      },
      "source": [
        "# Supply uses 'FAOSTAT' ('Area Code' in supply dataframe); stunt_df uses 'ISO3' ('Country Code')\n",
        "  ctry_list = list(stunt_df['Country Code'].unique())\n",
        "  ctry_data = {}\n",
        "  for country in ctry_list:\n",
        "    ctry_in_FAO = sum(ctry_codes_df['ISO3']==country)\n",
        "    if ctry_in_FAO > 0: # it exists in FAO's list\n",
        "      idx = ctry_codes_df.index[ctry_codes_df['ISO3']==country].tolist()\n",
        "      FAO_area = int(ctry_codes_df.iloc[idx]['FAOSTAT']) # gets FAO area code\n",
        "      if FAO_area in supply['Area Code'].values:\n",
        "        ctry_name = list(ctry_codes_df.iloc[idx]['Short name'])[0]\n",
        "\n",
        "        stunt_ctry = stunt_df[stunt_df['Country Code']==country]\n",
        "        supply_ctry = supply[supply['Area Code']==FAO_area]\n",
        "        under5_ctry = under5_df[under5_df['Country Code']==country]\n",
        "        # gets the stunting percentage for years that it exists and the corresponding food amts\n",
        "        # for those same years\n",
        "        data = {}\n",
        "        data['Food'] = {}\n",
        "        data['Stunting'] = {}\n",
        "        data['Child_percent'] = {}\n",
        "        \n",
        "        for col in stunt_ctry.columns: \n",
        "          if re.match(r'^\\d{4}$', str(col)): # if it looks like a year\n",
        "            temp = stunt_ctry[col]\n",
        "            if not math.isnan(temp):\n",
        "              data['Stunting'][str(col)] = float(temp)\n",
        "              if col < 2014: # FAO data only goes to 2013\n",
        "                supplyID = 'Y'+str(col)\n",
        "\n",
        "                data['Food'][str(col)] = float(supply_ctry[supplyID])\n",
        "              # gets percent of population below 5 years\n",
        "              colID = str(col) + ' [YR' + str(col) + ']' \n",
        "\n",
        "              f_vals = (under5_ctry[under5_ctry['Series Name'] == 'Population ages 00-04, female (% of female population)'])\n",
        "              m_vals = (under5_ctry[under5_ctry['Series Name'] == 'Population ages 00-04, male (% of male population)'])\n",
        "              if not f_vals[colID].values in ['..']:\n",
        "                f_percent = float(f_vals[colID])\n",
        "              else:\n",
        "                f_percent = np.nan\n",
        "\n",
        "              if not m_vals[colID].values in ['..']:\n",
        "                m_percent = float(m_vals[colID])\n",
        "              else: \n",
        "                m_percent = np.nan\n",
        "\n",
        "              ch_percent = f_percent + m_percent\n",
        "              data['Child_percent'][str(col)] = ch_percent\n",
        "\n",
        "        # Non-linear fitting\n",
        "        years = list(data['Food'].keys())\n",
        "        stunting = []\n",
        "        food_avg = []\n",
        "        for x in years:\n",
        "          if not math.isnan(data['Food'][x]):\n",
        "            ch_percent = data['Child_percent'][x]\n",
        "            food_avg.append(data['Food'][x])\n",
        "            stunting.append(data['Stunting'][x]/100*ch_percent/100)\n",
        "\n",
        "        #print(ctry_name)\n",
        "        if len(food_avg) > 0:\n",
        "          if whichfun == 'logn':\n",
        "            res_lsq = least_squares(logn_fun, params0, args=(food_avg, stunting), loss='soft_l1', bounds = (0,np.inf))\n",
        "            data['Regression x_s'] = res_lsq.x[0]\n",
        "            data['Regression sigma'] = res_lsq.x[1]\n",
        "          if whichfun == 'fixedxs':\n",
        "            res_lsq = least_squares(logn_fun_fixed_xs, params0[1], args=(food_avg, stunting), loss='soft_l1', bounds = (0,np.inf))\n",
        "            data['Regression sigma'] = res_lsq.x[1]\n",
        "          data['Country Name'] = ctry_name\n",
        "        ctry_data[country] = data"
      ],
      "execution_count": 0,
      "outputs": []
    },
    {
      "cell_type": "code",
      "metadata": {
        "id": "sa1a5UMHtbRL",
        "colab_type": "code",
        "colab": {}
      },
      "source": [
        "ctry_protein_data = ctry_regression(supply,[1000,2],'logn')"
      ],
      "execution_count": 0,
      "outputs": []
    },
    {
      "cell_type": "code",
      "metadata": {
        "id": "pcW8GCdwt-_L",
        "colab_type": "code",
        "colab": {}
      },
      "source": [
        "Gini_df = Gini_df.set_index('Country Code')"
      ],
      "execution_count": 0,
      "outputs": []
    },
    {
      "cell_type": "code",
      "metadata": {
        "id": "Q6yfQXjJtqpH",
        "colab_type": "code",
        "colab": {
          "base_uri": "https://localhost:8080/",
          "height": 279
        },
        "outputId": "de8caf87-1076-47b8-b99f-cdcd07147f40"
      },
      "source": [
        "ctry_protein_df = pd.DataFrame.from_dict(ctry_protein_data, orient = 'index')\n",
        "\n",
        "# Make Gini coefficient average into a dictionary by country code so we can append to our existing df\n",
        "years = [col for col in Gini_df.columns if re.match(r'^\\d{4}$', str(col))]\n",
        "Gini_df['avg'] = Gini_df[years].mean(axis=1)\n",
        "ctry_protein_df['Gini'] = Gini_df['avg']\n",
        "\n",
        "ctry_protein_df.plot(kind='scatter',x='Gini',y='Regression sigma',color='blue')\n",
        "plt.show()"
      ],
      "execution_count": 149,
      "outputs": [
        {
          "output_type": "display_data",
          "data": {
            "image/png": "[encoded data removed]",
            "text/plain": [
              "<Figure size 432x288 with 1 Axes>"
            ]
          },
          "metadata": {
            "tags": []
          }
        }
      ]
    },
    {
      "cell_type": "code",
      "metadata": {
        "id": "DQdKGXgUujgp",
        "colab_type": "code",
        "colab": {}
      },
      "source": [
        "ctry_protein_df['Regression x_s'].hist(bins=10)"
      ],
      "execution_count": 0,
      "outputs": []
    },
    {
      "cell_type": "code",
      "metadata": {
        "id": "4Jem7XIUvVu5",
        "colab_type": "code",
        "colab": {
          "base_uri": "https://localhost:8080/",
          "height": 282
        },
        "outputId": "ce20e987-dd44-40b7-f93a-d1b8d24c910c"
      },
      "source": [
        "ctry_protein_df['Regression sigma'].hist(bins=10)"
      ],
      "execution_count": 151,
      "outputs": [
        {
          "output_type": "execute_result",
          "data": {
            "text/plain": [
              "<matplotlib.axes._subplots.AxesSubplot at 0x7f740e0c0c50>"
            ]
          },
          "metadata": {
            "tags": []
          },
          "execution_count": 151
        },
        {
          "output_type": "display_data",
          "data": {
            "image/png": "[encoded data removed]",
            "text/plain": [
              "<Figure size 432x288 with 1 Axes>"
            ]
          },
          "metadata": {
            "tags": []
          }
        }
      ]
    },
    {
      "cell_type": "code",
      "metadata": {
        "id": "goIfY_0nyGso",
        "colab_type": "code",
        "colab": {
          "base_uri": "https://localhost:8080/",
          "height": 289
        },
        "outputId": "313eb9ec-7890-435d-f35d-fad86796ccdc"
      },
      "source": [
        "ctry_protein_df.head()"
      ],
      "execution_count": 152,
      "outputs": [
        {
          "output_type": "execute_result",
          "data": {
            "text/html": [
              "<div>\n",
              "<style scoped>\n",
              "    .dataframe tbody tr th:only-of-type {\n",
              "        vertical-align: middle;\n",
              "    }\n",
              "\n",
              "    .dataframe tbody tr th {\n",
              "        vertical-align: top;\n",
              "    }\n",
              "\n",
              "    .dataframe thead th {\n",
              "        text-align: right;\n",
              "    }\n",
              "</style>\n",
              "<table border=\"1\" class=\"dataframe\">\n",
              "  <thead>\n",
              "    <tr style=\"text-align: right;\">\n",
              "      <th></th>\n",
              "      <th>Food</th>\n",
              "      <th>Stunting</th>\n",
              "      <th>Regression sigma</th>\n",
              "      <th>Country Name</th>\n",
              "      <th>Gini</th>\n",
              "    </tr>\n",
              "  </thead>\n",
              "  <tbody>\n",
              "    <tr>\n",
              "      <th>AFG</th>\n",
              "      <td>{'1997': 56.82, '2004': 55.24, '2013': 58.25}</td>\n",
              "      <td>{'1997': 53.2, '2004': 59.3, '2013': 40.9}</td>\n",
              "      <td>0.743919</td>\n",
              "      <td>Afghanistan</td>\n",
              "      <td>NaN</td>\n",
              "    </tr>\n",
              "    <tr>\n",
              "      <th>AGO</th>\n",
              "      <td>{'1996': 37.02, '2007': 47.9}</td>\n",
              "      <td>{'1996': 61.7, '2007': 29.2, '2016': 37.6}</td>\n",
              "      <td>0.775330</td>\n",
              "      <td>Angola</td>\n",
              "      <td>47.350000</td>\n",
              "    </tr>\n",
              "    <tr>\n",
              "      <th>ALB</th>\n",
              "      <td>{'1997': 89.03, '2000': 90.39, '2005': 98.24, ...</td>\n",
              "      <td>{'1997': 20.4, '2000': 39.2, '2005': 27.0, '20...</td>\n",
              "      <td>0.572667</td>\n",
              "      <td>Albania</td>\n",
              "      <td>29.660000</td>\n",
              "    </tr>\n",
              "    <tr>\n",
              "      <th>ARE</th>\n",
              "      <td>{}</td>\n",
              "      <td>{}</td>\n",
              "      <td>NaN</td>\n",
              "      <td>NaN</td>\n",
              "      <td>NaN</td>\n",
              "    </tr>\n",
              "    <tr>\n",
              "      <th>ARG</th>\n",
              "      <td>{'1994': 100.93, '1996': 100.3, '2005': 96.09}</td>\n",
              "      <td>{'1994': 7.1, '1996': 16.9, '2005': 8.2}</td>\n",
              "      <td>0.378032</td>\n",
              "      <td>Argentina</td>\n",
              "      <td>46.141379</td>\n",
              "    </tr>\n",
              "  </tbody>\n",
              "</table>\n",
              "</div>"
            ],
            "text/plain": [
              "                                                  Food  ...       Gini\n",
              "AFG      {'1997': 56.82, '2004': 55.24, '2013': 58.25}  ...        NaN\n",
              "AGO                      {'1996': 37.02, '2007': 47.9}  ...  47.350000\n",
              "ALB  {'1997': 89.03, '2000': 90.39, '2005': 98.24, ...  ...  29.660000\n",
              "ARE                                                 {}  ...        NaN\n",
              "ARG     {'1994': 100.93, '1996': 100.3, '2005': 96.09}  ...  46.141379\n",
              "\n",
              "[5 rows x 5 columns]"
            ]
          },
          "metadata": {
            "tags": []
          },
          "execution_count": 152
        }
      ]
    },
    {
      "cell_type": "code",
      "metadata": {
        "id": "IeWOycsnyxf6",
        "colab_type": "code",
        "colab": {
          "base_uri": "https://localhost:8080/",
          "height": 114
        },
        "outputId": "9fe3c57e-f02a-4306-868e-96a474b8435b"
      },
      "source": [
        "\n",
        "ctry_slice"
      ],
      "execution_count": 156,
      "outputs": [
        {
          "output_type": "execute_result",
          "data": {
            "text/html": [
              "<div>\n",
              "<style scoped>\n",
              "    .dataframe tbody tr th:only-of-type {\n",
              "        vertical-align: middle;\n",
              "    }\n",
              "\n",
              "    .dataframe tbody tr th {\n",
              "        vertical-align: top;\n",
              "    }\n",
              "\n",
              "    .dataframe thead th {\n",
              "        text-align: right;\n",
              "    }\n",
              "</style>\n",
              "<table border=\"1\" class=\"dataframe\">\n",
              "  <thead>\n",
              "    <tr style=\"text-align: right;\">\n",
              "      <th></th>\n",
              "      <th>Food</th>\n",
              "      <th>Stunting</th>\n",
              "      <th>Regression sigma</th>\n",
              "      <th>Country Name</th>\n",
              "      <th>Gini</th>\n",
              "    </tr>\n",
              "  </thead>\n",
              "  <tbody>\n",
              "    <tr>\n",
              "      <th>AFG</th>\n",
              "      <td>{'1997': 56.82, '2004': 55.24, '2013': 58.25}</td>\n",
              "      <td>{'1997': 53.2, '2004': 59.3, '2013': 40.9}</td>\n",
              "      <td>0.743919</td>\n",
              "      <td>Afghanistan</td>\n",
              "      <td>NaN</td>\n",
              "    </tr>\n",
              "  </tbody>\n",
              "</table>\n",
              "</div>"
            ],
            "text/plain": [
              "                                              Food  ... Gini\n",
              "AFG  {'1997': 56.82, '2004': 55.24, '2013': 58.25}  ...  NaN\n",
              "\n",
              "[1 rows x 5 columns]"
            ]
          },
          "metadata": {
            "tags": []
          },
          "execution_count": 156
        }
      ]
    },
    {
      "cell_type": "code",
      "metadata": {
        "id": "FcbxtPzBySBN",
        "colab_type": "code",
        "colab": {}
      },
      "source": [
        "# Makes a plot of a country's distribution\n",
        "country = 'Afghanistan'\n",
        "ctry_slice = ctry_protein_df[ctry_protein_df['Country Name']==country]\n",
        "x_vals = np.arange(.1,80,1)\n",
        "sig = float(ctry_slice['Regression sigma'])\n",
        "\n",
        "mean_food = statistics.mean([ctry_slice['Food'].values[0][x] for x in ctry_slice['Food'].values[0].keys()])\n",
        "mu = math.log(mean_food) - sig**2/2\n",
        "#stp = [1/2 + 1/2*scipy.special.erf((math.log(x) - (math.log(mean_food) - sig**2/2))/(2*sig)) for x in x_vals]\n",
        "#inner_part = [-(math.log(x) - mu)**2/(2*sig**2) for x in x_vals]\n",
        "stp = [1/(x*sig*(2*3.14)**.5)*math.exp(-(math.log(x) - mu)**2/(2*sig**2)) for x in x_vals]# here pdf"
      ],
      "execution_count": 0,
      "outputs": []
    },
    {
      "cell_type": "code",
      "metadata": {
        "id": "59Rhi_Sg0huT",
        "colab_type": "code",
        "colab": {
          "base_uri": "https://localhost:8080/",
          "height": 295
        },
        "outputId": "7f68a80f-8c52-4f62-c824-1f5e78e2ecba"
      },
      "source": [
        "fig, ax = plt.subplots()\n",
        "ax.plot(x_vals,stp)\n",
        "ax.set(xlabel = 'protein g/cal/day', ylabel = 'stunting percentage',\n",
        "       title = country + ' stunting / protein relationship')\n",
        "ax.grid()\n",
        "\n",
        "plt.show()"
      ],
      "execution_count": 194,
      "outputs": [
        {
          "output_type": "display_data",
          "data": {
            "image/png": "[encoded data removed]",
            "text/plain": [
              "<Figure size 432x288 with 1 Axes>"
            ]
          },
          "metadata": {
            "tags": []
          }
        }
      ]
    },
    {
      "cell_type": "code",
      "metadata": {
        "id": "xMv4xyVl2Uf7",
        "colab_type": "code",
        "colab": {
          "base_uri": "https://localhost:8080/",
          "height": 34
        },
        "outputId": "ebba621d-50ab-40a1-f205-4e698d658d40"
      },
      "source": [
        "math.exp(.5)"
      ],
      "execution_count": 188,
      "outputs": [
        {
          "output_type": "execute_result",
          "data": {
            "text/plain": [
              "1.6487212707001282"
            ]
          },
          "metadata": {
            "tags": []
          },
          "execution_count": 188
        }
      ]
    },
    {
      "cell_type": "code",
      "metadata": {
        "id": "gG2L0UA2DPf2",
        "colab_type": "code",
        "colab": {}
      },
      "source": [
        "# Supply uses 'FAOSTAT' ('Area Code' in supply dataframe); stunt_df uses 'ISO3' ('Country Code')\n",
        "ctry_list = list(stunt_df['Country Code'].unique())\n",
        "ctry_data = {}\n",
        "for country in ctry_list:\n",
        "  ctry_in_FAO = sum(ctry_codes_df['ISO3']==country)\n",
        "  if ctry_in_FAO > 0: # it exists in FAO's list\n",
        "    idx = ctry_codes_df.index[ctry_codes_df['ISO3']==country].tolist()\n",
        "    FAO_area = int(ctry_codes_df.iloc[idx]['FAOSTAT']) # gets FAO area code\n",
        "    if FAO_area in supply['Area Code'].values:\n",
        "      ctry_name = list(ctry_codes_df.iloc[idx]['Short name'])[0]\n",
        "\n",
        "      stunt_ctry = stunt_df[stunt_df['Country Code']==country]\n",
        "      supply_ctry = supply[supply['Area Code']==FAO_area]\n",
        "\n",
        "      # gets the stunting percentage for years that it exists and the corresponding food amts\n",
        "      # for those same years\n",
        "      data = {}\n",
        "      data['Food'] = {}\n",
        "      data['Stunting'] = {}\n",
        "\n",
        "      for col in stunt_ctry.columns: \n",
        "        if re.match(r'^\\d{4}$', str(col)): # if it looks like a year\n",
        "          temp = stunt_ctry[col]\n",
        "          if not math.isnan(temp):\n",
        "            data['Stunting'][str(col)] = float(temp)\n",
        "            if col < 2014: # FAO data only goes to 2013\n",
        "              supplyID = 'Y'+str(col)\n",
        "              if country == 'GNQ':\n",
        "                print(supply_ctry)\n",
        "              data['Food'][str(col)] = float(supply_ctry[supplyID])\n",
        "              \n",
        "      # Non-linear fitting\n",
        "      years = list(data['Food'].keys())\n",
        "      stunting = []\n",
        "      food_avg = []\n",
        "      for x in years:\n",
        "        if not math.isnan(data['Food'][x]):\n",
        "          food_avg.append(data['Food'][x])\n",
        "          stunting.append(data['Stunting'][x]/100)\n",
        "        \n",
        "      print(ctry_name)\n",
        "      params0 = [1500, 1]\n",
        "      if len(food_avg) > 0:\n",
        "        res_lsq = least_squares(logn_fun, params0, args=(food_avg, stunting), loss='soft_l1', bounds = (0,np.inf))\n",
        "        data['Regression x_s'] = res_lsq.x[0]\n",
        "        data['Regression sigma'] = res_lsq.x[1]\n",
        "        data['Country Name'] = ctry_name\n",
        "      ctry_data[country] = data\n",
        "      "
      ],
      "execution_count": 0,
      "outputs": []
    },
    {
      "cell_type": "code",
      "metadata": {
        "id": "oQpJhKpuCOsi",
        "colab_type": "code",
        "colab": {
          "base_uri": "https://localhost:8080/",
          "height": 572
        },
        "outputId": "72266088-e84f-43d1-8cbd-22becec2ee9f"
      },
      "source": [
        "ctry_df = pd.DataFrame.from_dict(ctry_data, orient = 'index')\n",
        "ctry_df"
      ],
      "execution_count": 91,
      "outputs": [
        {
          "output_type": "execute_result",
          "data": {
            "text/html": [
              "<div>\n",
              "<style scoped>\n",
              "    .dataframe tbody tr th:only-of-type {\n",
              "        vertical-align: middle;\n",
              "    }\n",
              "\n",
              "    .dataframe tbody tr th {\n",
              "        vertical-align: top;\n",
              "    }\n",
              "\n",
              "    .dataframe thead th {\n",
              "        text-align: right;\n",
              "    }\n",
              "</style>\n",
              "<table border=\"1\" class=\"dataframe\">\n",
              "  <thead>\n",
              "    <tr style=\"text-align: right;\">\n",
              "      <th></th>\n",
              "      <th>Food</th>\n",
              "      <th>Stunting</th>\n",
              "      <th>Regression x_s</th>\n",
              "      <th>Regression sigma</th>\n",
              "      <th>Country Name</th>\n",
              "    </tr>\n",
              "  </thead>\n",
              "  <tbody>\n",
              "    <tr>\n",
              "      <th>AFG</th>\n",
              "      <td>{'1997': 1874.0, '2004': 1967.0, '2013': 2090.0}</td>\n",
              "      <td>{'1997': 53.2, '2004': 59.3, '2013': 40.9}</td>\n",
              "      <td>1.285085e-07</td>\n",
              "      <td>7.070699</td>\n",
              "      <td>Afghanistan</td>\n",
              "    </tr>\n",
              "    <tr>\n",
              "      <th>AGO</th>\n",
              "      <td>{'1996': 1731.0, '2007': 2173.0}</td>\n",
              "      <td>{'1996': 61.7, '2007': 29.2, '2016': 37.6}</td>\n",
              "      <td>1.499114e+03</td>\n",
              "      <td>1.102645</td>\n",
              "      <td>Angola</td>\n",
              "    </tr>\n",
              "    <tr>\n",
              "      <th>ALB</th>\n",
              "      <td>{'1997': 2725.0, '2000': 2734.0, '2005': 2874....</td>\n",
              "      <td>{'1997': 20.4, '2000': 39.2, '2005': 27.0, '20...</td>\n",
              "      <td>1.318569e+03</td>\n",
              "      <td>0.664526</td>\n",
              "      <td>Albania</td>\n",
              "    </tr>\n",
              "    <tr>\n",
              "      <th>ARE</th>\n",
              "      <td>{}</td>\n",
              "      <td>{}</td>\n",
              "      <td>NaN</td>\n",
              "      <td>NaN</td>\n",
              "      <td>NaN</td>\n",
              "    </tr>\n",
              "    <tr>\n",
              "      <th>ARG</th>\n",
              "      <td>{'1994': 3155.0, '1996': 3156.0, '2005': 3107.0}</td>\n",
              "      <td>{'1994': 7.1, '1996': 16.9, '2005': 8.2}</td>\n",
              "      <td>1.349569e+02</td>\n",
              "      <td>1.349133</td>\n",
              "      <td>Argentina</td>\n",
              "    </tr>\n",
              "    <tr>\n",
              "      <th>...</th>\n",
              "      <td>...</td>\n",
              "      <td>...</td>\n",
              "      <td>...</td>\n",
              "      <td>...</td>\n",
              "      <td>...</td>\n",
              "    </tr>\n",
              "    <tr>\n",
              "      <th>WSM</th>\n",
              "      <td>{'1999': 2708.0}</td>\n",
              "      <td>{'1999': 6.4, '2014': 4.7}</td>\n",
              "      <td>1.500000e+03</td>\n",
              "      <td>1.000000</td>\n",
              "      <td>Samoa</td>\n",
              "    </tr>\n",
              "    <tr>\n",
              "      <th>YEM</th>\n",
              "      <td>{'1991': 2029.0, '1996': 2034.0, '1997': 2051....</td>\n",
              "      <td>{'1991': 52.4, '1996': 50.4, '1997': 59.3, '20...</td>\n",
              "      <td>2.047079e+03</td>\n",
              "      <td>0.321752</td>\n",
              "      <td>Yemen</td>\n",
              "    </tr>\n",
              "    <tr>\n",
              "      <th>ZAF</th>\n",
              "      <td>{'1994': 2826.0, '1995': 2810.0, '1999': 2835....</td>\n",
              "      <td>{'1994': 31.5, '1995': 28.7, '1999': 30.1, '20...</td>\n",
              "      <td>2.457303e+02</td>\n",
              "      <td>1.584639</td>\n",
              "      <td>South Africa</td>\n",
              "    </tr>\n",
              "    <tr>\n",
              "      <th>ZMB</th>\n",
              "      <td>{'1992': 1983.0, '1995': 2050.0, '1996': 2034....</td>\n",
              "      <td>{'1992': 46.4, '1995': 58.1, '1996': 48.6, '19...</td>\n",
              "      <td>2.700721e-08</td>\n",
              "      <td>7.124829</td>\n",
              "      <td>Zambia</td>\n",
              "    </tr>\n",
              "    <tr>\n",
              "      <th>ZWE</th>\n",
              "      <td>{'1988': 2051.0, '1994': 1931.0, '1999': 1996....</td>\n",
              "      <td>{'1988': 31.0, '1994': 28.5, '1999': 33.7, '20...</td>\n",
              "      <td>1.255498e-07</td>\n",
              "      <td>6.254576</td>\n",
              "      <td>Zimbabwe</td>\n",
              "    </tr>\n",
              "  </tbody>\n",
              "</table>\n",
              "<p>168 rows × 5 columns</p>\n",
              "</div>"
            ],
            "text/plain": [
              "                                                  Food  ...  Country Name\n",
              "AFG   {'1997': 1874.0, '2004': 1967.0, '2013': 2090.0}  ...   Afghanistan\n",
              "AGO                   {'1996': 1731.0, '2007': 2173.0}  ...        Angola\n",
              "ALB  {'1997': 2725.0, '2000': 2734.0, '2005': 2874....  ...       Albania\n",
              "ARE                                                 {}  ...           NaN\n",
              "ARG   {'1994': 3155.0, '1996': 3156.0, '2005': 3107.0}  ...     Argentina\n",
              "..                                                 ...  ...           ...\n",
              "WSM                                   {'1999': 2708.0}  ...         Samoa\n",
              "YEM  {'1991': 2029.0, '1996': 2034.0, '1997': 2051....  ...         Yemen\n",
              "ZAF  {'1994': 2826.0, '1995': 2810.0, '1999': 2835....  ...  South Africa\n",
              "ZMB  {'1992': 1983.0, '1995': 2050.0, '1996': 2034....  ...        Zambia\n",
              "ZWE  {'1988': 2051.0, '1994': 1931.0, '1999': 1996....  ...      Zimbabwe\n",
              "\n",
              "[168 rows x 5 columns]"
            ]
          },
          "metadata": {
            "tags": []
          },
          "execution_count": 91
        }
      ]
    },
    {
      "cell_type": "markdown",
      "metadata": {
        "id": "jsFm8qIP9RhV",
        "colab_type": "text"
      },
      "source": [
        "(1) find all the non-NaN entries in stunting\n",
        "(2) pick out the food average for that year\n",
        "(3) run a non-linear regression (see notebook) to get \\sigma\n",
        "(4) try on some other countries\n",
        "(5) see if those correlate with Gini coefficients"
      ]
    },
    {
      "cell_type": "code",
      "metadata": {
        "id": "eAfaKYjTesUq",
        "colab_type": "code",
        "colab": {}
      },
      "source": [
        "Gini_df = Gini_df.set_index('Country Code')"
      ],
      "execution_count": 0,
      "outputs": []
    },
    {
      "cell_type": "code",
      "metadata": {
        "id": "0HzXxqgUcXkF",
        "colab_type": "code",
        "colab": {
          "base_uri": "https://localhost:8080/",
          "height": 289
        },
        "outputId": "f39d0795-f52e-402e-9584-d59e936c4a38"
      },
      "source": [
        "# Make Gini coefficient average into a dictionary by country code so we can append to our existing df\n",
        "years = [col for col in Gini_df.columns if re.match(r'^\\d{4}$', str(col))]\n",
        "Gini_df['avg'] = Gini_df[years].mean(axis=1)\n",
        "ctry_df['Gini'] = Gini_df['avg']\n",
        "ctry_df.head()"
      ],
      "execution_count": 92,
      "outputs": [
        {
          "output_type": "execute_result",
          "data": {
            "text/html": [
              "<div>\n",
              "<style scoped>\n",
              "    .dataframe tbody tr th:only-of-type {\n",
              "        vertical-align: middle;\n",
              "    }\n",
              "\n",
              "    .dataframe tbody tr th {\n",
              "        vertical-align: top;\n",
              "    }\n",
              "\n",
              "    .dataframe thead th {\n",
              "        text-align: right;\n",
              "    }\n",
              "</style>\n",
              "<table border=\"1\" class=\"dataframe\">\n",
              "  <thead>\n",
              "    <tr style=\"text-align: right;\">\n",
              "      <th></th>\n",
              "      <th>Food</th>\n",
              "      <th>Stunting</th>\n",
              "      <th>Regression x_s</th>\n",
              "      <th>Regression sigma</th>\n",
              "      <th>Country Name</th>\n",
              "      <th>Gini</th>\n",
              "    </tr>\n",
              "  </thead>\n",
              "  <tbody>\n",
              "    <tr>\n",
              "      <th>AFG</th>\n",
              "      <td>{'1997': 1874.0, '2004': 1967.0, '2013': 2090.0}</td>\n",
              "      <td>{'1997': 53.2, '2004': 59.3, '2013': 40.9}</td>\n",
              "      <td>1.285085e-07</td>\n",
              "      <td>7.070699</td>\n",
              "      <td>Afghanistan</td>\n",
              "      <td>NaN</td>\n",
              "    </tr>\n",
              "    <tr>\n",
              "      <th>AGO</th>\n",
              "      <td>{'1996': 1731.0, '2007': 2173.0}</td>\n",
              "      <td>{'1996': 61.7, '2007': 29.2, '2016': 37.6}</td>\n",
              "      <td>1.499114e+03</td>\n",
              "      <td>1.102645</td>\n",
              "      <td>Angola</td>\n",
              "      <td>47.350000</td>\n",
              "    </tr>\n",
              "    <tr>\n",
              "      <th>ALB</th>\n",
              "      <td>{'1997': 2725.0, '2000': 2734.0, '2005': 2874....</td>\n",
              "      <td>{'1997': 20.4, '2000': 39.2, '2005': 27.0, '20...</td>\n",
              "      <td>1.318569e+03</td>\n",
              "      <td>0.664526</td>\n",
              "      <td>Albania</td>\n",
              "      <td>29.660000</td>\n",
              "    </tr>\n",
              "    <tr>\n",
              "      <th>ARE</th>\n",
              "      <td>{}</td>\n",
              "      <td>{}</td>\n",
              "      <td>NaN</td>\n",
              "      <td>NaN</td>\n",
              "      <td>NaN</td>\n",
              "      <td>NaN</td>\n",
              "    </tr>\n",
              "    <tr>\n",
              "      <th>ARG</th>\n",
              "      <td>{'1994': 3155.0, '1996': 3156.0, '2005': 3107.0}</td>\n",
              "      <td>{'1994': 7.1, '1996': 16.9, '2005': 8.2}</td>\n",
              "      <td>1.349569e+02</td>\n",
              "      <td>1.349133</td>\n",
              "      <td>Argentina</td>\n",
              "      <td>46.141379</td>\n",
              "    </tr>\n",
              "  </tbody>\n",
              "</table>\n",
              "</div>"
            ],
            "text/plain": [
              "                                                  Food  ...       Gini\n",
              "AFG   {'1997': 1874.0, '2004': 1967.0, '2013': 2090.0}  ...        NaN\n",
              "AGO                   {'1996': 1731.0, '2007': 2173.0}  ...  47.350000\n",
              "ALB  {'1997': 2725.0, '2000': 2734.0, '2005': 2874....  ...  29.660000\n",
              "ARE                                                 {}  ...        NaN\n",
              "ARG   {'1994': 3155.0, '1996': 3156.0, '2005': 3107.0}  ...  46.141379\n",
              "\n",
              "[5 rows x 6 columns]"
            ]
          },
          "metadata": {
            "tags": []
          },
          "execution_count": 92
        }
      ]
    },
    {
      "cell_type": "code",
      "metadata": {
        "id": "_NYZMXsufT6v",
        "colab_type": "code",
        "colab": {
          "base_uri": "https://localhost:8080/",
          "height": 279
        },
        "outputId": "3ac44a3c-a4f2-45e1-f55d-b9377999425b"
      },
      "source": [
        "\n",
        "\n"
      ],
      "execution_count": 93,
      "outputs": [
        {
          "output_type": "display_data",
          "data": {
            "image/png": "[encoded data removed]",
            "text/plain": [
              "<Figure size 432x288 with 1 Axes>"
            ]
          },
          "metadata": {
            "tags": []
          }
        }
      ]
    },
    {
      "cell_type": "markdown",
      "metadata": {
        "id": "nOS_dCoa5yPQ",
        "colab_type": "text"
      },
      "source": [
        "# Gini vs. Stunting"
      ]
    },
    {
      "cell_type": "code",
      "metadata": {
        "id": "E2XIjjjNqB-4",
        "colab_type": "code",
        "colab": {}
      },
      "source": [
        "# Gini versus stunting\n",
        "Gini_df.set_index(\"Country Code\", inplace=True)\n",
        "stunt_df.set_index(\"Country Code\", inplace=True)\n"
      ],
      "execution_count": 0,
      "outputs": []
    },
    {
      "cell_type": "code",
      "metadata": {
        "id": "AiEa-Wzo2wV7",
        "colab_type": "code",
        "outputId": "99019360-bf3b-413c-94ae-3878454b3071",
        "colab": {
          "base_uri": "https://localhost:8080/",
          "height": 34
        }
      },
      "source": [
        "\n",
        "# cycle through each year, country pair for both sets\n",
        "for i in range(0,len(Gini_df)): # cycles through number of countries\n",
        "  for j in range(1960,2018): # cycles through years"
      ],
      "execution_count": 0,
      "outputs": [
        {
          "output_type": "execute_result",
          "data": {
            "text/plain": [
              "264"
            ]
          },
          "metadata": {
            "tags": []
          },
          "execution_count": 42
        }
      ]
    },
    {
      "cell_type": "code",
      "metadata": {
        "id": "7LRDYjPA1h6X",
        "colab_type": "code",
        "outputId": "eb6689ca-e2d2-41eb-9aea-2b3b0ef49039",
        "colab": {
          "base_uri": "https://localhost:8080/",
          "height": 1000
        }
      },
      "source": [
        "gdp_df.loc['ABW']"
      ],
      "execution_count": 0,
      "outputs": [
        {
          "output_type": "execute_result",
          "data": {
            "text/plain": [
              "Country Name                                         Aruba\n",
              "Indicator Name    GDP, PPP (constant 2011 international $)\n",
              "Indicator Code                           NY.GDP.MKTP.PP.KD\n",
              "1960                                                   NaN\n",
              "1961                                                   NaN\n",
              "1962                                                   NaN\n",
              "1963                                                   NaN\n",
              "1964                                                   NaN\n",
              "1965                                                   NaN\n",
              "1966                                                   NaN\n",
              "1967                                                   NaN\n",
              "1968                                                   NaN\n",
              "1969                                                   NaN\n",
              "1970                                                   NaN\n",
              "1971                                                   NaN\n",
              "1972                                                   NaN\n",
              "1973                                                   NaN\n",
              "1974                                                   NaN\n",
              "1975                                                   NaN\n",
              "1976                                                   NaN\n",
              "1977                                                   NaN\n",
              "1978                                                   NaN\n",
              "1979                                                   NaN\n",
              "1980                                                   NaN\n",
              "1981                                                   NaN\n",
              "1982                                                   NaN\n",
              "1983                                                   NaN\n",
              "1984                                                   NaN\n",
              "1985                                                   NaN\n",
              "1986                                                   NaN\n",
              "                                    ...                   \n",
              "1989                                                   NaN\n",
              "1990                                           2.30822e+09\n",
              "1991                                           2.49202e+09\n",
              "1992                                            2.6386e+09\n",
              "1993                                           2.83143e+09\n",
              "1994                                           3.06371e+09\n",
              "1995                                           3.14175e+09\n",
              "1996                                           3.17901e+09\n",
              "1997                                           3.40303e+09\n",
              "1998                                           3.47081e+09\n",
              "1999                                           3.51378e+09\n",
              "2000                                           3.78141e+09\n",
              "2001                                           3.66906e+09\n",
              "2002                                           3.54895e+09\n",
              "2003                                           3.61906e+09\n",
              "2004                                           3.90538e+09\n",
              "2005                                           3.95281e+09\n",
              "2006                                           3.99433e+09\n",
              "2007                                           4.06624e+09\n",
              "2008                                           4.06255e+09\n",
              "2009                                           3.63518e+09\n",
              "2010                                           3.50123e+09\n",
              "2011                                           3.62188e+09\n",
              "2012                                           3.57226e+09\n",
              "2013                                           3.72224e+09\n",
              "2014                                           3.75381e+09\n",
              "2015                                            3.7369e+09\n",
              "2016                                             3.729e+09\n",
              "2017                                           3.77862e+09\n",
              "2018                                                   NaN\n",
              "Name: ABW, Length: 62, dtype: object"
            ]
          },
          "metadata": {
            "tags": []
          },
          "execution_count": 37
        }
      ]
    },
    {
      "cell_type": "code",
      "metadata": {
        "id": "VyXgvzREqDC3",
        "colab_type": "code",
        "colab": {}
      },
      "source": [
        ""
      ],
      "execution_count": 0,
      "outputs": []
    }
  ]
}