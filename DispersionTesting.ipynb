

DispersionTesting.ipynb
DispersionTesting.ipynb_
The goal here is to investigate whether a Gini coefficient or a combination of Gini coefficients and GDP are good predictors for food consumption; we use stunting prevalence as a metric for food consumption outcomes

[38]

!echo "# usdanutrients" >> README.md
!git init
!git add README.md
!git commit -m "first commit"
!git remote add origin https://github.com/emoceanographer/usdanutrients.git
!git push -u origin master


[1]

import pandas as pd
from pandas import ExcelWriter
from pandas import ExcelFile
​
from scipy import stats
from scipy.optimize import least_squares
import numpy as np
import math
import scipy
import re
import matplotlib.pyplot as plt
import statistics
[2]

from google.colab import drive
drive.mount('/content/drive')


[3]

path = '/content/drive/My Drive/Colab Notebooks/Nutrition/' + 'gini_explore.xls'
[4]

# load the relevant data
gdp_df = pd.read_excel(path, sheet_name='pppGDP', index = 'Country Code')
pop_df = pd.read_excel(path, sheet_name='population', index = 'Country Code')
Gini_df = pd.read_excel(path, sheet_name='GINI', index = 'Country Code')
stunt_df = pd.read_excel(path, sheet_name='stunting', index = 'Country Code')
Tries looking at food supply vs. stunting
[5]

path_fao = '/content/drive/My Drive/Colab Notebooks/Nutrition/' + 'FoodBalanceSheets_E_All_Data.csv'
path_ctry_codes = '/content/drive/My Drive/Colab Notebooks/Nutrition/' + 'fao_ctry_codes.csv'
path_under5 = '/content/drive/My Drive/Colab Notebooks/Nutrition/' + 'percent_under5.csv'
food_df = pd.read_csv(path_fao, encoding='latin')
ctry_codes_df = pd.read_csv(path_ctry_codes)
[6]

'Population ages 00-04, male (% of male population)'
under5_df = pd.read_csv(path_under5) # Also uses ISO3 country codes
# Want: 'Population ages 00-04, female (% of female population)' 
# and 'Population ages 00-04, male (% of male population)'
[7]

supply = food_df[(food_df['Element']=='Food supply (kcal/capita/day)') & (food_df['Item']=='Grand Total')]
[8]

protein_supply = food_df[(food_df['Element']=='Protein supply quantity (g/capita/day)') & (food_df['Item']=='Grand Total')]
[9]

def logn_fun(params, x, y):
  """ Function 'stunting % = 1/2 + 1/2 erf(ln(x_s - (ln(D) - sigma^2/2))/2)', 
  where D is the average food supply per capita, stunting % is the proportion of 
  the population stunted, x_s is the unknown threshold in food supply space below 
  which stunting occurs, and sigma is the standard deviation for a lognormal 
  distribution """
  # let params[0] be x_s, and params[1] be sigma
  thresh_ln = math.log(params[0])
  food_ln = [(math.log(X) - (params[1]**2)/2) for X in x]
  erf_fun = [scipy.special.erf((thresh_ln - food_ln[i])/(2*params[1])) for i in range(0,(len(y)-1))]
  res_fun = [(0.5 + 0.5*erf_fun[i] - y[i]) for i in range(0,(len(y)-1))]
  return res_fun
[10]

def logn_fun_fixed_xs(params, x, y):
  thresh_ln = math.log(50)
  food_ln = [(math.log(X) - (params[0]**2)/2) for X in x]
  erf_fun = [scipy.special.erf((thresh_ln - food_ln[i])/(2*params[0])) for i in range(0,(len(y)-1))]
  res_fun = [(0.5 + 0.5*erf_fun[i] - y[i]) for i in range(0,(len(y)-1))]
  return res_fun
[34]

def ctry_regression(supply,params0,whichfun):
  # Supply uses 'FAOSTAT' ('Area Code' in supply dataframe); stunt_df uses 'ISO3' ('Country Code')
  ctry_list = list(stunt_df['Country Code'].unique())
  ctry_data = {}
  for country in ctry_list:
    ctry_in_FAO = sum(ctry_codes_df['ISO3']==country)
    if ctry_in_FAO > 0: # it exists in FAO's list
      idx = ctry_codes_df.index[ctry_codes_df['ISO3']==country].tolist()
      FAO_area = int(ctry_codes_df.iloc[idx]['FAOSTAT']) # gets FAO area code
      if FAO_area in supply['Area Code'].values:
        ctry_name = list(ctry_codes_df.iloc[idx]['Short name'])[0]
​
        stunt_ctry = stunt_df[stunt_df['Country Code']==country]
        supply_ctry = supply[supply['Area Code']==FAO_area]
        under5_ctry = under5_df[under5_df['Country Code']==country]
        # gets the stunting percentage for years that it exists and the corresponding food amts
        # for those same years
        data = {}
        data['Food'] = {}
        data['Stunting'] = {}
​
        for col in stunt_ctry.columns: 
          if re.match(r'^\d{4}$', str(col)): # if it looks like a year
            temp = stunt_ctry[col]
            if not math.isnan(temp):
              data['Stunting'][str(col)] = float(temp)
              if col < 2014: # FAO data only goes to 2013
                supplyID = 'Y'+str(col)
                if country == 'GNQ':
                  print(supply_ctry)
                data['Food'][str(col)] = float(supply_ctry[supplyID])
​
        # Non-linear fitting
        years = list(data['Food'].keys())
        stunting = []
        food_avg = []
        for x in years:
          if not math.isnan(data['Food'][x]):
            food_avg.append(data['Food'][x])
            stunting.append(data['Stunting'][x]/100)
​
        #print(ctry_name)
        if len(food_avg) > 0:
          if whichfun == 'logn':
            res_lsq = least_squares(logn_fun, params0, args=(food_avg, stunting), loss='soft_l1', bounds = (0,np.inf))
            data['Regression x_s'] = res_lsq.x[0]
            data['Regression sigma'] = res_lsq.x[1]
          if whichfun == 'fixedxs':
            res_lsq = least_squares(logn_fun_fixed_xs, params0[1], args=(food_avg, stunting), loss='soft_l1', bounds = (0,np.inf))
            data['Regression sigma'] = res_lsq.x[1]
          data['Country Name'] = ctry_name
        ctry_data[country] = data
  return ctry_data
​
[35]

ctry_protein_data = ctry_regression(supply,[100,2],'logn')
[ ]

Gini_df = Gini_df.set_index('Country Code')
[ ]

ctry_protein_df = pd.DataFrame.from_dict(ctry_protein_data, orient = 'index')
​
# Make Gini coefficient average into a dictionary by country code so we can append to our existing df
years = [col for col in Gini_df.columns if re.match(r'^\d{4}$', str(col))]
Gini_df['avg'] = Gini_df[years].mean(axis=1)
ctry_protein_df['Gini'] = Gini_df['avg']
​
ctry_protein_df.plot(kind='scatter',x='Gini',y='Regression sigma',color='blue')
plt.show()


[ ]

ctry_protein_df['Regression x_s'].hist(bins=10)
[ ]

ctry_protein_df['Regression sigma'].hist(bins=10)


[ ]

ctry_protein_df.head()


[ ]

​
ctry_slice


[ ]

inner_part
# Makes a plot of a country's distribution
country = 'Afghanistan'
ctry_slice = ctry_protein_df[ctry_protein_df['Country Name']==country]
x_vals = np.arange(.1,80,1)
sig = float(ctry_slice['Regression sigma'])
​
mean_food = statistics.mean([ctry_slice['Food'].values[0][x] for x in ctry_slice['Food'].values[0].keys()])
mu = math.log(mean_food) - sig**2/2
#stp = [1/2 + 1/2*scipy.special.erf((math.log(x) - (math.log(mean_food) - sig**2/2))/(2*sig)) for x in x_vals]
#inner_part = [-(math.log(x) - mu)**2/(2*sig**2) for x in x_vals]
stp = [1/(x*sig*(2*3.14)**.5)*math.exp(-(math.log(x) - mu)**2/(2*sig**2)) for x in x_vals]# here pdf
[ ]

fig, ax = plt.subplots()
ax.plot(x_vals,stp)
ax.set(xlabel = 'protein g/cal/day', ylabel = 'stunting percentage',
       title = country + ' stunting / protein relationship')
ax.grid()
​
plt.show()

[ ]

math.exp(.5)


[ ]

# Supply uses 'FAOSTAT' ('Area Code' in supply dataframe); stunt_df uses 'ISO3' ('Country Code')
ctry_list = list(stunt_df['Country Code'].unique())
ctry_data = {}
for country in ctry_list:
  ctry_in_FAO = sum(ctry_codes_df['ISO3']==country)
  if ctry_in_FAO > 0: # it exists in FAO's list
    idx = ctry_codes_df.index[ctry_codes_df['ISO3']==country].tolist()
    FAO_area = int(ctry_codes_df.iloc[idx]['FAOSTAT']) # gets FAO area code
    if FAO_area in supply['Area Code'].values:
      ctry_name = list(ctry_codes_df.iloc[idx]['Short name'])[0]
​
      stunt_ctry = stunt_df[stunt_df['Country Code']==country]
      supply_ctry = supply[supply['Area Code']==FAO_area]
​
      # gets the stunting percentage for years that it exists and the corresponding food amts
      # for those same years
      data = {}
      data['Food'] = {}
      data['Stunting'] = {}
​
      for col in stunt_ctry.columns: 
        if re.match(r'^\d{4}$', str(col)): # if it looks like a year
          temp = stunt_ctry[col]
          if not math.isnan(temp):
            data['Stunting'][str(col)] = float(temp)
            if col < 2014: # FAO data only goes to 2013
              supplyID = 'Y'+str(col)
              if country == 'GNQ':
                print(supply_ctry)
              data['Food'][str(col)] = float(supply_ctry[supplyID])
              
      # Non-linear fitting
      years = list(data['Food'].keys())
      stunting = []
      food_avg = []
      for x in years:
        if not math.isnan(data['Food'][x]):
          food_avg.append(data['Food'][x])
          stunting.append(data['Stunting'][x]/100)
        
      print(ctry_name)
      params0 = [1500, 1]
      if len(food_avg) > 0:
        res_lsq = least_squares(logn_fun, params0, args=(food_avg, stunting), loss='soft_l1', bounds = (0,np.inf))
        data['Regression x_s'] = res_lsq.x[0]
        data['Regression sigma'] = res_lsq.x[1]
        data['Country Name'] = ctry_name
      ctry_data[country] = data
      
[ ]

ctry_df = pd.DataFrame.from_dict(ctry_data, orient = 'index')
ctry_df
ctry_df = pd.DataFrame.from_dict(ctry_data, orient = 'index')
ctry_df


(1) find all the non-NaN entries in stunting (2) pick out the food average for that year (3) run a non-linear regression (see notebook) to get \sigma (4) try on some other countries (5) see if those correlate with Gini coefficients

[ ]

Gini_df = Gini_df.set_index('Country Code')
Gini_df = Gini_df.set_index('Country Code')
[ ]

# Make Gini coefficient average into a dictionary by country code so we can append to our existing df
years = [col for col in Gini_df.columns if re.match(r'^\d{4}$', str(col))]
Gini_df['avg'] = Gini_df[years].mean(axis=1)
ctry_df['Gini'] = Gini_df['avg']
# Make Gini coefficient average into a dictionary by country code so we can append to our existing df
years = [col for col in Gini_df.columns if re.match(r'^\d{4}$', str(col))]
Gini_df['avg'] = Gini_df[years].mean(axis=1)
ctry_df['Gini'] = Gini_df['avg']
ctry_df.head()


[ ]

​
​
​


Gini vs. Stunting
[ ]

# Gini versus stunting
Gini_df.set_index("Country Code", inplace=True)
stunt_df.set_index("Country Code", inplace=True)
​
[ ]

​
# cycle through each year, country pair for both sets
for i in range(0,len(Gini_df)): # cycles through number of countries
  for j in range(1960,2018): # cycles through years

[ ]

gdp_df.loc['ABW']

[ ]

​
Saved successfully!
