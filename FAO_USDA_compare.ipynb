{
  "nbformat": 4,
  "nbformat_minor": 0,
  "metadata": {
    "colab": {
      "name": "FAO_USDA_compare.ipynb",
      "provenance": [],
      "include_colab_link": true
    },
    "kernelspec": {
      "name": "python3",
      "display_name": "Python 3"
    }
  },
  "cells": [
    {
      "cell_type": "markdown",
      "metadata": {
        "id": "view-in-github",
        "colab_type": "text"
      },
      "source": [
        "<a href=\"https://colab.research.google.com/github/emoceanographer/usdanutrients/blob/master/FAO_USDA_compare.ipynb\" target=\"_parent\"><img src=\"https://colab.research.google.com/assets/colab-badge.svg\" alt=\"Open In Colab\"/></a>"
      ]
    },
    {
      "cell_type": "code",
      "metadata": {
        "id": "HUKBuTqcr98W",
        "colab_type": "code",
        "colab": {
          "base_uri": "https://localhost:8080/",
          "height": 124
        },
        "outputId": "edd8ecd3-d7b8-42a9-ed93-4559121fd171"
      },
      "source": [
        "from google.colab import drive\n",
        "drive.mount('/content/drive')"
      ],
      "execution_count": 2,
      "outputs": [
        {
          "output_type": "stream",
          "text": [
            "Go to this URL in a browser: https://accounts.google.com/o/oauth2/auth?client_id=947318989803-6bn6qk8qdgf4n4g3pfee6491hc0brc4i.apps.googleusercontent.com&redirect_uri=urn%3aietf%3awg%3aoauth%3a2.0%3aoob&response_type=code&scope=email%20https%3a%2f%2fwww.googleapis.com%2fauth%2fdocs.test%20https%3a%2f%2fwww.googleapis.com%2fauth%2fdrive%20https%3a%2f%2fwww.googleapis.com%2fauth%2fdrive.photos.readonly%20https%3a%2f%2fwww.googleapis.com%2fauth%2fpeopleapi.readonly\n",
            "\n",
            "Enter your authorization code:\n",
            "··········\n",
            "Mounted at /content/drive\n"
          ],
          "name": "stdout"
        }
      ]
    },
    {
      "cell_type": "code",
      "metadata": {
        "id": "j2SglRKV3lWn",
        "colab_type": "code",
        "colab": {}
      },
      "source": [
        "import pandas as pd\n",
        "import statistics\n",
        "import numpy as np"
      ],
      "execution_count": 0,
      "outputs": []
    },
    {
      "cell_type": "code",
      "metadata": {
        "id": "tMgZEwMV3awL",
        "colab_type": "code",
        "colab": {}
      },
      "source": [
        "# defines path to load the poore and nemecek data\n",
        "path = '/content/drive/My Drive/Colab Notebooks/Nutrition/'\n",
        "fao_path = path + 'FoodBalanceSheets_E_All_Data.csv'"
      ],
      "execution_count": 0,
      "outputs": []
    },
    {
      "cell_type": "code",
      "metadata": {
        "id": "y8e_62hJ3icW",
        "colab_type": "code",
        "colab": {}
      },
      "source": [
        "# loads the FAO data\n",
        "df = pd.read_csv(fao_path,encoding='latin')"
      ],
      "execution_count": 0,
      "outputs": []
    },
    {
      "cell_type": "code",
      "metadata": {
        "id": "h5hLERwQ3yCU",
        "colab_type": "code",
        "colab": {
          "base_uri": "https://localhost:8080/",
          "height": 139
        },
        "outputId": "b78ff9a0-a6fd-4a4e-a230-3549fac0caba"
      },
      "source": [
        "df.Element.unique()"
      ],
      "execution_count": 25,
      "outputs": [
        {
          "output_type": "execute_result",
          "data": {
            "text/plain": [
              "array(['Total Population - Both sexes', 'Food supply (kcal/capita/day)',\n",
              "       'Protein supply quantity (g/capita/day)',\n",
              "       'Fat supply quantity (g/capita/day)', 'Production',\n",
              "       'Import Quantity', 'Stock Variation', 'Export Quantity',\n",
              "       'Domestic supply quantity', 'Feed', 'Seed', 'Losses', 'Food',\n",
              "       'Food supply quantity (kg/capita/yr)', 'Processing', 'Other uses'],\n",
              "      dtype=object)"
            ]
          },
          "metadata": {
            "tags": []
          },
          "execution_count": 25
        }
      ]
    },
    {
      "cell_type": "code",
      "metadata": {
        "id": "FNKOgnMz4Qs7",
        "colab_type": "code",
        "colab": {}
      },
      "source": [
        "# gets the years for the data in the 'Yyyyy' format\n",
        "years = ['Y'+str(i) for i in range(1961,2013)]"
      ],
      "execution_count": 0,
      "outputs": []
    },
    {
      "cell_type": "code",
      "metadata": {
        "id": "9zFO1zBd-XT_",
        "colab_type": "code",
        "colab": {}
      },
      "source": [
        "def mean_std(vector):\n",
        "  \"\"\"Returns the mean and standard deviation if more than one value; nan otherwise\"\"\"\n",
        "  if len(vector)>0:\n",
        "    avg = statistics.mean(vector)\n",
        "    std = statistics.stdev(vector)\n",
        "  else:\n",
        "    avg = np.nan\n",
        "    std = np.nan\n",
        "  return avg, std"
      ],
      "execution_count": 0,
      "outputs": []
    },
    {
      "cell_type": "code",
      "metadata": {
        "id": "Z0y386ZR3ywz",
        "colab_type": "code",
        "colab": {
          "base_uri": "https://localhost:8080/",
          "height": 1000
        },
        "outputId": "040900bf-1a2f-4cf4-93ec-1457e9613688"
      },
      "source": [
        "food_vals = {}\n",
        "for food in ['Wheat and products']:#df.Item.unique():\n",
        "  for country in df.Area.unique():\n",
        "    if not food in ['Population', 'Grand Total']:\n",
        "      food_mass = df[(df['Item']==food) & (df['Area']==country) & (df['Element']=='Food supply quantity (kg/capita/yr)')][years]\n",
        "      food_cals = df[(df['Item']==food) & (df['Area']==country) & (df['Element']=='Food supply (kcal/capita/day)')][years]\n",
        "      food_protein = df[(df['Item']==food) & (df['Area']==country) & (df['Element']=='Protein supply quantity (g/capita/day)')][years]\n",
        "      cal_temp = []\n",
        "      prot_temp = []\n",
        "      for yr in years:\n",
        "        if len(food_cals[yr])>0 and len(food_mass[yr])>0:\n",
        "          cal_density = food_cals[yr].values[0] / (food_mass[yr].values[0]/365) # kcal/kg\n",
        "          cal_temp.append(cal_density)\n",
        "        if len(food_protein[yr])>0 and len(food_mass[yr])>0:\n",
        "          prot_density = food_protein[yr].values[0] / (food_mass[yr].values[0]/365) # g protein/kg\n",
        "          prot_temp.append(prot_density)\n",
        "      cal_avg, cal_std = mean_std(cal_temp)\n",
        "      prot_avg, prot_std = mean_std(prot_temp)\n",
        "      print([food, cal_avg, cal_std, prot_avg, prot_std])\n",
        "\n",
        "\n",
        "\n",
        "\n",
        "      #df[(df['Item']==food) & (df['Area']==country) & (df['Element']=='Food supply (kcal/capita/day)')][year]"
      ],
      "execution_count": 62,
      "outputs": [
        {
          "output_type": "stream",
          "text": [
            "['Wheat and products', 2996.601172165225, 120.588556821372, 80.81573423189494, 3.2337357584281152]\n",
            "['Wheat and products', 2760.9754833280094, 12.763676267605023, 89.26407237865489, 0.6133755582791128]\n",
            "['Wheat and products', 2802.83709761287, 0.7984624960483648, 84.68649730054189, 0.033639721130158035]\n",
            "['Wheat and products', 2750.7709928811614, 118.13262667045394, 83.2639834617352, 3.5399546112412343]\n",
            "['Wheat and products', 2667.621887939322, 85.14919413800021, 75.66468274221161, 1.896466146831852]\n",
            "['Wheat and products', 2863.062923628444, 236.0377722530698, 76.29295633319508, 6.2837100719517105]\n",
            "['Wheat and products', nan, nan, nan, nan]\n",
            "['Wheat and products', 2870.1172050725345, 42.40514980189366, 102.37136627327578, 6.067697465753647]\n",
            "['Wheat and products', 2871.3733387189895, 78.62318162972812, 93.60919567028463, 2.3590036267694825]\n",
            "['Wheat and products', nan, nan, nan, nan]\n",
            "['Wheat and products', 2780.8305941050185, 205.53281465402512, 74.80874612608501, 3.0847384254358645]\n",
            "['Wheat and products', 3115.896458690218, 8.542848671637087, 90.91828887760124, 0.110371386865915]\n",
            "['Wheat and products', 2790.728832292632, 153.97575360104813, 75.17683677464524, 3.186368053166582]\n",
            "['Wheat and products', nan, nan, nan, nan]\n",
            "['Wheat and products', nan, nan, nan, nan]\n",
            "['Wheat and products', nan, nan, nan, nan]\n",
            "['Wheat and products', 2795.832019389369, 114.78785692215774, 78.5890417142483, 2.3745852705138906]\n",
            "['Wheat and products', 2673.167092854138, 157.77961264724047, 74.81624882302052, 2.821805392214991]\n",
            "['Wheat and products', 2865.701431738616, 323.0422666656616, 75.44833016191787, 3.3594020766417585]\n",
            "['Wheat and products', 2669.3330721912275, 58.585793842691785, 77.31914610954856, 2.0142108148281297]\n",
            "['Wheat and products', nan, nan, nan, nan]\n",
            "['Wheat and products', 3045.21983989376, 139.35513133803704, 90.54076512068339, 2.874938804513333]\n",
            "['Wheat and products', 2630.8227586663365, 30.855294552984763, 70.01838101729486, 0.49953821214394284]\n",
            "['Wheat and products', 3084.649152274678, 597.7240235325784, 77.4997281681625, 11.888385872697677]\n",
            "['Wheat and products', 2610.9919381283717, 22.025338074489763, 82.78110529845138, 0.6916058138964303]\n",
            "['Wheat and products', 2768.9180180897083, 130.6970125138162, 77.18785043123725, 2.451076603552688]\n",
            "['Wheat and products', 2859.7835935975863, 185.54201252470952, 80.28390019824333, 4.367381729645298]\n",
            "['Wheat and products', nan, nan, nan, nan]\n"
          ],
          "name": "stdout"
        },
        {
          "output_type": "stream",
          "text": [
            "/usr/local/lib/python3.6/dist-packages/ipykernel_launcher.py:12: RuntimeWarning: invalid value encountered in double_scalars\n",
            "  if sys.path[0] == '':\n",
            "/usr/local/lib/python3.6/dist-packages/ipykernel_launcher.py:15: RuntimeWarning: invalid value encountered in double_scalars\n",
            "  from ipykernel import kernelapp as app\n"
          ],
          "name": "stderr"
        },
        {
          "output_type": "stream",
          "text": [
            "['Wheat and products', 2745.6568539579125, 46.78515787944831, 77.83616370431089, 1.4209874418909156]\n",
            "['Wheat and products', 2636.631435307432, 68.9072551389648, 85.23341932905755, 2.0488514718956417]\n",
            "['Wheat and products', 2628.9296952440936, 45.42750967678608, 74.19372293753575, 0.9319552661763336]\n",
            "['Wheat and products', 2734.4268377675608, 31.247919084531148, 82.31213418913175, 0.3908052046723259]\n",
            "['Wheat and products', 2945.557301223849, 61.562047771821, 80.3235091108021, 1.254755192876873]\n",
            "['Wheat and products', 2707.754472555971, 93.76212281078108, 67.96086744172902, 0.6363122638912309]\n",
            "['Wheat and products', 2709.147197708316, 87.77269766486708, 73.18588742925232, 2.1469032952093334]\n",
            "['Wheat and products', 3175.325375345436, 43.257435653668004, 101.85808446940798, 2.4562245029632845]\n",
            "['Wheat and products', 2829.516163459729, 80.28778929549543, 87.32609082216378, 1.4852394175854504]\n",
            "['Wheat and products', 2733.7571589857394, 10.568515608278846, 72.78230046403282, 0.060382089888113215]\n",
            "['Wheat and products', 2772.332294662836, 84.24731880745968, 82.84978781138398, 1.5231601422557672]\n",
            "['Wheat and products', 2783.9694340565184, 60.328313913697244, 73.25013801055866, 0.7234890332521025]\n",
            "['Wheat and products', 2840.8940873754127, 109.36465827440057, 84.04801418159886, 3.431517931401093]\n",
            "['Wheat and products', nan, nan, nan, nan]\n",
            "['Wheat and products', 2637.8577497993224, 23.2506151732103, 70.23105529509785, 0.6338637381303952]\n",
            "['Wheat and products', 2842.219604108891, 77.69701090483393, 84.03428132773661, 2.5350545059413805]\n",
            "['Wheat and products', nan, nan, nan, nan]\n",
            "['Wheat and products', nan, nan, nan, nan]\n",
            "['Wheat and products', 2698.683787614158, 5.781985636957916, 76.7643522651484, 0.04659673769522039]\n",
            "['Wheat and products', 2597.5579980578013, 228.1698739242618, 84.04808132276615, 7.605874085554267]\n",
            "['Wheat and products', 2792.59007728985, 158.21781465713786, 86.78914805335509, 14.319378795007323]\n",
            "['Wheat and products', 2654.128124529679, 48.76358853368498, 75.09671613003867, 0.5933205669703204]\n",
            "['Wheat and products', 2701.2463233683593, 43.277978439804635, 85.78177626109094, 2.9459293648163904]\n",
            "['Wheat and products', 2751.783585941135, 37.67982226152181, 73.06807486549756, 0.7492359786814923]\n",
            "['Wheat and products', 2919.2218965831553, 0.9857001618499356, 88.5537497193495, 0.015098751321634853]\n",
            "['Wheat and products', 2952.9037868558594, 74.46354902062562, 78.39362874890944, 1.755284539114965]\n",
            "['Wheat and products', nan, nan, nan, nan]\n",
            "['Wheat and products', nan, nan, nan, nan]\n"
          ],
          "name": "stdout"
        },
        {
          "output_type": "error",
          "ename": "KeyboardInterrupt",
          "evalue": "ignored",
          "traceback": [
            "\u001b[0;31m---------------------------------------------------------------------------\u001b[0m",
            "\u001b[0;31mKeyboardInterrupt\u001b[0m                         Traceback (most recent call last)",
            "\u001b[0;32m<ipython-input-62-a9b1b655faa5>\u001b[0m in \u001b[0;36m<module>\u001b[0;34m()\u001b[0m\n\u001b[1;32m      4\u001b[0m     \u001b[0;32mif\u001b[0m \u001b[0;32mnot\u001b[0m \u001b[0mfood\u001b[0m \u001b[0;32min\u001b[0m \u001b[0;34m[\u001b[0m\u001b[0;34m'Population'\u001b[0m\u001b[0;34m,\u001b[0m \u001b[0;34m'Grand Total'\u001b[0m\u001b[0;34m]\u001b[0m\u001b[0;34m:\u001b[0m\u001b[0;34m\u001b[0m\u001b[0;34m\u001b[0m\u001b[0m\n\u001b[1;32m      5\u001b[0m       \u001b[0mfood_mass\u001b[0m \u001b[0;34m=\u001b[0m \u001b[0mdf\u001b[0m\u001b[0;34m[\u001b[0m\u001b[0;34m(\u001b[0m\u001b[0mdf\u001b[0m\u001b[0;34m[\u001b[0m\u001b[0;34m'Item'\u001b[0m\u001b[0;34m]\u001b[0m\u001b[0;34m==\u001b[0m\u001b[0mfood\u001b[0m\u001b[0;34m)\u001b[0m \u001b[0;34m&\u001b[0m \u001b[0;34m(\u001b[0m\u001b[0mdf\u001b[0m\u001b[0;34m[\u001b[0m\u001b[0;34m'Area'\u001b[0m\u001b[0;34m]\u001b[0m\u001b[0;34m==\u001b[0m\u001b[0mcountry\u001b[0m\u001b[0;34m)\u001b[0m \u001b[0;34m&\u001b[0m \u001b[0;34m(\u001b[0m\u001b[0mdf\u001b[0m\u001b[0;34m[\u001b[0m\u001b[0;34m'Element'\u001b[0m\u001b[0;34m]\u001b[0m\u001b[0;34m==\u001b[0m\u001b[0;34m'Food supply quantity (kg/capita/yr)'\u001b[0m\u001b[0;34m)\u001b[0m\u001b[0;34m]\u001b[0m\u001b[0;34m[\u001b[0m\u001b[0myears\u001b[0m\u001b[0;34m]\u001b[0m\u001b[0;34m\u001b[0m\u001b[0;34m\u001b[0m\u001b[0m\n\u001b[0;32m----> 6\u001b[0;31m       \u001b[0mfood_cals\u001b[0m \u001b[0;34m=\u001b[0m \u001b[0mdf\u001b[0m\u001b[0;34m[\u001b[0m\u001b[0;34m(\u001b[0m\u001b[0mdf\u001b[0m\u001b[0;34m[\u001b[0m\u001b[0;34m'Item'\u001b[0m\u001b[0;34m]\u001b[0m\u001b[0;34m==\u001b[0m\u001b[0mfood\u001b[0m\u001b[0;34m)\u001b[0m \u001b[0;34m&\u001b[0m \u001b[0;34m(\u001b[0m\u001b[0mdf\u001b[0m\u001b[0;34m[\u001b[0m\u001b[0;34m'Area'\u001b[0m\u001b[0;34m]\u001b[0m\u001b[0;34m==\u001b[0m\u001b[0mcountry\u001b[0m\u001b[0;34m)\u001b[0m \u001b[0;34m&\u001b[0m \u001b[0;34m(\u001b[0m\u001b[0mdf\u001b[0m\u001b[0;34m[\u001b[0m\u001b[0;34m'Element'\u001b[0m\u001b[0;34m]\u001b[0m\u001b[0;34m==\u001b[0m\u001b[0;34m'Food supply (kcal/capita/day)'\u001b[0m\u001b[0;34m)\u001b[0m\u001b[0;34m]\u001b[0m\u001b[0;34m[\u001b[0m\u001b[0myears\u001b[0m\u001b[0;34m]\u001b[0m\u001b[0;34m\u001b[0m\u001b[0;34m\u001b[0m\u001b[0m\n\u001b[0m\u001b[1;32m      7\u001b[0m       \u001b[0mfood_protein\u001b[0m \u001b[0;34m=\u001b[0m \u001b[0mdf\u001b[0m\u001b[0;34m[\u001b[0m\u001b[0;34m(\u001b[0m\u001b[0mdf\u001b[0m\u001b[0;34m[\u001b[0m\u001b[0;34m'Item'\u001b[0m\u001b[0;34m]\u001b[0m\u001b[0;34m==\u001b[0m\u001b[0mfood\u001b[0m\u001b[0;34m)\u001b[0m \u001b[0;34m&\u001b[0m \u001b[0;34m(\u001b[0m\u001b[0mdf\u001b[0m\u001b[0;34m[\u001b[0m\u001b[0;34m'Area'\u001b[0m\u001b[0;34m]\u001b[0m\u001b[0;34m==\u001b[0m\u001b[0mcountry\u001b[0m\u001b[0;34m)\u001b[0m \u001b[0;34m&\u001b[0m \u001b[0;34m(\u001b[0m\u001b[0mdf\u001b[0m\u001b[0;34m[\u001b[0m\u001b[0;34m'Element'\u001b[0m\u001b[0;34m]\u001b[0m\u001b[0;34m==\u001b[0m\u001b[0;34m'Protein supply quantity (g/capita/day)'\u001b[0m\u001b[0;34m)\u001b[0m\u001b[0;34m]\u001b[0m\u001b[0;34m[\u001b[0m\u001b[0myears\u001b[0m\u001b[0;34m]\u001b[0m\u001b[0;34m\u001b[0m\u001b[0;34m\u001b[0m\u001b[0m\n\u001b[1;32m      8\u001b[0m       \u001b[0mcal_temp\u001b[0m \u001b[0;34m=\u001b[0m \u001b[0;34m[\u001b[0m\u001b[0;34m]\u001b[0m\u001b[0;34m\u001b[0m\u001b[0;34m\u001b[0m\u001b[0m\n",
            "\u001b[0;32m/usr/local/lib/python3.6/dist-packages/pandas/core/frame.py\u001b[0m in \u001b[0;36m__getitem__\u001b[0;34m(self, key)\u001b[0m\n\u001b[1;32m   2999\u001b[0m             \u001b[0;32mif\u001b[0m \u001b[0mis_iterator\u001b[0m\u001b[0;34m(\u001b[0m\u001b[0mkey\u001b[0m\u001b[0;34m)\u001b[0m\u001b[0;34m:\u001b[0m\u001b[0;34m\u001b[0m\u001b[0;34m\u001b[0m\u001b[0m\n\u001b[1;32m   3000\u001b[0m                 \u001b[0mkey\u001b[0m \u001b[0;34m=\u001b[0m \u001b[0mlist\u001b[0m\u001b[0;34m(\u001b[0m\u001b[0mkey\u001b[0m\u001b[0;34m)\u001b[0m\u001b[0;34m\u001b[0m\u001b[0;34m\u001b[0m\u001b[0m\n\u001b[0;32m-> 3001\u001b[0;31m             \u001b[0mindexer\u001b[0m \u001b[0;34m=\u001b[0m \u001b[0mself\u001b[0m\u001b[0;34m.\u001b[0m\u001b[0mloc\u001b[0m\u001b[0;34m.\u001b[0m\u001b[0m_convert_to_indexer\u001b[0m\u001b[0;34m(\u001b[0m\u001b[0mkey\u001b[0m\u001b[0;34m,\u001b[0m \u001b[0maxis\u001b[0m\u001b[0;34m=\u001b[0m\u001b[0;36m1\u001b[0m\u001b[0;34m,\u001b[0m \u001b[0mraise_missing\u001b[0m\u001b[0;34m=\u001b[0m\u001b[0;32mTrue\u001b[0m\u001b[0;34m)\u001b[0m\u001b[0;34m\u001b[0m\u001b[0;34m\u001b[0m\u001b[0m\n\u001b[0m\u001b[1;32m   3002\u001b[0m \u001b[0;34m\u001b[0m\u001b[0m\n\u001b[1;32m   3003\u001b[0m         \u001b[0;31m# take() does not accept boolean indexers\u001b[0m\u001b[0;34m\u001b[0m\u001b[0;34m\u001b[0m\u001b[0;34m\u001b[0m\u001b[0m\n",
            "\u001b[0;32m/usr/local/lib/python3.6/dist-packages/pandas/core/indexing.py\u001b[0m in \u001b[0;36m_convert_to_indexer\u001b[0;34m(self, obj, axis, is_setter, raise_missing)\u001b[0m\n\u001b[1;32m   1283\u001b[0m                 \u001b[0;31m# When setting, missing keys are not allowed, even with .loc:\u001b[0m\u001b[0;34m\u001b[0m\u001b[0;34m\u001b[0m\u001b[0;34m\u001b[0m\u001b[0m\n\u001b[1;32m   1284\u001b[0m                 \u001b[0mkwargs\u001b[0m \u001b[0;34m=\u001b[0m \u001b[0;34m{\u001b[0m\u001b[0;34m\"raise_missing\"\u001b[0m\u001b[0;34m:\u001b[0m \u001b[0;32mTrue\u001b[0m \u001b[0;32mif\u001b[0m \u001b[0mis_setter\u001b[0m \u001b[0;32melse\u001b[0m \u001b[0mraise_missing\u001b[0m\u001b[0;34m}\u001b[0m\u001b[0;34m\u001b[0m\u001b[0;34m\u001b[0m\u001b[0m\n\u001b[0;32m-> 1285\u001b[0;31m                 \u001b[0;32mreturn\u001b[0m \u001b[0mself\u001b[0m\u001b[0;34m.\u001b[0m\u001b[0m_get_listlike_indexer\u001b[0m\u001b[0;34m(\u001b[0m\u001b[0mobj\u001b[0m\u001b[0;34m,\u001b[0m \u001b[0maxis\u001b[0m\u001b[0;34m,\u001b[0m \u001b[0;34m**\u001b[0m\u001b[0mkwargs\u001b[0m\u001b[0;34m)\u001b[0m\u001b[0;34m[\u001b[0m\u001b[0;36m1\u001b[0m\u001b[0;34m]\u001b[0m\u001b[0;34m\u001b[0m\u001b[0;34m\u001b[0m\u001b[0m\n\u001b[0m\u001b[1;32m   1286\u001b[0m         \u001b[0;32melse\u001b[0m\u001b[0;34m:\u001b[0m\u001b[0;34m\u001b[0m\u001b[0;34m\u001b[0m\u001b[0m\n\u001b[1;32m   1287\u001b[0m             \u001b[0;32mtry\u001b[0m\u001b[0;34m:\u001b[0m\u001b[0;34m\u001b[0m\u001b[0;34m\u001b[0m\u001b[0m\n",
            "\u001b[0;32m/usr/local/lib/python3.6/dist-packages/pandas/core/indexing.py\u001b[0m in \u001b[0;36m_get_listlike_indexer\u001b[0;34m(self, key, axis, raise_missing)\u001b[0m\n\u001b[1;32m   1085\u001b[0m                 \u001b[0mkey\u001b[0m \u001b[0;34m=\u001b[0m \u001b[0mself\u001b[0m\u001b[0;34m.\u001b[0m\u001b[0m_convert_for_reindex\u001b[0m\u001b[0;34m(\u001b[0m\u001b[0mkey\u001b[0m\u001b[0;34m,\u001b[0m \u001b[0maxis\u001b[0m\u001b[0;34m)\u001b[0m\u001b[0;34m\u001b[0m\u001b[0;34m\u001b[0m\u001b[0m\n\u001b[1;32m   1086\u001b[0m             \u001b[0mindexer\u001b[0m \u001b[0;34m=\u001b[0m \u001b[0max\u001b[0m\u001b[0;34m.\u001b[0m\u001b[0mget_indexer_for\u001b[0m\u001b[0;34m(\u001b[0m\u001b[0mkey\u001b[0m\u001b[0;34m)\u001b[0m\u001b[0;34m\u001b[0m\u001b[0;34m\u001b[0m\u001b[0m\n\u001b[0;32m-> 1087\u001b[0;31m             \u001b[0mkeyarr\u001b[0m \u001b[0;34m=\u001b[0m \u001b[0max\u001b[0m\u001b[0;34m.\u001b[0m\u001b[0mreindex\u001b[0m\u001b[0;34m(\u001b[0m\u001b[0mkeyarr\u001b[0m\u001b[0;34m)\u001b[0m\u001b[0;34m[\u001b[0m\u001b[0;36m0\u001b[0m\u001b[0;34m]\u001b[0m\u001b[0;34m\u001b[0m\u001b[0;34m\u001b[0m\u001b[0m\n\u001b[0m\u001b[1;32m   1088\u001b[0m         \u001b[0;32melse\u001b[0m\u001b[0;34m:\u001b[0m\u001b[0;34m\u001b[0m\u001b[0;34m\u001b[0m\u001b[0m\n\u001b[1;32m   1089\u001b[0m             \u001b[0mkeyarr\u001b[0m\u001b[0;34m,\u001b[0m \u001b[0mindexer\u001b[0m\u001b[0;34m,\u001b[0m \u001b[0mnew_indexer\u001b[0m \u001b[0;34m=\u001b[0m \u001b[0max\u001b[0m\u001b[0;34m.\u001b[0m\u001b[0m_reindex_non_unique\u001b[0m\u001b[0;34m(\u001b[0m\u001b[0mkeyarr\u001b[0m\u001b[0;34m)\u001b[0m\u001b[0;34m\u001b[0m\u001b[0;34m\u001b[0m\u001b[0m\n",
            "\u001b[0;32m/usr/local/lib/python3.6/dist-packages/pandas/core/indexes/base.py\u001b[0m in \u001b[0;36mreindex\u001b[0;34m(self, target, method, level, limit, tolerance)\u001b[0m\n\u001b[1;32m   3400\u001b[0m             )\n\u001b[1;32m   3401\u001b[0m         \u001b[0;32melse\u001b[0m\u001b[0;34m:\u001b[0m\u001b[0;34m\u001b[0m\u001b[0;34m\u001b[0m\u001b[0m\n\u001b[0;32m-> 3402\u001b[0;31m             \u001b[0;32mif\u001b[0m \u001b[0mself\u001b[0m\u001b[0;34m.\u001b[0m\u001b[0mequals\u001b[0m\u001b[0;34m(\u001b[0m\u001b[0mtarget\u001b[0m\u001b[0;34m)\u001b[0m\u001b[0;34m:\u001b[0m\u001b[0;34m\u001b[0m\u001b[0;34m\u001b[0m\u001b[0m\n\u001b[0m\u001b[1;32m   3403\u001b[0m                 \u001b[0mindexer\u001b[0m \u001b[0;34m=\u001b[0m \u001b[0;32mNone\u001b[0m\u001b[0;34m\u001b[0m\u001b[0;34m\u001b[0m\u001b[0m\n\u001b[1;32m   3404\u001b[0m             \u001b[0;32melse\u001b[0m\u001b[0;34m:\u001b[0m\u001b[0;34m\u001b[0m\u001b[0;34m\u001b[0m\u001b[0m\n",
            "\u001b[0;32m/usr/local/lib/python3.6/dist-packages/pandas/core/indexes/base.py\u001b[0m in \u001b[0;36mequals\u001b[0;34m(self, other)\u001b[0m\n\u001b[1;32m   4397\u001b[0m         \u001b[0;32mtry\u001b[0m\u001b[0;34m:\u001b[0m\u001b[0;34m\u001b[0m\u001b[0;34m\u001b[0m\u001b[0m\n\u001b[1;32m   4398\u001b[0m             return array_equivalent(\n\u001b[0;32m-> 4399\u001b[0;31m                 \u001b[0mcom\u001b[0m\u001b[0;34m.\u001b[0m\u001b[0mvalues_from_object\u001b[0m\u001b[0;34m(\u001b[0m\u001b[0mself\u001b[0m\u001b[0;34m)\u001b[0m\u001b[0;34m,\u001b[0m \u001b[0mcom\u001b[0m\u001b[0;34m.\u001b[0m\u001b[0mvalues_from_object\u001b[0m\u001b[0;34m(\u001b[0m\u001b[0mother\u001b[0m\u001b[0;34m)\u001b[0m\u001b[0;34m\u001b[0m\u001b[0;34m\u001b[0m\u001b[0m\n\u001b[0m\u001b[1;32m   4400\u001b[0m             )\n\u001b[1;32m   4401\u001b[0m         \u001b[0;32mexcept\u001b[0m \u001b[0mException\u001b[0m\u001b[0;34m:\u001b[0m\u001b[0;34m\u001b[0m\u001b[0;34m\u001b[0m\u001b[0m\n",
            "\u001b[0;32mpandas/_libs/lib.pyx\u001b[0m in \u001b[0;36mpandas._libs.lib.values_from_object\u001b[0;34m()\u001b[0m\n",
            "\u001b[0;32m/usr/local/lib/python3.6/dist-packages/pandas/core/indexes/base.py\u001b[0m in \u001b[0;36m_internal_get_values\u001b[0;34m(self)\u001b[0m\n\u001b[1;32m   4004\u001b[0m         \u001b[0;32mreturn\u001b[0m \u001b[0mself\u001b[0m\u001b[0;34m.\u001b[0m\u001b[0m_internal_get_values\u001b[0m\u001b[0;34m(\u001b[0m\u001b[0;34m)\u001b[0m\u001b[0;34m\u001b[0m\u001b[0;34m\u001b[0m\u001b[0m\n\u001b[1;32m   4005\u001b[0m \u001b[0;34m\u001b[0m\u001b[0m\n\u001b[0;32m-> 4006\u001b[0;31m     \u001b[0;32mdef\u001b[0m \u001b[0m_internal_get_values\u001b[0m\u001b[0;34m(\u001b[0m\u001b[0mself\u001b[0m\u001b[0;34m)\u001b[0m\u001b[0;34m:\u001b[0m\u001b[0;34m\u001b[0m\u001b[0;34m\u001b[0m\u001b[0m\n\u001b[0m\u001b[1;32m   4007\u001b[0m         \u001b[0;32mreturn\u001b[0m \u001b[0mself\u001b[0m\u001b[0;34m.\u001b[0m\u001b[0mvalues\u001b[0m\u001b[0;34m\u001b[0m\u001b[0;34m\u001b[0m\u001b[0m\n\u001b[1;32m   4008\u001b[0m \u001b[0;34m\u001b[0m\u001b[0m\n",
            "\u001b[0;31mKeyboardInterrupt\u001b[0m: "
          ]
        }
      ]
    },
    {
      "cell_type": "code",
      "metadata": {
        "id": "k40_o2aC5HyU",
        "colab_type": "code",
        "colab": {
          "base_uri": "https://localhost:8080/",
          "height": 69
        },
        "outputId": "a0f50351-bd6f-4f16-af47-6a9844ec77e0"
      },
      "source": [
        "food_mass"
      ],
      "execution_count": 20,
      "outputs": [
        {
          "output_type": "execute_result",
          "data": {
            "text/html": [
              "<div>\n",
              "<style scoped>\n",
              "    .dataframe tbody tr th:only-of-type {\n",
              "        vertical-align: middle;\n",
              "    }\n",
              "\n",
              "    .dataframe tbody tr th {\n",
              "        vertical-align: top;\n",
              "    }\n",
              "\n",
              "    .dataframe thead th {\n",
              "        text-align: right;\n",
              "    }\n",
              "</style>\n",
              "<table border=\"1\" class=\"dataframe\">\n",
              "  <thead>\n",
              "    <tr style=\"text-align: right;\">\n",
              "      <th></th>\n",
              "      <th>Y1961</th>\n",
              "      <th>Y1962</th>\n",
              "      <th>Y1963</th>\n",
              "      <th>Y1964</th>\n",
              "      <th>Y1965</th>\n",
              "      <th>Y1966</th>\n",
              "      <th>Y1967</th>\n",
              "      <th>Y1968</th>\n",
              "      <th>Y1969</th>\n",
              "      <th>Y1970</th>\n",
              "      <th>Y1971</th>\n",
              "      <th>Y1972</th>\n",
              "      <th>Y1973</th>\n",
              "      <th>Y1974</th>\n",
              "      <th>Y1975</th>\n",
              "      <th>Y1976</th>\n",
              "      <th>Y1977</th>\n",
              "      <th>Y1978</th>\n",
              "      <th>Y1979</th>\n",
              "      <th>Y1980</th>\n",
              "      <th>Y1981</th>\n",
              "      <th>Y1982</th>\n",
              "      <th>Y1983</th>\n",
              "      <th>Y1984</th>\n",
              "      <th>Y1985</th>\n",
              "      <th>Y1986</th>\n",
              "      <th>Y1987</th>\n",
              "      <th>Y1988</th>\n",
              "      <th>Y1989</th>\n",
              "      <th>Y1990</th>\n",
              "      <th>Y1991</th>\n",
              "      <th>Y1992</th>\n",
              "      <th>Y1993</th>\n",
              "      <th>Y1994</th>\n",
              "      <th>Y1995</th>\n",
              "      <th>Y1996</th>\n",
              "      <th>Y1997</th>\n",
              "      <th>Y1998</th>\n",
              "      <th>Y1999</th>\n",
              "      <th>Y2000</th>\n",
              "      <th>Y2001</th>\n",
              "      <th>Y2002</th>\n",
              "      <th>Y2003</th>\n",
              "      <th>Y2004</th>\n",
              "      <th>Y2005</th>\n",
              "      <th>Y2006</th>\n",
              "      <th>Y2007</th>\n",
              "      <th>Y2008</th>\n",
              "      <th>Y2009</th>\n",
              "      <th>Y2010</th>\n",
              "      <th>Y2011</th>\n",
              "      <th>Y2012</th>\n",
              "    </tr>\n",
              "  </thead>\n",
              "  <tbody>\n",
              "  </tbody>\n",
              "</table>\n",
              "</div>"
            ],
            "text/plain": [
              "Empty DataFrame\n",
              "Columns: [Y1961, Y1962, Y1963, Y1964, Y1965, Y1966, Y1967, Y1968, Y1969, Y1970, Y1971, Y1972, Y1973, Y1974, Y1975, Y1976, Y1977, Y1978, Y1979, Y1980, Y1981, Y1982, Y1983, Y1984, Y1985, Y1986, Y1987, Y1988, Y1989, Y1990, Y1991, Y1992, Y1993, Y1994, Y1995, Y1996, Y1997, Y1998, Y1999, Y2000, Y2001, Y2002, Y2003, Y2004, Y2005, Y2006, Y2007, Y2008, Y2009, Y2010, Y2011, Y2012]\n",
              "Index: []"
            ]
          },
          "metadata": {
            "tags": []
          },
          "execution_count": 20
        }
      ]
    },
    {
      "cell_type": "code",
      "metadata": {
        "id": "l-GEzIQg5NUs",
        "colab_type": "code",
        "colab": {
          "base_uri": "https://localhost:8080/",
          "height": 34
        },
        "outputId": "ccdcbce3-733d-43c1-b191-dcb5ec244de6"
      },
      "source": [
        "food"
      ],
      "execution_count": 21,
      "outputs": [
        {
          "output_type": "execute_result",
          "data": {
            "text/plain": [
              "'Alcohol, Non-Food'"
            ]
          },
          "metadata": {
            "tags": []
          },
          "execution_count": 21
        }
      ]
    },
    {
      "cell_type": "code",
      "metadata": {
        "id": "PiVOSHQd5Osl",
        "colab_type": "code",
        "colab": {}
      },
      "source": [
        ""
      ],
      "execution_count": 0,
      "outputs": []
    }
  ]
}