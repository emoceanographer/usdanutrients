{
  "nbformat": 4,
  "nbformat_minor": 0,
  "metadata": {
    "colab": {
      "name": "Dietary_Sufficiency.ipynb",
      "provenance": [],
      "collapsed_sections": [],
      "include_colab_link": true
    },
    "kernelspec": {
      "name": "python3",
      "display_name": "Python 3"
    }
  },
  "cells": [
    {
      "cell_type": "markdown",
      "metadata": {
        "id": "view-in-github",
        "colab_type": "text"
      },
      "source": [
        "<a href=\"https://colab.research.google.com/github/emoceanographer/usdanutrients/blob/master/Dietary_Sufficiency.ipynb\" target=\"_parent\"><img src=\"https://colab.research.google.com/assets/colab-badge.svg\" alt=\"Open In Colab\"/></a>"
      ]
    },
    {
      "cell_type": "markdown",
      "metadata": {
        "id": "bTr_0pOXNh2n",
        "colab_type": "text"
      },
      "source": [
        "#Calculate dietary sufficiency for current diet\n",
        "(1) get 2011-2013 average of current diet from FBS; include only protein rich foods (kg/capita/yr; protein/cap/day)\n",
        "(2) use database to grab AA content (cooked) for each food group (10 + bulk) (g/100g)\n",
        "(3) multiply to get total AA content per food group (g/capita/day)\n",
        "(4) remove 33%(?) for loss and waste\n",
        "(5) Get standardized digestibilities (WORK) for each food\n",
        "(6) multiply AA amount by digestibility (g/cap/day)\n"
      ]
    },
    {
      "cell_type": "code",
      "metadata": {
        "id": "XTKFrP2oNe0O",
        "colab_type": "code",
        "outputId": "addce81f-5825-4a11-cdc6-c096ef4f36f2",
        "colab": {
          "base_uri": "https://localhost:8080/",
          "height": 122
        }
      },
      "source": [
        "from google.colab import drive\n",
        "drive.mount('/content/drive')"
      ],
      "execution_count": 1,
      "outputs": [
        {
          "output_type": "stream",
          "text": [
            "Go to this URL in a browser: https://accounts.google.com/o/oauth2/auth?client_id=947318989803-6bn6qk8qdgf4n4g3pfee6491hc0brc4i.apps.googleusercontent.com&redirect_uri=urn%3aietf%3awg%3aoauth%3a2.0%3aoob&response_type=code&scope=email%20https%3a%2f%2fwww.googleapis.com%2fauth%2fdocs.test%20https%3a%2f%2fwww.googleapis.com%2fauth%2fdrive%20https%3a%2f%2fwww.googleapis.com%2fauth%2fdrive.photos.readonly%20https%3a%2f%2fwww.googleapis.com%2fauth%2fpeopleapi.readonly\n",
            "\n",
            "Enter your authorization code:\n",
            "··········\n",
            "Mounted at /content/drive\n"
          ],
          "name": "stdout"
        }
      ]
    },
    {
      "cell_type": "code",
      "metadata": {
        "id": "ORnoevoBO2-a",
        "colab_type": "code",
        "colab": {}
      },
      "source": [
        "# import necessary packages\n",
        "import pandas as pd\n",
        "import re\n",
        "import statistics as stat\n",
        "import numpy as np"
      ],
      "execution_count": 0,
      "outputs": []
    },
    {
      "cell_type": "code",
      "metadata": {
        "id": "GO_n5K6oOmuE",
        "colab_type": "code",
        "colab": {}
      },
      "source": [
        "# defines path to load the poore and nemecek data\n",
        "path = '/content/drive/My Drive/Colab Notebooks/Nutrition/'\n",
        "fao_path = path + 'FoodBalanceSheets_E_All_Data.csv' # Poore & Nemecek database tab; values only\n",
        "nutr_path = path + 'nutrient_output_1126.csv'\n",
        "dig_path = path + 'digestibility_aa.csv'\n",
        "cats_path = path + 'FAO_food_categories.xlsx'"
      ],
      "execution_count": 0,
      "outputs": []
    },
    {
      "cell_type": "markdown",
      "metadata": {
        "id": "mgjLpCX1EVFV",
        "colab_type": "text"
      },
      "source": [
        "## (1) Gets country diet from FBS\n",
        "FAO \"Food\" = Production + Import Quantity - Seed - Losses; food supply is then divided by number of people. \"On the utilization side a distinction is made between the quantities exported, fed to livestock, used for seed, put to manufacture for food use and non-food uses, losses during storage and transportation, and food supplies available for human consumption.\""
      ]
    },
    {
      "cell_type": "code",
      "metadata": {
        "id": "2_sqtO0GO18C",
        "colab_type": "code",
        "colab": {}
      },
      "source": [
        "# loads the data as a pandas dataframe\n",
        "fao_data = pd.read_csv(fao_path,encoding = 'latin')"
      ],
      "execution_count": 0,
      "outputs": []
    },
    {
      "cell_type": "code",
      "metadata": {
        "id": "pYiAZ78TD2FY",
        "colab_type": "code",
        "colab": {}
      },
      "source": [
        "# loads the nutrient data we calculated\n",
        "nutrient_data = pd.read_csv(nutr_path)"
      ],
      "execution_count": 0,
      "outputs": []
    },
    {
      "cell_type": "code",
      "metadata": {
        "id": "MryMVWUmCYep",
        "colab_type": "code",
        "colab": {}
      },
      "source": [
        "# Fixes items that don't match FBS\n",
        "nutrient_data = nutrient_data.replace('wheat', 'Wheat and products')\n",
        "nutrient_data = nutrient_data.replace('Butter ghee', 'Butter, Ghee')\n",
        "nutrient_data = nutrient_data.replace('Meat Aquatic Mammals', 'Meat, Aquatic Mammals')\n",
        "nutrient_data = nutrient_data.replace('Fish Body Oil', 'Fish, Body Oil')"
      ],
      "execution_count": 0,
      "outputs": []
    },
    {
      "cell_type": "code",
      "metadata": {
        "id": "6yyBnpFqndun",
        "colab_type": "code",
        "colab": {}
      },
      "source": [
        "dig_data = pd.read_csv(dig_path)\n",
        "dig_data = dig_data.replace('-', np.nan)\n",
        "dig_data = dig_data.replace('Butter ghee', 'Butter, Ghee')\n",
        "dig_data = dig_data.replace('Meat Aquatic Mammals', 'Meat, Aquatic Mammals')\n",
        "dig_data = dig_data.replace('Fish Body Oil', 'Fish, Body Oil')\n",
        "dig_data = dig_data.replace('wheat', 'Wheat and products')"
      ],
      "execution_count": 0,
      "outputs": []
    },
    {
      "cell_type": "code",
      "metadata": {
        "id": "VHTYf0l9MueA",
        "colab_type": "code",
        "colab": {}
      },
      "source": [
        "ctry_list = list(fao_data.Area.unique())"
      ],
      "execution_count": 0,
      "outputs": []
    },
    {
      "cell_type": "code",
      "metadata": {
        "id": "qNCYZ8iGS7Sg",
        "colab_type": "code",
        "colab": {}
      },
      "source": [
        "foods_cat = pd.read_excel(cats_path)\n",
        "fao_foods = list(foods_cat.Item.unique()) # this is the FAO list"
      ],
      "execution_count": 0,
      "outputs": []
    },
    {
      "cell_type": "code",
      "metadata": {
        "id": "rnhfExNNQiQz",
        "colab_type": "code",
        "colab": {}
      },
      "source": [
        "def country_diet(country, temp):\n",
        "  \"\"\"Gets the food supply for all foods within a country for 2011-2013\"\"\"\n",
        "  ctry_diet = {}\n",
        "  df_ctry = fao_data[fao_data['Area']==country]\n",
        "  # foods to go through (from our nutrient calculations)\n",
        "  foods = list(nutrient_data.food.unique()) # goes through the smaller list of foods\n",
        "  for item in foods: \n",
        "    #temp = df_ctry[(df_ctry['Item'].str.lower()==item.lower())]\n",
        "    temp = df_ctry[(df_ctry['Item'].str.lower().isin([item.lower()])) & \n",
        "                    (df_ctry['Element']=='Food supply quantity (kg/capita/yr)')][['Y2011','Y2012','Y2013']]\n",
        "\n",
        "    amt = list(pd.DataFrame.mean(temp,axis=1)) # takes the average across years\n",
        "    if amt:\n",
        "      ctry_diet[item] = amt[0]\n",
        "    else:\n",
        "      ctry_diet[item] = np.nan\n",
        "  return ctry_diet"
      ],
      "execution_count": 0,
      "outputs": []
    },
    {
      "cell_type": "code",
      "metadata": {
        "id": "Z2gsxy2XLaid",
        "colab_type": "code",
        "colab": {}
      },
      "source": [
        "ctry_diets = {}\n",
        "for country in ctry_list: # cycle through each country\n",
        "  ctry_diets[country] = country_diet(country,fao_foods)\n"
      ],
      "execution_count": 0,
      "outputs": []
    },
    {
      "cell_type": "code",
      "metadata": {
        "id": "DfHS0dq-McEY",
        "colab_type": "code",
        "colab": {}
      },
      "source": [
        "ctry_diet_df = pd.DataFrame.from_dict(ctry_diets,orient='index') # converts it to a dataframe\n",
        "# for easier viewing"
      ],
      "execution_count": 0,
      "outputs": []
    },
    {
      "cell_type": "markdown",
      "metadata": {
        "id": "f_Ey0PGRNxgu",
        "colab_type": "text"
      },
      "source": [
        "## (2) Use database to get cooked food amino acid content for each food"
      ]
    },
    {
      "cell_type": "code",
      "metadata": {
        "id": "SACjrSI-HcEt",
        "colab_type": "code",
        "colab": {
          "base_uri": "https://localhost:8080/",
          "height": 377
        },
        "outputId": "0095fa7f-1f22-43ad-9f00-b595fb42c64f"
      },
      "source": [
        "nutrient_data.head()"
      ],
      "execution_count": 17,
      "outputs": [
        {
          "output_type": "execute_result",
          "data": {
            "text/html": [
              "<div>\n",
              "<style scoped>\n",
              "    .dataframe tbody tr th:only-of-type {\n",
              "        vertical-align: middle;\n",
              "    }\n",
              "\n",
              "    .dataframe tbody tr th {\n",
              "        vertical-align: top;\n",
              "    }\n",
              "\n",
              "    .dataframe thead th {\n",
              "        text-align: right;\n",
              "    }\n",
              "</style>\n",
              "<table border=\"1\" class=\"dataframe\">\n",
              "  <thead>\n",
              "    <tr style=\"text-align: right;\">\n",
              "      <th></th>\n",
              "      <th>Unnamed: 0</th>\n",
              "      <th>food</th>\n",
              "      <th>status</th>\n",
              "      <th>avg/std</th>\n",
              "      <th>Tryptophan</th>\n",
              "      <th>Threonine</th>\n",
              "      <th>Isoleucine</th>\n",
              "      <th>Leucine</th>\n",
              "      <th>Lysine</th>\n",
              "      <th>Methionine</th>\n",
              "      <th>Cystine</th>\n",
              "      <th>Phenylalanine</th>\n",
              "      <th>Tyrosine</th>\n",
              "      <th>Valine</th>\n",
              "      <th>Arginine</th>\n",
              "      <th>Histidine</th>\n",
              "      <th>Alanine</th>\n",
              "      <th>Aspartic</th>\n",
              "      <th>Glutamic</th>\n",
              "      <th>Glycine</th>\n",
              "      <th>Serine</th>\n",
              "      <th>Hydroxyproline</th>\n",
              "      <th>energy</th>\n",
              "      <th>B12</th>\n",
              "      <th>B6</th>\n",
              "      <th>protein</th>\n",
              "      <th>iron</th>\n",
              "    </tr>\n",
              "  </thead>\n",
              "  <tbody>\n",
              "    <tr>\n",
              "      <th>0</th>\n",
              "      <td>0</td>\n",
              "      <td>Barley and products</td>\n",
              "      <td>raw</td>\n",
              "      <td>avg</td>\n",
              "      <td>0.170000</td>\n",
              "      <td>0.381000</td>\n",
              "      <td>0.390500</td>\n",
              "      <td>0.745000</td>\n",
              "      <td>0.440000</td>\n",
              "      <td>0.231500</td>\n",
              "      <td>0.221000</td>\n",
              "      <td>0.517500</td>\n",
              "      <td>0.321000</td>\n",
              "      <td>0.529000</td>\n",
              "      <td>0.620750</td>\n",
              "      <td>0.253750</td>\n",
              "      <td>0.449250</td>\n",
              "      <td>0.707250</td>\n",
              "      <td>2.603750</td>\n",
              "      <td>0.407750</td>\n",
              "      <td>0.463250</td>\n",
              "      <td>NaN</td>\n",
              "      <td>357.600000</td>\n",
              "      <td>0.714000</td>\n",
              "      <td>0.468600</td>\n",
              "      <td>11.274000</td>\n",
              "      <td>12.340000</td>\n",
              "    </tr>\n",
              "    <tr>\n",
              "      <th>1</th>\n",
              "      <td>1</td>\n",
              "      <td>Barley and products</td>\n",
              "      <td>raw</td>\n",
              "      <td>std</td>\n",
              "      <td>0.031294</td>\n",
              "      <td>0.041174</td>\n",
              "      <td>0.044829</td>\n",
              "      <td>0.074873</td>\n",
              "      <td>0.075481</td>\n",
              "      <td>0.046801</td>\n",
              "      <td>0.049146</td>\n",
              "      <td>0.204497</td>\n",
              "      <td>0.034341</td>\n",
              "      <td>0.056598</td>\n",
              "      <td>0.153721</td>\n",
              "      <td>0.028605</td>\n",
              "      <td>0.061716</td>\n",
              "      <td>0.082447</td>\n",
              "      <td>0.593721</td>\n",
              "      <td>0.045258</td>\n",
              "      <td>0.046636</td>\n",
              "      <td>NaN</td>\n",
              "      <td>11.760102</td>\n",
              "      <td>1.596553</td>\n",
              "      <td>0.203980</td>\n",
              "      <td>1.467270</td>\n",
              "      <td>20.071140</td>\n",
              "    </tr>\n",
              "    <tr>\n",
              "      <th>2</th>\n",
              "      <td>2</td>\n",
              "      <td>Barley and products</td>\n",
              "      <td>cooked</td>\n",
              "      <td>avg</td>\n",
              "      <td>0.038000</td>\n",
              "      <td>0.077000</td>\n",
              "      <td>0.083000</td>\n",
              "      <td>0.154000</td>\n",
              "      <td>0.084000</td>\n",
              "      <td>0.043000</td>\n",
              "      <td>0.050000</td>\n",
              "      <td>0.127000</td>\n",
              "      <td>0.065000</td>\n",
              "      <td>0.111000</td>\n",
              "      <td>0.113000</td>\n",
              "      <td>0.051000</td>\n",
              "      <td>0.088000</td>\n",
              "      <td>0.141000</td>\n",
              "      <td>0.591000</td>\n",
              "      <td>0.082000</td>\n",
              "      <td>0.095000</td>\n",
              "      <td>NaN</td>\n",
              "      <td>123.000000</td>\n",
              "      <td>0.000000</td>\n",
              "      <td>0.115000</td>\n",
              "      <td>2.260000</td>\n",
              "      <td>1.330000</td>\n",
              "    </tr>\n",
              "    <tr>\n",
              "      <th>3</th>\n",
              "      <td>3</td>\n",
              "      <td>Barley and products</td>\n",
              "      <td>cooked</td>\n",
              "      <td>std</td>\n",
              "      <td>NaN</td>\n",
              "      <td>NaN</td>\n",
              "      <td>NaN</td>\n",
              "      <td>NaN</td>\n",
              "      <td>NaN</td>\n",
              "      <td>NaN</td>\n",
              "      <td>NaN</td>\n",
              "      <td>NaN</td>\n",
              "      <td>NaN</td>\n",
              "      <td>NaN</td>\n",
              "      <td>NaN</td>\n",
              "      <td>NaN</td>\n",
              "      <td>NaN</td>\n",
              "      <td>NaN</td>\n",
              "      <td>NaN</td>\n",
              "      <td>NaN</td>\n",
              "      <td>NaN</td>\n",
              "      <td>NaN</td>\n",
              "      <td>NaN</td>\n",
              "      <td>NaN</td>\n",
              "      <td>NaN</td>\n",
              "      <td>NaN</td>\n",
              "      <td>NaN</td>\n",
              "    </tr>\n",
              "    <tr>\n",
              "      <th>4</th>\n",
              "      <td>4</td>\n",
              "      <td>Beans</td>\n",
              "      <td>raw</td>\n",
              "      <td>avg</td>\n",
              "      <td>0.193561</td>\n",
              "      <td>0.618293</td>\n",
              "      <td>0.713048</td>\n",
              "      <td>1.233690</td>\n",
              "      <td>1.043595</td>\n",
              "      <td>0.205738</td>\n",
              "      <td>0.173619</td>\n",
              "      <td>0.824929</td>\n",
              "      <td>0.466927</td>\n",
              "      <td>0.810810</td>\n",
              "      <td>0.989829</td>\n",
              "      <td>0.438714</td>\n",
              "      <td>0.677125</td>\n",
              "      <td>1.893925</td>\n",
              "      <td>2.381550</td>\n",
              "      <td>0.624650</td>\n",
              "      <td>0.842100</td>\n",
              "      <td>0.0</td>\n",
              "      <td>234.644444</td>\n",
              "      <td>0.000000</td>\n",
              "      <td>0.265289</td>\n",
              "      <td>15.241333</td>\n",
              "      <td>4.816222</td>\n",
              "    </tr>\n",
              "  </tbody>\n",
              "</table>\n",
              "</div>"
            ],
            "text/plain": [
              "   Unnamed: 0                 food  status  ...        B6    protein       iron\n",
              "0           0  Barley and products     raw  ...  0.468600  11.274000  12.340000\n",
              "1           1  Barley and products     raw  ...  0.203980   1.467270  20.071140\n",
              "2           2  Barley and products  cooked  ...  0.115000   2.260000   1.330000\n",
              "3           3  Barley and products  cooked  ...       NaN        NaN        NaN\n",
              "4           4                Beans     raw  ...  0.265289  15.241333   4.816222\n",
              "\n",
              "[5 rows x 27 columns]"
            ]
          },
          "metadata": {
            "tags": []
          },
          "execution_count": 17
        }
      ]
    },
    {
      "cell_type": "code",
      "metadata": {
        "id": "93K1skTsFTjP",
        "colab_type": "code",
        "colab": {}
      },
      "source": [
        "fruits_veg = ['Tomatoes and products', 'Onions', 'Vegetables, Other', 'Oranges, Mandarines',\n",
        "             'Lemons, Limes and products', 'Grapefruit and products', 'Citrus, other', \n",
        "             'Bananas', 'Plantains', 'Apples and products', 'Dates', \n",
        "              'Grapes and products (excl wine)','Fruits, Other','Pimento']\n",
        "# these should be used as a mix of raw AND cooked"
      ],
      "execution_count": 0,
      "outputs": []
    },
    {
      "cell_type": "code",
      "metadata": {
        "id": "aFN7ToYcJhQG",
        "colab_type": "code",
        "colab": {}
      },
      "source": [
        "nutrient_means = nutrient_data[(nutrient_data['status']=='cooked') & \n",
        "                               (nutrient_data['avg/std']=='avg')] # gets only "
      ],
      "execution_count": 0,
      "outputs": []
    },
    {
      "cell_type": "code",
      "metadata": {
        "id": "7qQ0yFqzKUyL",
        "colab_type": "code",
        "colab": {}
      },
      "source": [
        "num_cols = ['Tryptophan', 'Threonine',\n",
        "       'Isoleucine', 'Leucine', 'Lysine', 'Methionine', 'Cystine',\n",
        "       'Phenylalanine', 'Tyrosine', 'Valine', 'Arginine', 'Histidine',\n",
        "       'Alanine', 'Aspartic', 'Glutamic', 'Glycine', 'Serine',\n",
        "       'Hydroxyproline', 'energy', 'B12', 'B6', 'protein', 'iron']"
      ],
      "execution_count": 0,
      "outputs": []
    },
    {
      "cell_type": "code",
      "metadata": {
        "id": "T7WiRxpaN4ST",
        "colab_type": "code",
        "colab": {
          "base_uri": "https://localhost:8080/",
          "height": 232
        },
        "outputId": "34809ece-86fb-4562-85eb-57b84095db7b"
      },
      "source": [
        "\n",
        "milk_raw = nutrient_data[(nutrient_data['food']=='Milk - Excluding Butter') &\n",
        "                        (nutrient_data['status']=='raw') &\n",
        "                        (nutrient_data['avg/std'] == 'avg')]\n",
        "idx = nutrient_means.index[nutrient_means['food']=='Milk - Excluding Butter']\n",
        "\n",
        "nutrient_means = nutrient_means.drop(idx)\n",
        "nutrient_means = nutrient_means.append(milk_raw)\n",
        "\n",
        "for item in fruits_veg: \n",
        "  veg_rawcook = nutrient_data[(nutrient_data['food']==item) &\n",
        "                        (nutrient_data['avg/std'] == 'avg')]\n",
        "  avg_val = veg_rawcook[num_cols].mean(axis=0)\n",
        "  avg_val['Unnamed: 0'] = veg_rawcook[veg_rawcook['status']=='raw']['Unnamed: 0'].values[0]\n",
        "  avg_val['food'] = item\n",
        "  avg_val['status'] = 'both'\n",
        "  avg_val['avg/std'] = 'avg'\n",
        "  idx = nutrient_means.index[nutrient_means['food']==item]\n",
        "\n",
        "  nutrient_means = nutrient_means.drop(idx)\n",
        "  nutrient_means = nutrient_means.append(avg_val,ignore_index=True)\n",
        "\n",
        "# these are in g/100g"
      ],
      "execution_count": 50,
      "outputs": [
        {
          "output_type": "error",
          "ename": "IndexError",
          "evalue": "ignored",
          "traceback": [
            "\u001b[0;31m---------------------------------------------------------------------------\u001b[0m",
            "\u001b[0;31mIndexError\u001b[0m                                Traceback (most recent call last)",
            "\u001b[0;32m<ipython-input-50-027e47f0481f>\u001b[0m in \u001b[0;36m<module>\u001b[0;34m()\u001b[0m\n\u001b[1;32m     12\u001b[0m                         (nutrient_data['avg/std'] == 'avg')]\n\u001b[1;32m     13\u001b[0m   \u001b[0mavg_val\u001b[0m \u001b[0;34m=\u001b[0m \u001b[0mveg_rawcook\u001b[0m\u001b[0;34m[\u001b[0m\u001b[0mnum_cols\u001b[0m\u001b[0;34m]\u001b[0m\u001b[0;34m.\u001b[0m\u001b[0mmean\u001b[0m\u001b[0;34m(\u001b[0m\u001b[0maxis\u001b[0m\u001b[0;34m=\u001b[0m\u001b[0;36m0\u001b[0m\u001b[0;34m)\u001b[0m\u001b[0;34m\u001b[0m\u001b[0;34m\u001b[0m\u001b[0m\n\u001b[0;32m---> 14\u001b[0;31m   \u001b[0mavg_val\u001b[0m\u001b[0;34m[\u001b[0m\u001b[0;34m'Unnamed: 0'\u001b[0m\u001b[0;34m]\u001b[0m \u001b[0;34m=\u001b[0m \u001b[0mveg_rawcook\u001b[0m\u001b[0;34m[\u001b[0m\u001b[0mveg_rawcook\u001b[0m\u001b[0;34m[\u001b[0m\u001b[0;34m'status'\u001b[0m\u001b[0;34m]\u001b[0m\u001b[0;34m==\u001b[0m\u001b[0;34m'raw'\u001b[0m\u001b[0;34m]\u001b[0m\u001b[0;34m[\u001b[0m\u001b[0;34m'Unnamed: 0'\u001b[0m\u001b[0;34m]\u001b[0m\u001b[0;34m.\u001b[0m\u001b[0mvalues\u001b[0m\u001b[0;34m[\u001b[0m\u001b[0;36m0\u001b[0m\u001b[0;34m]\u001b[0m\u001b[0;34m\u001b[0m\u001b[0;34m\u001b[0m\u001b[0m\n\u001b[0m\u001b[1;32m     15\u001b[0m   \u001b[0mavg_val\u001b[0m\u001b[0;34m[\u001b[0m\u001b[0;34m'food'\u001b[0m\u001b[0;34m]\u001b[0m \u001b[0;34m=\u001b[0m \u001b[0mitem\u001b[0m\u001b[0;34m\u001b[0m\u001b[0;34m\u001b[0m\u001b[0m\n\u001b[1;32m     16\u001b[0m   \u001b[0mavg_val\u001b[0m\u001b[0;34m[\u001b[0m\u001b[0;34m'status'\u001b[0m\u001b[0;34m]\u001b[0m \u001b[0;34m=\u001b[0m \u001b[0;34m'both'\u001b[0m\u001b[0;34m\u001b[0m\u001b[0;34m\u001b[0m\u001b[0m\n",
            "\u001b[0;31mIndexError\u001b[0m: index 0 is out of bounds for axis 0 with size 0"
          ]
        }
      ]
    },
    {
      "cell_type": "code",
      "metadata": {
        "id": "ujHMq2G3K8aE",
        "colab_type": "code",
        "colab": {
          "base_uri": "https://localhost:8080/",
          "height": 34
        },
        "outputId": "b6b04689-65f9-4748-c87e-9e9a3580c085"
      },
      "source": [
        "item"
      ],
      "execution_count": 51,
      "outputs": [
        {
          "output_type": "execute_result",
          "data": {
            "text/plain": [
              "'Vegetables, Other'"
            ]
          },
          "metadata": {
            "tags": []
          },
          "execution_count": 51
        }
      ]
    },
    {
      "cell_type": "code",
      "metadata": {
        "id": "rFjoP_9GK96i",
        "colab_type": "code",
        "colab": {
          "base_uri": "https://localhost:8080/",
          "height": 493
        },
        "outputId": "ea819677-f3f4-4ff1-eea2-0267ad7d612b"
      },
      "source": [
        "avg_val['Unnamed: 0'] = 250\n",
        "avg_val['food'] = 'trial'\n",
        "avg_val['status'] = 'both'\n",
        "avg_val['avg/std'] = 'avg'\n",
        "avg_val"
      ],
      "execution_count": 45,
      "outputs": [
        {
          "output_type": "execute_result",
          "data": {
            "text/plain": [
              "Tryptophan        0.0147778\n",
              "Threonine         0.0529167\n",
              "Isoleucine        0.0455694\n",
              "Leucine           0.0678472\n",
              "Lysine            0.0679861\n",
              "Methionine        0.0151111\n",
              "Cystine            0.021875\n",
              "Phenylalanine     0.0524306\n",
              "Tyrosine            0.03275\n",
              "Valine            0.0480278\n",
              "Arginine           0.047625\n",
              "Histidine         0.0317917\n",
              "Alanine           0.0607778\n",
              "Aspartic           0.280264\n",
              "Glutamic           0.813236\n",
              "Glycine             0.04525\n",
              "Serine            0.0542639\n",
              "Hydroxyproline          NaN\n",
              "energy              40.4286\n",
              "B12                       0\n",
              "B6                 0.108911\n",
              "protein             1.85702\n",
              "iron                1.08893\n",
              "Unnamed: 0              250\n",
              "food                  trial\n",
              "status                 both\n",
              "avg/std                 avg\n",
              "dtype: object"
            ]
          },
          "metadata": {
            "tags": []
          },
          "execution_count": 45
        }
      ]
    },
    {
      "cell_type": "code",
      "metadata": {
        "id": "CdexQ1rhkwt6",
        "colab_type": "code",
        "colab": {}
      },
      "source": [
        "aa_list = {'Tryptophan': 'TRP', 'Threonine':'THR', 'Isoleucine':'ILE',\n",
        "           'Leucine':'LEU', 'Lysine':'LYS','Methionine':'MET',\n",
        "           'Cystine':'CYS', 'Phenylalanine':'PHE', 'Tyrosine':'TYR',\n",
        "           'Valine':'VAL','Arginine':'ARG', 'Histidine':'HIS', \n",
        "           'Alanine':'ALA', 'Aspartic':'ASP', 'Glutamic':'GLU', \n",
        "           'Glycine':'GLY', 'Serine':'SER','protein':'CP'}\n",
        "# ignoring 'Hydroxyproline':'HYP', 'Proline':'PRO' because of lack of data"
      ],
      "execution_count": 0,
      "outputs": []
    },
    {
      "cell_type": "markdown",
      "metadata": {
        "id": "urDHoWmPPbiw",
        "colab_type": "text"
      },
      "source": [
        "## (3) Get digestibilities for each food"
      ]
    },
    {
      "cell_type": "code",
      "metadata": {
        "id": "4HP82LOlFNHh",
        "colab_type": "code",
        "colab": {}
      },
      "source": [
        "# calculate digestible AA per food\n",
        "import math\n",
        "\n",
        "digestible_aa = {}\n",
        "\n",
        "for food in list(nutrient_data.food.unique()):\n",
        "  temp_nut = nutrient_means[nutrient_means['food'].str.lower().isin([food.lower()])]\n",
        "  temp_dig = dig_data[dig_data['Unnamed: 0'].str.lower().isin([food.lower()])]\n",
        "\n",
        "  food_dig_aa = {}\n",
        "  for AA in aa_list: \n",
        "    #if food == 'Butter, Ghee':\n",
        "     # print(temp_dig[aa_list[AA]])\n",
        "      #if temp_dig[aa_list[AA]].empty:\n",
        "       # print('yes')\n",
        "    if math.isnan(temp_nut[AA]):\n",
        "        aa_content = np.nan\n",
        "    else:\n",
        "      aa_content = float(temp_nut[AA])\n",
        "      \n",
        "    if temp_dig[aa_list[AA]].empty:\n",
        "      aa_dig = np.nan\n",
        "    else:\n",
        "      aa_dig = float(temp_dig[aa_list[AA]])\n",
        "    dig_aa_content = aa_dig * aa_content / 100 # aa_dig is a percent\n",
        "\n",
        "    food_dig_aa[AA] = dig_aa_content\n",
        "\n",
        "  digestible_aa[food] = food_dig_aa\n",
        "  "
      ],
      "execution_count": 0,
      "outputs": []
    },
    {
      "cell_type": "code",
      "metadata": {
        "id": "d52VrCVcXSJC",
        "colab_type": "code",
        "colab": {}
      },
      "source": [
        "dig_aa_df = pd.DataFrame.from_dict(digestible_aa)"
      ],
      "execution_count": 0,
      "outputs": []
    },
    {
      "cell_type": "markdown",
      "metadata": {
        "id": "TIXhQ3fSPEys",
        "colab_type": "text"
      },
      "source": [
        "### (3) Multiply food amount by the amino acid content per amount to get the amino acid amount per food "
      ]
    },
    {
      "cell_type": "code",
      "metadata": {
        "id": "PY6NtGPTXxSm",
        "colab_type": "code",
        "colab": {}
      },
      "source": [
        "foods = list(ctry_diet_df.columns)"
      ],
      "execution_count": 0,
      "outputs": []
    },
    {
      "cell_type": "code",
      "metadata": {
        "id": "cYCArM3_UKFm",
        "colab_type": "code",
        "outputId": "4fcff74a-7556-4f30-f1e2-041ad20b3753",
        "colab": {
          "base_uri": "https://localhost:8080/",
          "height": 54
        }
      },
      "source": [
        "print(foods)"
      ],
      "execution_count": 0,
      "outputs": [
        {
          "output_type": "stream",
          "text": [
            "['Barley and products', 'Beans', 'Aquatic plants', 'Bovine meat', 'Butter, Ghee', 'Cassava and products', 'Cephalopods', 'Coconut Oil', 'Coconuts - Incl Copra', 'Cottonseed', 'Cottonseed Oil', 'Cream', 'Crustaceans', 'Dates', 'Demersal Fish', 'Eggs', 'Fish, Body Oil', 'Freshwater Fish', 'Honey', 'Maize and products', 'Meat, Aquatic Mammals', 'Milk - Excluding Butter', 'Millet and products', 'Molluscs other', 'Mutton & Goat Meat', 'Nuts and products', 'Oats', 'Olive Oil', 'Palm kernels', 'Peas', 'Pigmeat', 'Plantains', 'Potatoes and products', 'Poultry Meat', 'Pulses', 'Rape and Mustard Oil', 'Rice (Milled Equivalent)', 'Rye and products', 'Sesame seed', 'Sorghum and products', 'Soyabean Oil', 'Soyabeans', 'Starchy Roots', 'Sunflower seed', 'Sunflowerseed Oil', 'Sweet potatoes', 'treenuts', 'Wheat and products', 'yams', 'Groundnuts (Shelled Eq)']\n"
          ],
          "name": "stdout"
        }
      ]
    },
    {
      "cell_type": "code",
      "metadata": {
        "id": "spfmTob_EQFx",
        "colab_type": "code",
        "colab": {}
      },
      "source": [
        "aa_total = {}\n",
        "\n",
        "for country in ctry_list:\n",
        "  ctry_diet = ctry_diet_df.loc[country]\n",
        "\n",
        "  aa_ctry = {}\n",
        "\n",
        "  for AA in aa_list:\n",
        "    aa_ctr = 0\n",
        "    for food in foods:\n",
        "      temp = ctry_diet[food] # kg/capita/yr\n",
        "      temp2 = dig_aa_df.loc[AA,food] # g/100g\n",
        "      aa = temp * temp2 * 10 / 365 # to correct for kg / 100g and for 365 d /yr\n",
        "      if not math.isnan(aa):\n",
        "        aa_ctr = aa_ctr + aa # adds the amount of the amino acid to tracker\n",
        "        #aa_ctr.append(aa)\n",
        "\n",
        "    aa_ctry[AA] = aa_ctr # stores the added amino acid content\n",
        "    #print([AA, aa_ctr])\n",
        "  aa_total[country] = aa_ctry\n",
        "\n",
        "\n",
        "    \n",
        "    "
      ],
      "execution_count": 0,
      "outputs": []
    },
    {
      "cell_type": "code",
      "metadata": {
        "id": "0vD1KnHSewOz",
        "colab_type": "code",
        "colab": {}
      },
      "source": [
        "aa_total_df = pd.DataFrame.from_dict(aa_total,orient='index')"
      ],
      "execution_count": 0,
      "outputs": []
    },
    {
      "cell_type": "code",
      "metadata": {
        "id": "SpQsYLb6fyH_",
        "colab_type": "code",
        "colab": {}
      },
      "source": [
        "savepath = path + 'diet_aa_1030.csv'\n",
        "aa_total_df.to_csv(savepath)"
      ],
      "execution_count": 0,
      "outputs": []
    },
    {
      "cell_type": "markdown",
      "metadata": {
        "id": "-mUVrpQ7PUHX",
        "colab_type": "text"
      },
      "source": [
        "###(4) take into account food loss and waste (SKIP FOR NOW)"
      ]
    },
    {
      "cell_type": "code",
      "metadata": {
        "id": "vGwbDf2dQ3hY",
        "colab_type": "code",
        "colab": {}
      },
      "source": [
        "food_loss_waste = {'North America': {'Consumption': 61, 'Dist & Mkt': 7, 'Processing': 9,\n",
        "                                     'Handling & Storage': 6, 'Production': 17},\n",
        "                  'Industrialized Asia': {'Consumption': 46, 'Dist & Mkt': 11, 'Processing': 2,\n",
        "                                     'Handling & Storage': 23, 'Production': 17},\n",
        "                  'Europe': {'Consumption': 52, 'Dist & Mkt': 9, 'Processing': 5,\n",
        "                                     'Handling & Storage': 12, 'Production': 23},\n",
        "                  'North Africa, West and Central Asia': {'Consumption': 34, 'Dist & Mkt': 18, 'Processing': 4,\n",
        "                                     'Handling & Storage': 21, 'Production': 23},\n",
        "                  'Latin America': {'Consumption': 28, 'Dist & Mkt': 17, 'Processing': 6,\n",
        "                                     'Handling & Storage': 22, 'Production': 28},\n",
        "                  'South and Southeast Asia': {'Consumption': 13, 'Dist & Mkt': 15, 'Processing': 4,\n",
        "                                     'Handling & Storage': 37, 'Production': 32},\n",
        "                  'Sub-Saharan Africa': {'Consumption': 5, 'Dist & Mkt': 13, 'Processing': 7,\n",
        "                                     'Handling & Storage': 37, 'Production': 39}}\n",
        "# from Monica's presentation (originally WRI?); percent of total waste\n",
        "# LATER: compare the amount of LOSSES for each commodity and assume this corresponds\n",
        "# to whatever percentage corresponds and then add Processing, dist & mkt, consumption?"
      ],
      "execution_count": 0,
      "outputs": []
    },
    {
      "cell_type": "code",
      "metadata": {
        "id": "Wcm3uQk0DkNK",
        "colab_type": "code",
        "colab": {}
      },
      "source": [
        ""
      ],
      "execution_count": 0,
      "outputs": []
    },
    {
      "cell_type": "markdown",
      "metadata": {
        "id": "IY6EmxRgH7Og",
        "colab_type": "text"
      },
      "source": [
        "# Compare protein with FAO protein estimate"
      ]
    },
    {
      "cell_type": "code",
      "metadata": {
        "id": "SDUX393PH91R",
        "colab_type": "code",
        "outputId": "6770470d-31cc-4c0f-8ca8-66084dce9524",
        "colab": {
          "base_uri": "https://localhost:8080/",
          "height": 389
        }
      },
      "source": [
        "fao_data.head()# This is the FAO database to work with"
      ],
      "execution_count": 0,
      "outputs": [
        {
          "output_type": "execute_result",
          "data": {
            "text/html": [
              "<div>\n",
              "<style scoped>\n",
              "    .dataframe tbody tr th:only-of-type {\n",
              "        vertical-align: middle;\n",
              "    }\n",
              "\n",
              "    .dataframe tbody tr th {\n",
              "        vertical-align: top;\n",
              "    }\n",
              "\n",
              "    .dataframe thead th {\n",
              "        text-align: right;\n",
              "    }\n",
              "</style>\n",
              "<table border=\"1\" class=\"dataframe\">\n",
              "  <thead>\n",
              "    <tr style=\"text-align: right;\">\n",
              "      <th></th>\n",
              "      <th>Area Code</th>\n",
              "      <th>Area</th>\n",
              "      <th>Item Code</th>\n",
              "      <th>Item</th>\n",
              "      <th>Element Code</th>\n",
              "      <th>Element</th>\n",
              "      <th>Unit</th>\n",
              "      <th>Y1961</th>\n",
              "      <th>Y1961F</th>\n",
              "      <th>Y1962</th>\n",
              "      <th>Y1962F</th>\n",
              "      <th>Y1963</th>\n",
              "      <th>Y1963F</th>\n",
              "      <th>Y1964</th>\n",
              "      <th>Y1964F</th>\n",
              "      <th>Y1965</th>\n",
              "      <th>Y1965F</th>\n",
              "      <th>Y1966</th>\n",
              "      <th>Y1966F</th>\n",
              "      <th>Y1967</th>\n",
              "      <th>Y1967F</th>\n",
              "      <th>Y1968</th>\n",
              "      <th>Y1968F</th>\n",
              "      <th>Y1969</th>\n",
              "      <th>Y1969F</th>\n",
              "      <th>Y1970</th>\n",
              "      <th>Y1970F</th>\n",
              "      <th>Y1971</th>\n",
              "      <th>Y1971F</th>\n",
              "      <th>Y1972</th>\n",
              "      <th>Y1972F</th>\n",
              "      <th>Y1973</th>\n",
              "      <th>Y1973F</th>\n",
              "      <th>Y1974</th>\n",
              "      <th>Y1974F</th>\n",
              "      <th>Y1975</th>\n",
              "      <th>Y1975F</th>\n",
              "      <th>Y1976</th>\n",
              "      <th>Y1976F</th>\n",
              "      <th>Y1977</th>\n",
              "      <th>...</th>\n",
              "      <th>Y1994</th>\n",
              "      <th>Y1994F</th>\n",
              "      <th>Y1995</th>\n",
              "      <th>Y1995F</th>\n",
              "      <th>Y1996</th>\n",
              "      <th>Y1996F</th>\n",
              "      <th>Y1997</th>\n",
              "      <th>Y1997F</th>\n",
              "      <th>Y1998</th>\n",
              "      <th>Y1998F</th>\n",
              "      <th>Y1999</th>\n",
              "      <th>Y1999F</th>\n",
              "      <th>Y2000</th>\n",
              "      <th>Y2000F</th>\n",
              "      <th>Y2001</th>\n",
              "      <th>Y2001F</th>\n",
              "      <th>Y2002</th>\n",
              "      <th>Y2002F</th>\n",
              "      <th>Y2003</th>\n",
              "      <th>Y2003F</th>\n",
              "      <th>Y2004</th>\n",
              "      <th>Y2004F</th>\n",
              "      <th>Y2005</th>\n",
              "      <th>Y2005F</th>\n",
              "      <th>Y2006</th>\n",
              "      <th>Y2006F</th>\n",
              "      <th>Y2007</th>\n",
              "      <th>Y2007F</th>\n",
              "      <th>Y2008</th>\n",
              "      <th>Y2008F</th>\n",
              "      <th>Y2009</th>\n",
              "      <th>Y2009F</th>\n",
              "      <th>Y2010</th>\n",
              "      <th>Y2010F</th>\n",
              "      <th>Y2011</th>\n",
              "      <th>Y2011F</th>\n",
              "      <th>Y2012</th>\n",
              "      <th>Y2012F</th>\n",
              "      <th>Y2013</th>\n",
              "      <th>Y2013F</th>\n",
              "    </tr>\n",
              "  </thead>\n",
              "  <tbody>\n",
              "    <tr>\n",
              "      <th>0</th>\n",
              "      <td>2</td>\n",
              "      <td>Afghanistan</td>\n",
              "      <td>2501</td>\n",
              "      <td>Population</td>\n",
              "      <td>511</td>\n",
              "      <td>Total Population - Both sexes</td>\n",
              "      <td>1000 persons</td>\n",
              "      <td>8954.00</td>\n",
              "      <td>NaN</td>\n",
              "      <td>9142.00</td>\n",
              "      <td>NaN</td>\n",
              "      <td>9340.00</td>\n",
              "      <td>NaN</td>\n",
              "      <td>9547.00</td>\n",
              "      <td>NaN</td>\n",
              "      <td>9765.00</td>\n",
              "      <td>NaN</td>\n",
              "      <td>9990.00</td>\n",
              "      <td>NaN</td>\n",
              "      <td>10222.00</td>\n",
              "      <td>NaN</td>\n",
              "      <td>10466.00</td>\n",
              "      <td>NaN</td>\n",
              "      <td>10729.00</td>\n",
              "      <td>NaN</td>\n",
              "      <td>11016.00</td>\n",
              "      <td>NaN</td>\n",
              "      <td>11323.00</td>\n",
              "      <td>NaN</td>\n",
              "      <td>11644.00</td>\n",
              "      <td>NaN</td>\n",
              "      <td>11966.00</td>\n",
              "      <td>NaN</td>\n",
              "      <td>12274.00</td>\n",
              "      <td>NaN</td>\n",
              "      <td>12552.00</td>\n",
              "      <td>NaN</td>\n",
              "      <td>12807.00</td>\n",
              "      <td>NaN</td>\n",
              "      <td>13034.00</td>\n",
              "      <td>...</td>\n",
              "      <td>16485.00</td>\n",
              "      <td>NaN</td>\n",
              "      <td>17586.00</td>\n",
              "      <td>NaN</td>\n",
              "      <td>18415.00</td>\n",
              "      <td>NaN</td>\n",
              "      <td>19021.00</td>\n",
              "      <td>NaN</td>\n",
              "      <td>19497.00</td>\n",
              "      <td>NaN</td>\n",
              "      <td>19987.00</td>\n",
              "      <td>NaN</td>\n",
              "      <td>20595.00</td>\n",
              "      <td>NaN</td>\n",
              "      <td>21348.00</td>\n",
              "      <td>NaN</td>\n",
              "      <td>22203.00</td>\n",
              "      <td>NaN</td>\n",
              "      <td>23116.00</td>\n",
              "      <td>NaN</td>\n",
              "      <td>24019.00</td>\n",
              "      <td>NaN</td>\n",
              "      <td>24861.00</td>\n",
              "      <td>NaN</td>\n",
              "      <td>25631.00</td>\n",
              "      <td>NaN</td>\n",
              "      <td>26349.00</td>\n",
              "      <td>NaN</td>\n",
              "      <td>27032.00</td>\n",
              "      <td>NaN</td>\n",
              "      <td>27708.00</td>\n",
              "      <td>NaN</td>\n",
              "      <td>28398.00</td>\n",
              "      <td>NaN</td>\n",
              "      <td>29105.00</td>\n",
              "      <td>NaN</td>\n",
              "      <td>29825.00</td>\n",
              "      <td>NaN</td>\n",
              "      <td>30552.00</td>\n",
              "      <td>NaN</td>\n",
              "    </tr>\n",
              "    <tr>\n",
              "      <th>1</th>\n",
              "      <td>2</td>\n",
              "      <td>Afghanistan</td>\n",
              "      <td>2901</td>\n",
              "      <td>Grand Total</td>\n",
              "      <td>664</td>\n",
              "      <td>Food supply (kcal/capita/day)</td>\n",
              "      <td>kcal/capita/day</td>\n",
              "      <td>2999.00</td>\n",
              "      <td>Fc</td>\n",
              "      <td>2917.00</td>\n",
              "      <td>Fc</td>\n",
              "      <td>2698.00</td>\n",
              "      <td>Fc</td>\n",
              "      <td>2953.00</td>\n",
              "      <td>Fc</td>\n",
              "      <td>2956.00</td>\n",
              "      <td>Fc</td>\n",
              "      <td>2737.00</td>\n",
              "      <td>Fc</td>\n",
              "      <td>2971.00</td>\n",
              "      <td>Fc</td>\n",
              "      <td>2918.00</td>\n",
              "      <td>Fc</td>\n",
              "      <td>2935.00</td>\n",
              "      <td>Fc</td>\n",
              "      <td>2534.00</td>\n",
              "      <td>Fc</td>\n",
              "      <td>2512.00</td>\n",
              "      <td>Fc</td>\n",
              "      <td>2658.00</td>\n",
              "      <td>Fc</td>\n",
              "      <td>2721.00</td>\n",
              "      <td>Fc</td>\n",
              "      <td>2713.00</td>\n",
              "      <td>Fc</td>\n",
              "      <td>2752.00</td>\n",
              "      <td>Fc</td>\n",
              "      <td>2824.00</td>\n",
              "      <td>Fc</td>\n",
              "      <td>2489.00</td>\n",
              "      <td>...</td>\n",
              "      <td>1820.00</td>\n",
              "      <td>Fc</td>\n",
              "      <td>1844.00</td>\n",
              "      <td>Fc</td>\n",
              "      <td>1843.00</td>\n",
              "      <td>Fc</td>\n",
              "      <td>1874.00</td>\n",
              "      <td>Fc</td>\n",
              "      <td>1903.00</td>\n",
              "      <td>Fc</td>\n",
              "      <td>1852.00</td>\n",
              "      <td>Fc</td>\n",
              "      <td>1790.00</td>\n",
              "      <td>Fc</td>\n",
              "      <td>1737.00</td>\n",
              "      <td>Fc</td>\n",
              "      <td>1826.00</td>\n",
              "      <td>Fc</td>\n",
              "      <td>1892.00</td>\n",
              "      <td>Fc</td>\n",
              "      <td>1967.00</td>\n",
              "      <td>Fc</td>\n",
              "      <td>1948.00</td>\n",
              "      <td>Fc</td>\n",
              "      <td>1966.00</td>\n",
              "      <td>Fc</td>\n",
              "      <td>2046.00</td>\n",
              "      <td>Fc</td>\n",
              "      <td>2041.00</td>\n",
              "      <td>Fc</td>\n",
              "      <td>2081.00</td>\n",
              "      <td>Fc</td>\n",
              "      <td>2104.00</td>\n",
              "      <td>Fc</td>\n",
              "      <td>2107.00</td>\n",
              "      <td>Fc</td>\n",
              "      <td>2100.00</td>\n",
              "      <td>Fc</td>\n",
              "      <td>2090.00</td>\n",
              "      <td>Fc</td>\n",
              "    </tr>\n",
              "    <tr>\n",
              "      <th>2</th>\n",
              "      <td>2</td>\n",
              "      <td>Afghanistan</td>\n",
              "      <td>2901</td>\n",
              "      <td>Grand Total</td>\n",
              "      <td>674</td>\n",
              "      <td>Protein supply quantity (g/capita/day)</td>\n",
              "      <td>g/capita/day</td>\n",
              "      <td>84.91</td>\n",
              "      <td>Fc</td>\n",
              "      <td>82.98</td>\n",
              "      <td>Fc</td>\n",
              "      <td>77.12</td>\n",
              "      <td>Fc</td>\n",
              "      <td>83.49</td>\n",
              "      <td>Fc</td>\n",
              "      <td>83.86</td>\n",
              "      <td>Fc</td>\n",
              "      <td>79.17</td>\n",
              "      <td>Fc</td>\n",
              "      <td>85.25</td>\n",
              "      <td>Fc</td>\n",
              "      <td>84.10</td>\n",
              "      <td>Fc</td>\n",
              "      <td>84.84</td>\n",
              "      <td>Fc</td>\n",
              "      <td>72.82</td>\n",
              "      <td>Fc</td>\n",
              "      <td>72.70</td>\n",
              "      <td>Fc</td>\n",
              "      <td>75.75</td>\n",
              "      <td>Fc</td>\n",
              "      <td>77.38</td>\n",
              "      <td>Fc</td>\n",
              "      <td>76.99</td>\n",
              "      <td>Fc</td>\n",
              "      <td>77.79</td>\n",
              "      <td>Fc</td>\n",
              "      <td>79.73</td>\n",
              "      <td>Fc</td>\n",
              "      <td>71.13</td>\n",
              "      <td>...</td>\n",
              "      <td>54.84</td>\n",
              "      <td>Fc</td>\n",
              "      <td>52.96</td>\n",
              "      <td>Fc</td>\n",
              "      <td>54.25</td>\n",
              "      <td>Fc</td>\n",
              "      <td>56.82</td>\n",
              "      <td>Fc</td>\n",
              "      <td>57.78</td>\n",
              "      <td>Fc</td>\n",
              "      <td>56.12</td>\n",
              "      <td>Fc</td>\n",
              "      <td>52.57</td>\n",
              "      <td>Fc</td>\n",
              "      <td>49.67</td>\n",
              "      <td>Fc</td>\n",
              "      <td>53.35</td>\n",
              "      <td>Fc</td>\n",
              "      <td>54.54</td>\n",
              "      <td>Fc</td>\n",
              "      <td>55.24</td>\n",
              "      <td>Fc</td>\n",
              "      <td>53.51</td>\n",
              "      <td>Fc</td>\n",
              "      <td>53.46</td>\n",
              "      <td>Fc</td>\n",
              "      <td>56.00</td>\n",
              "      <td>Fc</td>\n",
              "      <td>56.96</td>\n",
              "      <td>Fc</td>\n",
              "      <td>57.79</td>\n",
              "      <td>Fc</td>\n",
              "      <td>58.14</td>\n",
              "      <td>Fc</td>\n",
              "      <td>58.91</td>\n",
              "      <td>Fc</td>\n",
              "      <td>58.91</td>\n",
              "      <td>Fc</td>\n",
              "      <td>58.25</td>\n",
              "      <td>Fc</td>\n",
              "    </tr>\n",
              "    <tr>\n",
              "      <th>3</th>\n",
              "      <td>2</td>\n",
              "      <td>Afghanistan</td>\n",
              "      <td>2901</td>\n",
              "      <td>Grand Total</td>\n",
              "      <td>684</td>\n",
              "      <td>Fat supply quantity (g/capita/day)</td>\n",
              "      <td>g/capita/day</td>\n",
              "      <td>37.51</td>\n",
              "      <td>Fc</td>\n",
              "      <td>37.61</td>\n",
              "      <td>Fc</td>\n",
              "      <td>38.57</td>\n",
              "      <td>Fc</td>\n",
              "      <td>38.95</td>\n",
              "      <td>Fc</td>\n",
              "      <td>39.73</td>\n",
              "      <td>Fc</td>\n",
              "      <td>39.95</td>\n",
              "      <td>Fc</td>\n",
              "      <td>41.85</td>\n",
              "      <td>Fc</td>\n",
              "      <td>41.99</td>\n",
              "      <td>Fc</td>\n",
              "      <td>41.50</td>\n",
              "      <td>Fc</td>\n",
              "      <td>37.92</td>\n",
              "      <td>Fc</td>\n",
              "      <td>35.18</td>\n",
              "      <td>Fc</td>\n",
              "      <td>34.64</td>\n",
              "      <td>Fc</td>\n",
              "      <td>37.20</td>\n",
              "      <td>Fc</td>\n",
              "      <td>38.81</td>\n",
              "      <td>Fc</td>\n",
              "      <td>39.95</td>\n",
              "      <td>Fc</td>\n",
              "      <td>41.95</td>\n",
              "      <td>Fc</td>\n",
              "      <td>38.40</td>\n",
              "      <td>...</td>\n",
              "      <td>31.88</td>\n",
              "      <td>Fc</td>\n",
              "      <td>40.66</td>\n",
              "      <td>Fc</td>\n",
              "      <td>38.86</td>\n",
              "      <td>Fc</td>\n",
              "      <td>34.24</td>\n",
              "      <td>Fc</td>\n",
              "      <td>35.57</td>\n",
              "      <td>Fc</td>\n",
              "      <td>38.02</td>\n",
              "      <td>Fc</td>\n",
              "      <td>32.14</td>\n",
              "      <td>Fc</td>\n",
              "      <td>26.96</td>\n",
              "      <td>Fc</td>\n",
              "      <td>29.95</td>\n",
              "      <td>Fc</td>\n",
              "      <td>29.99</td>\n",
              "      <td>Fc</td>\n",
              "      <td>34.95</td>\n",
              "      <td>Fc</td>\n",
              "      <td>36.75</td>\n",
              "      <td>Fc</td>\n",
              "      <td>31.13</td>\n",
              "      <td>Fc</td>\n",
              "      <td>32.09</td>\n",
              "      <td>Fc</td>\n",
              "      <td>29.72</td>\n",
              "      <td>Fc</td>\n",
              "      <td>30.72</td>\n",
              "      <td>Fc</td>\n",
              "      <td>33.88</td>\n",
              "      <td>Fc</td>\n",
              "      <td>33.08</td>\n",
              "      <td>Fc</td>\n",
              "      <td>33.37</td>\n",
              "      <td>Fc</td>\n",
              "      <td>33.52</td>\n",
              "      <td>Fc</td>\n",
              "    </tr>\n",
              "    <tr>\n",
              "      <th>4</th>\n",
              "      <td>2</td>\n",
              "      <td>Afghanistan</td>\n",
              "      <td>2903</td>\n",
              "      <td>Vegetal Products</td>\n",
              "      <td>664</td>\n",
              "      <td>Food supply (kcal/capita/day)</td>\n",
              "      <td>kcal/capita/day</td>\n",
              "      <td>2752.00</td>\n",
              "      <td>Fc</td>\n",
              "      <td>2672.00</td>\n",
              "      <td>Fc</td>\n",
              "      <td>2438.00</td>\n",
              "      <td>Fc</td>\n",
              "      <td>2690.00</td>\n",
              "      <td>Fc</td>\n",
              "      <td>2682.00</td>\n",
              "      <td>Fc</td>\n",
              "      <td>2445.00</td>\n",
              "      <td>Fc</td>\n",
              "      <td>2666.00</td>\n",
              "      <td>Fc</td>\n",
              "      <td>2599.00</td>\n",
              "      <td>Fc</td>\n",
              "      <td>2623.00</td>\n",
              "      <td>Fc</td>\n",
              "      <td>2256.00</td>\n",
              "      <td>Fc</td>\n",
              "      <td>2253.00</td>\n",
              "      <td>Fc</td>\n",
              "      <td>2418.00</td>\n",
              "      <td>Fc</td>\n",
              "      <td>2466.00</td>\n",
              "      <td>Fc</td>\n",
              "      <td>2453.00</td>\n",
              "      <td>Fc</td>\n",
              "      <td>2491.00</td>\n",
              "      <td>Fc</td>\n",
              "      <td>2545.00</td>\n",
              "      <td>Fc</td>\n",
              "      <td>2221.00</td>\n",
              "      <td>...</td>\n",
              "      <td>1548.00</td>\n",
              "      <td>Fc</td>\n",
              "      <td>1557.00</td>\n",
              "      <td>Fc</td>\n",
              "      <td>1543.00</td>\n",
              "      <td>Fc</td>\n",
              "      <td>1559.00</td>\n",
              "      <td>Fc</td>\n",
              "      <td>1578.00</td>\n",
              "      <td>Fc</td>\n",
              "      <td>1511.00</td>\n",
              "      <td>Fc</td>\n",
              "      <td>1515.00</td>\n",
              "      <td>Fc</td>\n",
              "      <td>1535.00</td>\n",
              "      <td>Fc</td>\n",
              "      <td>1566.00</td>\n",
              "      <td>Fc</td>\n",
              "      <td>1654.00</td>\n",
              "      <td>Fc</td>\n",
              "      <td>1726.00</td>\n",
              "      <td>Fc</td>\n",
              "      <td>1715.00</td>\n",
              "      <td>Fc</td>\n",
              "      <td>1762.00</td>\n",
              "      <td>Fc</td>\n",
              "      <td>1839.00</td>\n",
              "      <td>Fc</td>\n",
              "      <td>1831.00</td>\n",
              "      <td>Fc</td>\n",
              "      <td>1871.00</td>\n",
              "      <td>Fc</td>\n",
              "      <td>1888.00</td>\n",
              "      <td>Fc</td>\n",
              "      <td>1891.00</td>\n",
              "      <td>Fc</td>\n",
              "      <td>1883.00</td>\n",
              "      <td>Fc</td>\n",
              "      <td>1873.00</td>\n",
              "      <td>Fc</td>\n",
              "    </tr>\n",
              "  </tbody>\n",
              "</table>\n",
              "<p>5 rows × 113 columns</p>\n",
              "</div>"
            ],
            "text/plain": [
              "   Area Code         Area  Item Code  ... Y2012F     Y2013 Y2013F\n",
              "0          2  Afghanistan       2501  ...    NaN  30552.00    NaN\n",
              "1          2  Afghanistan       2901  ...     Fc   2090.00     Fc\n",
              "2          2  Afghanistan       2901  ...     Fc     58.25     Fc\n",
              "3          2  Afghanistan       2901  ...     Fc     33.52     Fc\n",
              "4          2  Afghanistan       2903  ...     Fc   1873.00     Fc\n",
              "\n",
              "[5 rows x 113 columns]"
            ]
          },
          "metadata": {
            "tags": []
          },
          "execution_count": 22
        }
      ]
    },
    {
      "cell_type": "code",
      "metadata": {
        "id": "gQ3fzb2cIOyn",
        "colab_type": "code",
        "colab": {}
      },
      "source": [
        "# Want Element = \"Protein supply quantity (g/capita/day)\"\n",
        "# and Item = 'Grand Total'\n",
        "\n",
        "def country_protein(country):\n",
        "  \"\"\"Gets the food supply for all foods within a country for 2011-2013\"\"\"\n",
        "  df_ctry = fao_data[fao_data['Area']==country]\n",
        "  temp = df_ctry[(df_ctry['Element'] == 'Protein supply quantity (g/capita/day)') & \n",
        "                    (df_ctry['Item']=='Grand Total')][['Y2011','Y2012','Y2013']]\n",
        "  ctry_protein = list(pd.DataFrame.mean(temp,axis=1)) # takes the average across years\n",
        "  return ctry_protein"
      ],
      "execution_count": 0,
      "outputs": []
    },
    {
      "cell_type": "code",
      "metadata": {
        "id": "eH6tFcVjKb5I",
        "colab_type": "code",
        "colab": {}
      },
      "source": [
        "ctry_protein = {}\n",
        "for country in ctry_list: # cycle through each country\n",
        "  ctry_protein[country] = country_protein(country)\n",
        "  "
      ],
      "execution_count": 0,
      "outputs": []
    },
    {
      "cell_type": "code",
      "metadata": {
        "id": "rv01jZJMKwKl",
        "colab_type": "code",
        "outputId": "5ccb6c8f-ffa6-47fd-cfb4-08a870d52a51",
        "colab": {
          "base_uri": "https://localhost:8080/",
          "height": 204
        }
      },
      "source": [
        "ctry_p_df = pd.DataFrame.from_dict(ctry_protein,orient='index')\n",
        "ctry_p_df.head()"
      ],
      "execution_count": 0,
      "outputs": [
        {
          "output_type": "execute_result",
          "data": {
            "text/html": [
              "<div>\n",
              "<style scoped>\n",
              "    .dataframe tbody tr th:only-of-type {\n",
              "        vertical-align: middle;\n",
              "    }\n",
              "\n",
              "    .dataframe tbody tr th {\n",
              "        vertical-align: top;\n",
              "    }\n",
              "\n",
              "    .dataframe thead th {\n",
              "        text-align: right;\n",
              "    }\n",
              "</style>\n",
              "<table border=\"1\" class=\"dataframe\">\n",
              "  <thead>\n",
              "    <tr style=\"text-align: right;\">\n",
              "      <th></th>\n",
              "      <th>0</th>\n",
              "    </tr>\n",
              "  </thead>\n",
              "  <tbody>\n",
              "    <tr>\n",
              "      <th>Afghanistan</th>\n",
              "      <td>58.690000</td>\n",
              "    </tr>\n",
              "    <tr>\n",
              "      <th>Albania</th>\n",
              "      <td>110.440000</td>\n",
              "    </tr>\n",
              "    <tr>\n",
              "      <th>Algeria</th>\n",
              "      <td>90.743333</td>\n",
              "    </tr>\n",
              "    <tr>\n",
              "      <th>Angola</th>\n",
              "      <td>56.296667</td>\n",
              "    </tr>\n",
              "    <tr>\n",
              "      <th>Antigua and Barbuda</th>\n",
              "      <td>82.520000</td>\n",
              "    </tr>\n",
              "  </tbody>\n",
              "</table>\n",
              "</div>"
            ],
            "text/plain": [
              "                              0\n",
              "Afghanistan           58.690000\n",
              "Albania              110.440000\n",
              "Algeria               90.743333\n",
              "Angola                56.296667\n",
              "Antigua and Barbuda   82.520000"
            ]
          },
          "metadata": {
            "tags": []
          },
          "execution_count": 48
        }
      ]
    },
    {
      "cell_type": "code",
      "metadata": {
        "id": "LEzjj2CLKk4H",
        "colab_type": "code",
        "colab": {}
      },
      "source": [
        "savepath = path + 'fao_protein_2011-13.csv'\n",
        "ctry_p_df.to_csv(savepath)"
      ],
      "execution_count": 0,
      "outputs": []
    },
    {
      "cell_type": "code",
      "metadata": {
        "id": "eyT1tRThN4n1",
        "colab_type": "code",
        "colab": {}
      },
      "source": [
        ""
      ],
      "execution_count": 0,
      "outputs": []
    }
  ]
}