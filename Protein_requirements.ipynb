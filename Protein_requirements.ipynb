{
  "nbformat": 4,
  "nbformat_minor": 0,
  "metadata": {
    "colab": {
      "name": "Protein_requirements.ipynb",
      "provenance": [],
      "collapsed_sections": [],
      "include_colab_link": true
    },
    "kernelspec": {
      "name": "python3",
      "display_name": "Python 3"
    }
  },
  "cells": [
    {
      "cell_type": "markdown",
      "metadata": {
        "id": "view-in-github",
        "colab_type": "text"
      },
      "source": [
        "<a href=\"https://colab.research.google.com/github/emoceanographer/usdanutrients/blob/master/Protein_requirements.ipynb\" target=\"_parent\"><img src=\"https://colab.research.google.com/assets/colab-badge.svg\" alt=\"Open In Colab\"/></a>"
      ]
    },
    {
      "cell_type": "code",
      "metadata": {
        "id": "V0QcVq8a2BrP",
        "colab_type": "code",
        "outputId": "1b4891cc-9e0f-4cda-9b63-90da09c9c6a1",
        "colab": {
          "base_uri": "https://localhost:8080/",
          "height": 54
        }
      },
      "source": [
        "from google.colab import drive\n",
        "drive.mount('/content/drive')"
      ],
      "execution_count": 26,
      "outputs": [
        {
          "output_type": "stream",
          "text": [
            "Drive already mounted at /content/drive; to attempt to forcibly remount, call drive.mount(\"/content/drive\", force_remount=True).\n"
          ],
          "name": "stdout"
        }
      ]
    },
    {
      "cell_type": "code",
      "metadata": {
        "id": "Fw-LAioBz4si",
        "colab_type": "code",
        "colab": {}
      },
      "source": [
        "import pandas as pd\n",
        "import re\n",
        "import statistics\n",
        "from operator import add\n",
        "import numpy as np\n",
        "\n",
        "import math\n",
        "import scipy\n",
        "from scipy import stats\n",
        "from scipy.optimize import least_squares"
      ],
      "execution_count": 0,
      "outputs": []
    },
    {
      "cell_type": "code",
      "metadata": {
        "id": "SXtlf2qI2XAR",
        "colab_type": "code",
        "colab": {}
      },
      "source": [
        "path = '/content/drive/My Drive/Colab Notebooks/Nutrition/'\n",
        "pop_path = path + 'WPP2019_PopulationByAgeSex_Medium.csv'\n",
        "#BMI_path = path + 'NCD_BMI_MEAN.csv'\n",
        "BMI_path = path + 'NCD_RisC_Lancet_2017_BMI_age_standardised_country.csv'\n",
        "height_path = path + 'heights_over_time.csv'\n",
        "fao_ctry_path = path + 'fao_ctry_codes.csv'"
      ],
      "execution_count": 0,
      "outputs": []
    },
    {
      "cell_type": "markdown",
      "metadata": {
        "id": "Y4F_MCDjQ4Oo",
        "colab_type": "text"
      },
      "source": [
        "# Calculate avg. body mass of adults for each country"
      ]
    },
    {
      "cell_type": "markdown",
      "metadata": {
        "id": "JnRfrAzx2zq8",
        "colab_type": "text"
      },
      "source": [
        "Population: Dataset is WPP2019, Population by age and sex, medium; for each country; plan is to, for each (country, year), match demographic groups to the age_aa requirement pattern and calculate needed aa requirements"
      ]
    },
    {
      "cell_type": "code",
      "metadata": {
        "id": "bAEJinmS0aHs",
        "colab_type": "code",
        "colab": {}
      },
      "source": [
        "pop_df = pd.read_csv(pop_path, encoding='latin-1') # each country has year, age group's population\n",
        "BMI_df = pd.read_csv(BMI_path, encoding='latin-1') # each country has a year and an associated mean\n",
        "height_df = pd.read_csv(height_path)\n",
        "fao_ctry_codes = pd.read_csv(fao_ctry_path)"
      ],
      "execution_count": 0,
      "outputs": []
    },
    {
      "cell_type": "code",
      "metadata": {
        "id": "_9bxZOpjwviB",
        "colab_type": "code",
        "colab": {
          "base_uri": "https://localhost:8080/",
          "height": 171
        },
        "outputId": "8cbdd96f-ccf1-4cec-fcd8-c4b7c1f25c5e"
      },
      "source": [
        "BMI_df.head(0)"
      ],
      "execution_count": 35,
      "outputs": [
        {
          "output_type": "execute_result",
          "data": {
            "text/html": [
              "<div>\n",
              "<style scoped>\n",
              "    .dataframe tbody tr th:only-of-type {\n",
              "        vertical-align: middle;\n",
              "    }\n",
              "\n",
              "    .dataframe tbody tr th {\n",
              "        vertical-align: top;\n",
              "    }\n",
              "\n",
              "    .dataframe thead th {\n",
              "        text-align: right;\n",
              "    }\n",
              "</style>\n",
              "<table border=\"1\" class=\"dataframe\">\n",
              "  <thead>\n",
              "    <tr style=\"text-align: right;\">\n",
              "      <th></th>\n",
              "      <th>Country/Region/World</th>\n",
              "      <th>ISO</th>\n",
              "      <th>Sex</th>\n",
              "      <th>Year</th>\n",
              "      <th>Mean BMI</th>\n",
              "      <th>Mean BMI lower 95% uncertainty interval</th>\n",
              "      <th>Mean BMI upper 95% uncertainty interval</th>\n",
              "      <th>Prevalence of BMI&gt;=30 kg/m² (obesity)</th>\n",
              "      <th>Prevalence of BMI&gt;=30 kg/m² lower 95% uncertainty interval</th>\n",
              "      <th>Prevalence of BMI&gt;=30 kg/m² upper 95% uncertainty interval</th>\n",
              "      <th>Prevalence of BMI&gt;=35 kg/m² (severe obesity)</th>\n",
              "      <th>Prevalence of BMI&gt;=35 kg/m² lower 95% uncertainty interval</th>\n",
              "      <th>Prevalence of BMI&gt;=35 kg/m² upper 95% uncertainty interval</th>\n",
              "      <th>Prevalence of BMI&lt;18.5 kg/m² (underweight)</th>\n",
              "      <th>Prevalence of BMI&lt;18.5 kg/m² lower 95% uncertainty interval</th>\n",
              "      <th>Prevalence of BMI&lt;18.5 kg/m² upper 95% uncertainty interval</th>\n",
              "      <th>Prevalence of BMI 18.5 kg/m² to &lt;20 kg/m²</th>\n",
              "      <th>Prevalence of BMI 18.5 kg/m² to &lt;20 kg/m² lower 95% uncertainty interval</th>\n",
              "      <th>Prevalence of BMI 18.5 kg/m² to &lt;20 kg/m² upper 95% uncertainty interval</th>\n",
              "      <th>Prevalence of BMI 20 kg/m² to &lt;25 kg/m²</th>\n",
              "      <th>Prevalence of BMI 20 kg/m² to &lt;25 kg/m² lower 95% uncertainty interval</th>\n",
              "      <th>Prevalence of BMI 20 kg/m² to &lt;25 kg/m² upper 95% uncertainty interval</th>\n",
              "      <th>Prevalence of BMI 25 kg/m² to &lt;30 kg/m²</th>\n",
              "      <th>Prevalence of BMI 25 kg/m² to &lt;30 kg/m² lower 95% uncertainty interval</th>\n",
              "      <th>Prevalence of BMI 25 kg/m² to &lt;30 kg/m² upper 95% uncertainty interval</th>\n",
              "      <th>Prevalence of BMI 30 kg/m² to &lt;35 kg/m²</th>\n",
              "      <th>Prevalence of BMI 30 kg/m² to &lt;35 kg/m² lower 95% uncertainty interval</th>\n",
              "      <th>Prevalence of BMI 30 kg/m² to &lt;35 kg/m² upper 95% uncertainty interval</th>\n",
              "      <th>Prevalence of BMI 35 kg/m² to &lt;40 kg/m²</th>\n",
              "      <th>Prevalence of BMI 35 kg/m² to &lt;40 kg/m² lower 95% uncertainty interval</th>\n",
              "      <th>Prevalence of BMI 35 kg/m² to &lt;40 kg/m² upper 95% uncertainty interval</th>\n",
              "      <th>Prevalence of BMI &gt;=40 kg/m²(morbid obesity)</th>\n",
              "      <th>Prevalence of BMI &gt;=40 kg/m² lower 95% uncertainty interval</th>\n",
              "      <th>Prevalence of BMI &gt;=40 kg/m² upper 95% uncertainty interval</th>\n",
              "    </tr>\n",
              "  </thead>\n",
              "  <tbody>\n",
              "  </tbody>\n",
              "</table>\n",
              "</div>"
            ],
            "text/plain": [
              "Empty DataFrame\n",
              "Columns: [Country/Region/World, ISO, Sex, Year, Mean BMI, Mean BMI lower 95% uncertainty interval, Mean BMI upper 95% uncertainty interval, Prevalence of BMI>=30 kg/m² (obesity), Prevalence of BMI>=30 kg/m² lower 95% uncertainty interval, Prevalence of BMI>=30 kg/m² upper 95% uncertainty interval, Prevalence of BMI>=35 kg/m² (severe obesity), Prevalence of BMI>=35 kg/m² lower 95% uncertainty interval, Prevalence of BMI>=35 kg/m² upper 95% uncertainty interval, Prevalence of BMI<18.5 kg/m² (underweight), Prevalence of BMI<18.5 kg/m² lower 95% uncertainty interval, Prevalence of BMI<18.5 kg/m² upper 95% uncertainty interval, Prevalence of BMI 18.5 kg/m² to <20 kg/m², Prevalence of BMI 18.5 kg/m² to <20 kg/m² lower 95% uncertainty interval, Prevalence of BMI 18.5 kg/m² to <20 kg/m² upper 95% uncertainty interval, Prevalence of BMI 20 kg/m² to <25 kg/m², Prevalence of BMI 20 kg/m² to <25 kg/m² lower 95% uncertainty interval, Prevalence of BMI 20 kg/m² to <25 kg/m² upper 95% uncertainty interval, Prevalence of BMI 25 kg/m² to <30 kg/m², Prevalence of BMI 25 kg/m² to <30 kg/m² lower 95% uncertainty interval, Prevalence of BMI 25 kg/m² to <30 kg/m² upper 95% uncertainty interval, Prevalence of BMI 30 kg/m² to <35 kg/m², Prevalence of BMI 30 kg/m² to <35 kg/m² lower 95% uncertainty interval, Prevalence of BMI 30 kg/m² to <35 kg/m² upper 95% uncertainty interval, Prevalence of BMI 35 kg/m² to <40 kg/m², Prevalence of BMI 35 kg/m² to <40 kg/m² lower 95% uncertainty interval, Prevalence of BMI 35 kg/m² to <40 kg/m² upper 95% uncertainty interval, Prevalence of BMI >=40 kg/m²(morbid obesity), Prevalence of BMI >=40 kg/m² lower 95% uncertainty interval, Prevalence of BMI >=40 kg/m² upper 95% uncertainty interval]\n",
              "Index: []"
            ]
          },
          "metadata": {
            "tags": []
          },
          "execution_count": 35
        }
      ]
    },
    {
      "cell_type": "code",
      "metadata": {
        "id": "SeXnRGUt_Ema",
        "colab_type": "code",
        "colab": {}
      },
      "source": [
        "BMI_df = BMI_df[['Country/Region/World','ISO','Sex','Year','Mean BMI','Mean BMI lower 95% uncertainty interval','Mean BMI upper 95% uncertainty interval']]"
      ],
      "execution_count": 0,
      "outputs": []
    },
    {
      "cell_type": "code",
      "metadata": {
        "id": "B8LlVkhExLdb",
        "colab_type": "code",
        "colab": {
          "base_uri": "https://localhost:8080/",
          "height": 221
        },
        "outputId": "65115a1c-8d1a-4c1b-bf22-ef19bed93c98"
      },
      "source": [
        "BMI_df.head()"
      ],
      "execution_count": 40,
      "outputs": [
        {
          "output_type": "execute_result",
          "data": {
            "text/html": [
              "<div>\n",
              "<style scoped>\n",
              "    .dataframe tbody tr th:only-of-type {\n",
              "        vertical-align: middle;\n",
              "    }\n",
              "\n",
              "    .dataframe tbody tr th {\n",
              "        vertical-align: top;\n",
              "    }\n",
              "\n",
              "    .dataframe thead th {\n",
              "        text-align: right;\n",
              "    }\n",
              "</style>\n",
              "<table border=\"1\" class=\"dataframe\">\n",
              "  <thead>\n",
              "    <tr style=\"text-align: right;\">\n",
              "      <th></th>\n",
              "      <th>Country/Region/World</th>\n",
              "      <th>ISO</th>\n",
              "      <th>Sex</th>\n",
              "      <th>Year</th>\n",
              "      <th>Mean BMI</th>\n",
              "      <th>Mean BMI lower 95% uncertainty interval</th>\n",
              "      <th>Mean BMI upper 95% uncertainty interval</th>\n",
              "    </tr>\n",
              "  </thead>\n",
              "  <tbody>\n",
              "    <tr>\n",
              "      <th>0</th>\n",
              "      <td>Afghanistan</td>\n",
              "      <td>AFG</td>\n",
              "      <td>Men</td>\n",
              "      <td>1975</td>\n",
              "      <td>18.999440</td>\n",
              "      <td>16.331119</td>\n",
              "      <td>21.763077</td>\n",
              "    </tr>\n",
              "    <tr>\n",
              "      <th>1</th>\n",
              "      <td>Afghanistan</td>\n",
              "      <td>AFG</td>\n",
              "      <td>Men</td>\n",
              "      <td>1976</td>\n",
              "      <td>19.105518</td>\n",
              "      <td>16.500077</td>\n",
              "      <td>21.801109</td>\n",
              "    </tr>\n",
              "    <tr>\n",
              "      <th>2</th>\n",
              "      <td>Afghanistan</td>\n",
              "      <td>AFG</td>\n",
              "      <td>Men</td>\n",
              "      <td>1977</td>\n",
              "      <td>19.212080</td>\n",
              "      <td>16.646507</td>\n",
              "      <td>21.842021</td>\n",
              "    </tr>\n",
              "    <tr>\n",
              "      <th>3</th>\n",
              "      <td>Afghanistan</td>\n",
              "      <td>AFG</td>\n",
              "      <td>Men</td>\n",
              "      <td>1978</td>\n",
              "      <td>19.319053</td>\n",
              "      <td>16.786899</td>\n",
              "      <td>21.876516</td>\n",
              "    </tr>\n",
              "    <tr>\n",
              "      <th>4</th>\n",
              "      <td>Afghanistan</td>\n",
              "      <td>AFG</td>\n",
              "      <td>Men</td>\n",
              "      <td>1979</td>\n",
              "      <td>19.425952</td>\n",
              "      <td>16.950002</td>\n",
              "      <td>21.930634</td>\n",
              "    </tr>\n",
              "  </tbody>\n",
              "</table>\n",
              "</div>"
            ],
            "text/plain": [
              "  Country/Region/World  ... Mean BMI upper 95% uncertainty interval\n",
              "0          Afghanistan  ...                               21.763077\n",
              "1          Afghanistan  ...                               21.801109\n",
              "2          Afghanistan  ...                               21.842021\n",
              "3          Afghanistan  ...                               21.876516\n",
              "4          Afghanistan  ...                               21.930634\n",
              "\n",
              "[5 rows x 7 columns]"
            ]
          },
          "metadata": {
            "tags": []
          },
          "execution_count": 40
        }
      ]
    },
    {
      "cell_type": "code",
      "metadata": {
        "id": "Z2PjkjuqufVe",
        "colab_type": "code",
        "colab": {}
      },
      "source": [
        "def BMI_extract(df,yrs):\n",
        "  \"\"\"Gets the average and standard deviation for selected years for male and female BMI\"\"\"\n",
        "  # Male\n",
        "  temp = df[(df['Sex']=='Men') & (df['Year'].isin(yrs))]\n",
        "  avgM = temp['Mean BMI'].mean(axis=0)\n",
        "  stdM = ((temp['Mean BMI upper 95% uncertainty interval'] - temp['Mean BMI lower 95% uncertainty interval'])/4).mean(axis=0)\n",
        "  \n",
        "   # Female\n",
        "  temp = df[(df['Sex']=='Women') & (df['Year'].isin(yrs))]\n",
        "  avgF = temp['Mean BMI'].mean(axis=0)\n",
        "  stdF = ((temp['Mean BMI upper 95% uncertainty interval'] - temp['Mean BMI lower 95% uncertainty interval'])/4).mean(axis=0)\n",
        "  \n",
        "  return avgM, stdM, avgF, stdF"
      ],
      "execution_count": 0,
      "outputs": []
    },
    {
      "cell_type": "code",
      "metadata": {
        "id": "EsJf1sxYxGaV",
        "colab_type": "code",
        "colab": {}
      },
      "source": [
        "yr_str = '2016'\n",
        "country = 'Afghanistan'\n",
        "BMI = BMI_df[BMI_df['Country/Region/World'] == country]\n",
        "\n",
        "a,b,c,d = BMI_extract(BMI,[2011,2012,2013])"
      ],
      "execution_count": 0,
      "outputs": []
    },
    {
      "cell_type": "code",
      "metadata": {
        "id": "QbSUAMdqxrx7",
        "colab_type": "code",
        "colab": {
          "base_uri": "https://localhost:8080/",
          "height": 34
        },
        "outputId": "cdae6419-465e-4cef-916e-2698aff73e58"
      },
      "source": [
        "print([a,b,c,d])"
      ],
      "execution_count": 44,
      "outputs": [
        {
          "output_type": "stream",
          "text": [
            "[22.344502237636732, 1.1946179814958422, 23.723025716873337, 0.5270138711887494]\n"
          ],
          "name": "stdout"
        }
      ]
    },
    {
      "cell_type": "code",
      "metadata": {
        "id": "eQPEUwwT7NKM",
        "colab_type": "code",
        "colab": {}
      },
      "source": [
        "# Age group definitions\n",
        "child_age_grps = ['0-4', '5-9', '10-14', '15-19']\n",
        "adult_age_grps = ['20-24', '25-29', '30-34', '35-39',\n",
        "       '40-44', '45-49', '50-54', '55-59', '60-64', '65-69', '70-74',\n",
        "       '75-79', '80-84', '85-89', '90-94', '95-99', '100+'] # age groups for pop. data"
      ],
      "execution_count": 0,
      "outputs": []
    },
    {
      "cell_type": "code",
      "metadata": {
        "id": "VM2yNAP5NkxP",
        "colab_type": "code",
        "colab": {}
      },
      "source": [
        "ctry_mismatches = {'China, Hong Kong SAR': ['none'], 'China, Macao SAR': ['none'], \n",
        "                   'China, Taiwan Province of China': ['none'], \n",
        "                   \"Dem. People's Republic of Korea\": \"Democratic People's Republic of Korea\",\n",
        "                   'French Guiana': ['none'], 'French Polynesia': ['none'], \n",
        "                   'Guadeloupe': ['none'],'Martinique': ['none'],\n",
        "                   'United Kingdom': ['United Kingdom of Great Britain and Northern Ireland']}"
      ],
      "execution_count": 0,
      "outputs": []
    },
    {
      "cell_type": "code",
      "metadata": {
        "id": "H07LrDBooAdU",
        "colab_type": "code",
        "colab": {}
      },
      "source": [
        "\n",
        "\n"
      ],
      "execution_count": 0,
      "outputs": []
    },
    {
      "cell_type": "code",
      "metadata": {
        "id": "hrH3CGIyp3d-",
        "colab_type": "code",
        "colab": {}
      },
      "source": [
        "temp = re.search(r'\\[\\.(.*?)\\]', BMI[yr_str + '.2'].values[0])\n",
        "temp"
      ],
      "execution_count": 0,
      "outputs": []
    },
    {
      "cell_type": "code",
      "metadata": {
        "id": "8IazvZFI0HA1",
        "colab_type": "code",
        "outputId": "b2b9a07f-45ae-4af5-8e40-7a6e248041e3",
        "colab": {
          "base_uri": "https://localhost:8080/",
          "height": 1000
        }
      },
      "source": [
        "# for each year and country, calculate the average mass of an adult\n",
        "avg_weight = {}\n",
        "for country in list(pop_df.Location.unique()): # cycle through each country\n",
        "  # population\n",
        "  temp = pop_df[pop_df['Location'].isin([country])]\n",
        "  temp = temp[temp['AgeGrp'].isin(adult_age_grps)]\n",
        "  \n",
        "  # BMI\n",
        "  ctr = 0\n",
        "  if country in BMI_df['Country/Region'].unique(): # skip countries for which there is no BMI\n",
        "    ctr = 1\n",
        "    BMI = BMI_df[BMI_df['Country/Region'] == country]\n",
        "    \n",
        "  if country in ctry_mismatches: \n",
        "    if ctry_mismatches[country][0] in BMI_df['Country'].unique():\n",
        "      ctr = 1\n",
        "      BMI = BMI_df[BMI_df['Country/Region'] == ctry_mismatches[country][0]]\n",
        "  \n",
        "  if ctr == 1:\n",
        "\n",
        "    if country == 'United Kingdom':\n",
        "      ctry_code = 'GBR'\n",
        "    else:\n",
        "      ctry_code = fao_ctry_codes[fao_ctry_codes['Short name'] == country]['ISO3'].values[0]\n",
        "    \n",
        "    # Heights (gets people 20-40 in 2011-2013 by year of birth)\n",
        "    hts = height_df[height_df['Code'] == ctry_code]\n",
        "    hts_m = hts[(hts['Year']>1970) & (hts['Year']<1994)]['Males (centimeters)'].mean()\n",
        "    hts_f = hts[(hts['Year']>1970) & (hts['Year']<1994)]['Females (centimeters)'].mean()\n",
        "    \n",
        "    f_pop_year = []\n",
        "    m_pop_year = []\n",
        "    f_BMI = []\n",
        "    m_BMI = []\n",
        "    \n",
        "    for year in list(pop_df.Time.unique()):\n",
        "      if year < 2014 and year > 2010: # get 2011-2013\n",
        "        # population\n",
        "        f_adult_yr_pop = sum(temp[temp['Time'].isin([year])]['PopFemale'])\n",
        "        m_adult_yr_pop = sum(temp[temp['Time'].isin([year])]['PopMale'])\n",
        "        f_pop_year.append(f_adult_yr_pop*1000) # units originally in thousands of people\n",
        "        m_pop_year.append(m_adult_yr_pop*1000)\n",
        "\n",
        "        # BMI (average only)\n",
        "        yr_str = str(year)\n",
        "        BMI_f_temp = re.search(r'^.*(?=(\\[))', BMI[yr_str + '.2'].values[0])\n",
        "        BMI_m_temp = re.search(r'^.*(?=(\\[))', BMI[yr_str + '.1'].values[0])\n",
        "        if BMI_f_temp:\n",
        "          f_BMI.append(float(BMI_f_temp.group(0)))\n",
        "        else:\n",
        "          f_BMI.append(np.nan)\n",
        "        if BMI_m_temp:\n",
        "          m_BMI.append(float(BMI_m_temp.group(0)))\n",
        "        else:\n",
        "          m_BMI.append(np.nan)\n",
        "    \n",
        "    # Weight calculation (kg)\n",
        "    f_weight = (hts_f/100)**2 * statistics.mean(f_BMI)\n",
        "    m_weight = (hts_m/100)**2 * statistics.mean(m_BMI)\n",
        "    \n",
        "    # Population weighting\n",
        "    avg_weight[country] = (f_weight*statistics.mean(f_pop_year) + m_weight*statistics.mean(m_pop_year)) / statistics.mean(list(map(add, f_pop_year, m_pop_year)))\n",
        "  else:\n",
        "    print(country)"
      ],
      "execution_count": 0,
      "outputs": [
        {
          "output_type": "stream",
          "text": [
            "Africa\n",
            "Aruba\n",
            "Asia\n",
            "Australia/New Zealand\n",
            "Caribbean\n",
            "Central America\n",
            "Central and Southern Asia\n",
            "Central Asia\n",
            "Channel Islands\n",
            "China, Hong Kong SAR\n",
            "China, Macao SAR\n",
            "China, Taiwan Province of China\n",
            "Curaçao\n",
            "Dem. People's Republic of Korea\n",
            "Eastern Africa\n",
            "Eastern and South-Eastern Asia\n",
            "Eastern Asia\n",
            "Eastern Europe\n",
            "Europe\n",
            "Europe and Northern America\n",
            "French Guiana\n",
            "French Polynesia\n",
            "Guadeloupe\n",
            "Guam\n",
            "High-income countries\n",
            "Land-locked Developing Countries (LLDC)\n",
            "Latin America and the Caribbean\n",
            "Least developed countries\n",
            "Less developed regions\n",
            "Less developed regions, excluding China\n",
            "Less developed regions, excluding least developed countries\n",
            "Low-income countries\n",
            "Lower-middle-income countries\n",
            "Martinique\n",
            "Mayotte\n",
            "Melanesia\n",
            "Micronesia\n",
            "Micronesia (Fed. States of)\n",
            "Middle Africa\n",
            "Middle-income countries\n",
            "More developed regions\n",
            "New Caledonia\n",
            "No income group available\n",
            "North Macedonia\n",
            "Northern Africa\n",
            "Northern Africa and Western Asia\n",
            "Northern America\n",
            "Northern Europe\n",
            "Oceania\n",
            "Oceania (excluding Australia and New Zealand)\n",
            "Polynesia\n",
            "Puerto Rico\n",
            "Réunion\n",
            "Small Island Developing States (SIDS)\n",
            "South America\n",
            "South-Eastern Asia\n",
            "Southern Africa\n",
            "Southern Asia\n",
            "Southern Europe\n",
            "State of Palestine\n",
            "Sub-Saharan Africa\n",
            "United States Virgin Islands\n",
            "Upper-middle-income countries\n",
            "Western Africa\n",
            "Western Asia\n",
            "Western Europe\n",
            "Western Sahara\n",
            "World\n"
          ],
          "name": "stdout"
        }
      ]
    },
    {
      "cell_type": "code",
      "metadata": {
        "id": "1Ie4qt9_DHiB",
        "colab_type": "code",
        "outputId": "8ebe9a62-27f8-41c9-f7e9-86adca65e570",
        "colab": {
          "base_uri": "https://localhost:8080/",
          "height": 34
        }
      },
      "source": [
        "ctry_weights = pd.DataFrame.from_dict(avg_weight,orient='index')\n",
        "ctry_weights = ctry_weights.reset_index()\n",
        "missing = ctry_weights[ctry_weights[0].isna()]\n",
        "list(missing['index'].unique()) # should be just those with actually no data (e.g. Sudan)\n",
        "\n"
      ],
      "execution_count": 0,
      "outputs": [
        {
          "output_type": "execute_result",
          "data": {
            "text/plain": [
              "['South Sudan', 'Sudan']"
            ]
          },
          "metadata": {
            "tags": []
          },
          "execution_count": 10
        }
      ]
    },
    {
      "cell_type": "code",
      "metadata": {
        "id": "MvaP6YtuP--l",
        "colab_type": "code",
        "outputId": "bc278ca7-1561-48eb-ce4e-870625305869",
        "colab": {
          "base_uri": "https://localhost:8080/",
          "height": 419
        }
      },
      "source": [
        "ctry_weights"
      ],
      "execution_count": 0,
      "outputs": [
        {
          "output_type": "execute_result",
          "data": {
            "text/html": [
              "<div>\n",
              "<style scoped>\n",
              "    .dataframe tbody tr th:only-of-type {\n",
              "        vertical-align: middle;\n",
              "    }\n",
              "\n",
              "    .dataframe tbody tr th {\n",
              "        vertical-align: top;\n",
              "    }\n",
              "\n",
              "    .dataframe thead th {\n",
              "        text-align: right;\n",
              "    }\n",
              "</style>\n",
              "<table border=\"1\" class=\"dataframe\">\n",
              "  <thead>\n",
              "    <tr style=\"text-align: right;\">\n",
              "      <th></th>\n",
              "      <th>index</th>\n",
              "      <th>0</th>\n",
              "    </tr>\n",
              "  </thead>\n",
              "  <tbody>\n",
              "    <tr>\n",
              "      <th>0</th>\n",
              "      <td>Afghanistan</td>\n",
              "      <td>59.128907</td>\n",
              "    </tr>\n",
              "    <tr>\n",
              "      <th>1</th>\n",
              "      <td>Albania</td>\n",
              "      <td>74.300504</td>\n",
              "    </tr>\n",
              "    <tr>\n",
              "      <th>2</th>\n",
              "      <td>Algeria</td>\n",
              "      <td>69.186634</td>\n",
              "    </tr>\n",
              "    <tr>\n",
              "      <th>3</th>\n",
              "      <td>Angola</td>\n",
              "      <td>61.446617</td>\n",
              "    </tr>\n",
              "    <tr>\n",
              "      <th>4</th>\n",
              "      <td>Antigua and Barbuda</td>\n",
              "      <td>72.731290</td>\n",
              "    </tr>\n",
              "    <tr>\n",
              "      <th>...</th>\n",
              "      <td>...</td>\n",
              "      <td>...</td>\n",
              "    </tr>\n",
              "    <tr>\n",
              "      <th>175</th>\n",
              "      <td>Venezuela (Bolivarian Republic of)</td>\n",
              "      <td>71.597418</td>\n",
              "    </tr>\n",
              "    <tr>\n",
              "      <th>176</th>\n",
              "      <td>Viet Nam</td>\n",
              "      <td>53.435563</td>\n",
              "    </tr>\n",
              "    <tr>\n",
              "      <th>177</th>\n",
              "      <td>Yemen</td>\n",
              "      <td>59.061992</td>\n",
              "    </tr>\n",
              "    <tr>\n",
              "      <th>178</th>\n",
              "      <td>Zambia</td>\n",
              "      <td>59.035999</td>\n",
              "    </tr>\n",
              "    <tr>\n",
              "      <th>179</th>\n",
              "      <td>Zimbabwe</td>\n",
              "      <td>64.124605</td>\n",
              "    </tr>\n",
              "  </tbody>\n",
              "</table>\n",
              "<p>180 rows × 2 columns</p>\n",
              "</div>"
            ],
            "text/plain": [
              "                                  index          0\n",
              "0                           Afghanistan  59.128907\n",
              "1                               Albania  74.300504\n",
              "2                               Algeria  69.186634\n",
              "3                                Angola  61.446617\n",
              "4                   Antigua and Barbuda  72.731290\n",
              "..                                  ...        ...\n",
              "175  Venezuela (Bolivarian Republic of)  71.597418\n",
              "176                            Viet Nam  53.435563\n",
              "177                               Yemen  59.061992\n",
              "178                              Zambia  59.035999\n",
              "179                            Zimbabwe  64.124605\n",
              "\n",
              "[180 rows x 2 columns]"
            ]
          },
          "metadata": {
            "tags": []
          },
          "execution_count": 11
        }
      ]
    },
    {
      "cell_type": "markdown",
      "metadata": {
        "id": "ZI0xZd-zQzhW",
        "colab_type": "text"
      },
      "source": [
        "# Calculate AA requirements per capita (adults)"
      ]
    },
    {
      "cell_type": "code",
      "metadata": {
        "id": "TDjdwTOuTzIE",
        "colab_type": "code",
        "colab": {}
      },
      "source": [
        "case = 'baseline'\n",
        "\n",
        "if case == 'baseline':\n",
        "\n",
        "  AA_adult_req = {'Histidine': 15, 'Isoleucine': 30, 'Leucine': 59, 'Lysine': 45, \n",
        "                 'SAA': 22, 'AAA': 38, 'Threonine': 23, 'Tryptophan': 6, 'Valine': 39} # mg AA /g protein\n",
        "  AA_total = .66 # g/kg\n",
        "elif case == 'safe':\n",
        "  AA_adult_req = {'Histidine': 12, 'Isoleucine': 24, 'Leucine': 47, 'Lysine': 36, \n",
        "                 'SAA': 17, 'AAA': 30, 'Threonine': 18, 'Tryptophan': 5, 'Valine': 31} # mg AA /g protein\n",
        "  AA_total = .83 # g/kg"
      ],
      "execution_count": 0,
      "outputs": []
    },
    {
      "cell_type": "code",
      "metadata": {
        "id": "XjJpOz_2Vnha",
        "colab_type": "code",
        "colab": {}
      },
      "source": [
        "SAA = ['Methionine', 'Cystine'] # there are others, but not in my diet AA list\n",
        "AAA = ['Phenylalanine', 'Tyrosine'] # also tryptophan and histidine but they are listed separately"
      ],
      "execution_count": 0,
      "outputs": []
    },
    {
      "cell_type": "code",
      "metadata": {
        "id": "of-vUtL-VASN",
        "colab_type": "code",
        "colab": {}
      },
      "source": [
        "diet_AA = pd.read_csv(path + 'diet_aa_1126_waste.csv')"
      ],
      "execution_count": 0,
      "outputs": []
    },
    {
      "cell_type": "code",
      "metadata": {
        "id": "F5HaS7DrVV6X",
        "colab_type": "code",
        "outputId": "bcbc6602-f26f-4dd8-fb4e-97ad68a3fd52",
        "colab": {
          "base_uri": "https://localhost:8080/",
          "height": 1000
        }
      },
      "source": [
        "AA_ctry = {}\n",
        "AA_all = {}\n",
        "for country in diet_AA['Unnamed: 0'].unique().tolist():\n",
        "  if country in ctry_weights['index'].unique().tolist():\n",
        "    diet_ctry = diet_AA[diet_AA['Unnamed: 0'] == country]\n",
        "    AA_ctry[country] = {}\n",
        "    AA_all[country] = {}\n",
        "    for AA in AA_adult_req: \n",
        "      avg_weight = ctry_weights[ctry_weights['index']==country][0].values[0] \n",
        "      AA_req =  avg_weight * AA_total * AA_adult_req[AA] * 0.001 #g/capita/day\n",
        "      if AA == 'SAA':\n",
        "        aa_diet = []\n",
        "        for aa in SAA: \n",
        "          aa_diet.append(diet_ctry[aa].values[0])\n",
        "        AA_diet = sum(aa_diet)\n",
        "      elif AA == 'AAA':\n",
        "        aa_diet = []\n",
        "        for aa in AAA: \n",
        "          aa_diet.append(diet_ctry[aa].values[0])\n",
        "        AA_diet = sum(aa_diet)\n",
        "      else:\n",
        "        AA_diet = diet_ctry[AA].values[0]\n",
        "      AA_ctry[country][AA] = AA_diet / AA_req #[AA_req, AA_diet, AA_diet/AA_req] \n",
        "      AA_all[country][AA] = [AA_req, AA_diet, AA_diet/AA_req] \n",
        "      if AA_ctry[country][AA]<1:\n",
        "        print(country, ' lacking ' , AA, ' see: ', AA_req, AA_diet)\n",
        "    total_protein_req = avg_weight * AA_total\n",
        "    total_protein_diet = diet_ctry['protein'].values[0]\n",
        "    AA_ctry[country]['protein'] =  total_protein_diet/total_protein_req #[total_protein_req, total_protein_diet, total_protein_diet/total_protein_req]\n",
        "    AA_all[country]['protein'] = [total_protein_req, total_protein_diet, total_protein_diet/total_protein_req]\n",
        "    if AA_ctry[country]['protein'] < 1: \n",
        "      print(country, ' lacking total protein, see' , total_protein_req, total_protein_diet)"
      ],
      "execution_count": 0,
      "outputs": [
        {
          "output_type": "stream",
          "text": [
            "Bangladesh  lacking total protein, see 34.90687288366379 31.73755243612161\n",
            "Benin  lacking total protein, see 41.16636438781105 35.81830660081956\n",
            "Botswana  lacking total protein, see 44.571305692524426 43.23820221342434\n",
            "Cameroon  lacking  Valine  see:  1.6929241316672778 1.5879065411599425\n",
            "Cameroon  lacking total protein, see 43.40831106839174 34.05241593091996\n",
            "Central African Republic  lacking total protein, see 39.838969339630815 33.65412431702833\n",
            "Chad  lacking  Lysine  see:  1.8061477007940112 1.737731028701204\n",
            "Chad  lacking total protein, see 40.136615573200245 36.96810560982088\n",
            "Congo  lacking total protein, see 40.666855241580585 39.85403459190722\n",
            "Côte d'Ivoire  lacking  Isoleucine  see:  1.2620946551076782 1.2330876736316525\n",
            "Côte d'Ivoire  lacking  Leucine  see:  2.4821194883784337 2.3372100406177645\n",
            "Côte d'Ivoire  lacking  Lysine  see:  1.8931419826615172 1.8191773029734015\n",
            "Côte d'Ivoire  lacking  Valine  see:  1.6407230516399816 1.4668711035455846\n",
            "Côte d'Ivoire  lacking total protein, see 42.06982183692261 29.442107477481212\n",
            "Ethiopia  lacking  Lysine  see:  1.5952797949891968 1.5219660019029628\n",
            "Ethiopia  lacking total protein, see 35.450662110871036 29.94893009926227\n",
            "Gambia  lacking total protein, see 42.16121710365718 42.04674417182101\n",
            "Ghana  lacking  Valine  see:  1.644931611747671 1.5940803743933811\n",
            "Ghana  lacking total protein, see 42.177733634555665 33.61477120774747\n",
            "Guinea  lacking  Lysine  see:  1.8128517875170946 1.7171516737299213\n",
            "Guinea  lacking  Valine  see:  1.5711382158481486 1.5161495375195724\n",
            "Guinea  lacking total protein, see 40.28559527815766 29.39187268097221\n",
            "Guinea-Bissau  lacking  Isoleucine  see:  1.2358713970611837 1.092891305135918\n",
            "Guinea-Bissau  lacking  Leucine  see:  2.4305470808869947 2.088117254779581\n",
            "Guinea-Bissau  lacking  Lysine  see:  1.8538070955917754 1.5498610393013152\n",
            "Guinea-Bissau  lacking  Threonine  see:  0.9475014044135741 0.9269249885553094\n",
            "Guinea-Bissau  lacking  Valine  see:  1.6066328161795387 1.3287684673717293\n",
            "Guinea-Bissau  lacking total protein, see 41.195713235372786 26.0896091738155\n",
            "Haiti  lacking  Isoleucine  see:  1.3549686543995116 1.077626979839276\n",
            "Haiti  lacking  Leucine  see:  2.6647716869857065 2.016485901263462\n",
            "Haiti  lacking  Lysine  see:  2.032452981599268 1.7335461997843975\n",
            "Haiti  lacking  SAA  see:  0.9936436798929754 0.891387653306996\n",
            "Haiti  lacking  Threonine  see:  1.0388093017062925 0.9330088036911364\n",
            "Haiti  lacking  Tryptophan  see:  0.2709937308799024 0.26860314121485224\n",
            "Haiti  lacking  Valine  see:  1.7614592507193654 1.2455306182289656\n",
            "Haiti  lacking total protein, see 45.16562181331706 25.433505204294267\n",
            "Iraq  lacking total protein, see 50.640267949970216 47.7160143248336\n",
            "Kenya  lacking total protein, see 41.40754542671956 38.443763311597685\n",
            "Lesotho  lacking total protein, see 42.66815128541019 40.23101782645252\n",
            "Liberia  lacking  Histidine  see:  0.6137657453646028 0.6097981486298869\n",
            "Liberia  lacking  Isoleucine  see:  1.2275314907292056 1.0053152356185977\n",
            "Liberia  lacking  Leucine  see:  2.414145265100771 1.829183339652416\n",
            "Liberia  lacking  Lysine  see:  1.8412972360938085 1.4343758085162712\n",
            "Liberia  lacking  SAA  see:  0.9001897598680841 0.8842607211228233\n",
            "Liberia  lacking  Threonine  see:  0.9411074762257243 0.8569567612407463\n",
            "Liberia  lacking  Valine  see:  1.5957909379479676 1.209349865741059\n",
            "Liberia  lacking total protein, see 40.91771635764019 23.5248106116968\n",
            "Madagascar  lacking  Valine  see:  1.3692131874865363 1.3174079994934151\n",
            "Madagascar  lacking total protein, see 35.10803044837272 24.747847243886408\n",
            "Malawi  lacking total protein, see 38.16435069175048 31.882022343306836\n",
            "Mozambique  lacking  Isoleucine  see:  1.1439047668416789 0.9388676903469722\n",
            "Mozambique  lacking  Leucine  see:  2.2496793747886352 1.8885267378598476\n",
            "Mozambique  lacking  Lysine  see:  1.7158571502625182 1.3471705599645114\n",
            "Mozambique  lacking  SAA  see:  0.8388634956838978 0.7727530235670538\n",
            "Mozambique  lacking  Threonine  see:  0.8769936545786204 0.795419499803948\n",
            "Mozambique  lacking  Tryptophan  see:  0.22878095336833576 0.2122348312896848\n",
            "Mozambique  lacking  Valine  see:  1.4870761968941824 1.1141329915051643\n",
            "Mozambique  lacking total protein, see 38.130158894722626 23.225188669973\n",
            "Nicaragua  lacking total protein, see 45.61474299909833 38.99103293971222\n",
            "Nigeria  lacking total protein, see 40.42944461790729 35.104984252925604\n",
            "Rwanda  lacking  Isoleucine  see:  1.1156930299792072 0.9116615786651934\n",
            "Rwanda  lacking  Leucine  see:  2.1941962922924403 1.754541081147995\n",
            "Rwanda  lacking  Lysine  see:  1.6735395449688106 1.4435045639354596\n",
            "Rwanda  lacking  SAA  see:  0.8181748886514185 0.7030407313739677\n",
            "Rwanda  lacking  Threonine  see:  0.8553646563173921 0.7351037337920946\n",
            "Rwanda  lacking  Valine  see:  1.4504009389729693 1.0874067267828302\n",
            "Rwanda  lacking total protein, see 37.18976766597357 22.41573891244033\n",
            "Senegal  lacking total protein, see 42.708670268752826 41.69938119222429\n",
            "Sierra Leone  lacking total protein, see 39.202343119626136 34.897897677406284\n",
            "Solomon Islands  lacking  Isoleucine  see:  1.3320137555611222 1.3181896882891806\n",
            "Solomon Islands  lacking  Leucine  see:  2.6196270526035406 2.4044645777882723\n",
            "Solomon Islands  lacking  Valine  see:  1.731617882229459 1.5736557643503974\n",
            "Solomon Islands  lacking total protein, see 44.40045851870408 30.38319623459049\n",
            "Tajikistan  lacking total protein, see 45.9586271059407 44.37704438944237\n",
            "Togo  lacking  Isoleucine  see:  1.2432624068539435 1.0303817447730224\n",
            "Togo  lacking  Leucine  see:  2.4450827334794223 2.123247401226581\n",
            "Togo  lacking  Lysine  see:  1.8648936102809153 1.5270596050585028\n",
            "Togo  lacking  SAA  see:  0.9117257650262252 0.8803888277879249\n",
            "Togo  lacking  Threonine  see:  0.95316784525469 0.8851057335138175\n",
            "Togo  lacking  Tryptophan  see:  0.24865248137078869 0.2398104623879275\n",
            "Togo  lacking  Valine  see:  1.6162411289101264 1.209518883979562\n",
            "Togo  lacking total protein, see 41.44208022846478 25.271673083814722\n",
            "Uganda  lacking  Valine  see:  1.508876600147077 1.4806527985228797\n",
            "Uganda  lacking total protein, see 38.68914359351479 30.74876882622284\n",
            "United Republic of Tanzania  lacking  Valine  see:  1.541179143047884 1.4684971986823103\n",
            "United Republic of Tanzania  lacking total protein, see 39.51741392430472 30.279642012531713\n",
            "Zambia  lacking total protein, see 38.96375918845994 32.190505324100926\n",
            "Zimbabwe  lacking  Valine  see:  1.6505673427958703 1.5817452583379188\n",
            "Zimbabwe  lacking total protein, see 42.32223955886847 33.41354813883546\n"
          ],
          "name": "stdout"
        }
      ]
    },
    {
      "cell_type": "code",
      "metadata": {
        "id": "W-yoOYEhZSfJ",
        "colab_type": "code",
        "colab": {}
      },
      "source": [
        "AA_ratios = pd.DataFrame.from_dict(AA_ctry,orient='index')"
      ],
      "execution_count": 0,
      "outputs": []
    },
    {
      "cell_type": "code",
      "metadata": {
        "id": "hSA39X1zVHES",
        "colab_type": "code",
        "colab": {}
      },
      "source": [
        "savepath = path + 'AA_ratios_safe.csv'\n",
        "AA_ratios.to_csv(savepath)"
      ],
      "execution_count": 0,
      "outputs": []
    },
    {
      "cell_type": "code",
      "metadata": {
        "id": "x2tsnoIyeAm9",
        "colab_type": "code",
        "outputId": "6f3380a1-a22b-484e-e92d-41fdd077f327",
        "colab": {
          "base_uri": "https://localhost:8080/",
          "height": 187
        }
      },
      "source": [
        "AA_all['Afghanistan'] # requirement, diet, ratio"
      ],
      "execution_count": 0,
      "outputs": [
        {
          "output_type": "execute_result",
          "data": {
            "text/plain": [
              "{'AAA': [1.4829529909295607, 3.181650213947502, 2.1454828530695],\n",
              " 'Histidine': [0.5853761806300898, 1.0671316584469748, 1.8229844222536198],\n",
              " 'Isoleucine': [1.1707523612601796, 1.672272505887443, 1.4283742328629045],\n",
              " 'Leucine': [2.3024796438116866, 3.1164248209910137, 1.353508088276457],\n",
              " 'Lysine': [1.7561285418902695, 2.0686111846277617, 1.1779383657195963],\n",
              " 'SAA': [0.8585517315907983, 1.52602662708826, 1.7774428388382688],\n",
              " 'Threonine': [0.897576810299471, 1.3413229154862352, 1.494382319256567],\n",
              " 'Tryptophan': [0.23415047225203592, 0.4871218714984065, 2.080379624321561],\n",
              " 'Valine': [1.5219780696382335, 1.9935380541448853, 1.3098336263273092],\n",
              " 'protein': [39.02507870867265, 50.42202361446346, 1.2920415610400302]}"
            ]
          },
          "metadata": {
            "tags": []
          },
          "execution_count": 78
        }
      ]
    },
    {
      "cell_type": "markdown",
      "metadata": {
        "id": "7FtuAydIGjFJ",
        "colab_type": "text"
      },
      "source": [
        "## Undernourishment\n",
        "Use the average diet as the mean of lognormal & the avg. requirement as threshold for undernourishment (NB FAO would use a 5th percentile for this?)"
      ]
    },
    {
      "cell_type": "code",
      "metadata": {
        "id": "rkq7nJ4MPr3t",
        "colab_type": "code",
        "colab": {}
      },
      "source": [
        "def prop_under(s_mean, CV, x):\n",
        "  sigma = ((math.log(CV**2+1)))**0.5\n",
        "  mu = math.log(s_mean) - sigma**2/2\n",
        "  CDF = 1/2 + 1/2*scipy.special.erf((math.log(x) - mu)/(2**0.5*sigma))\n",
        "  return CDF"
      ],
      "execution_count": 0,
      "outputs": []
    },
    {
      "cell_type": "code",
      "metadata": {
        "id": "Ws0lV-y6G6yF",
        "colab_type": "code",
        "colab": {}
      },
      "source": [
        "variable_diet = {}\n",
        "for country in AA_all:\n",
        "  variable_diet[country] = {}\n",
        "  for AA in AA_all[country]:\n",
        "    pr_mean = AA_all[country][AA][1] # average amount in diet\n",
        "    CV = 0.25 # sample\n",
        "\n",
        "    req = AA_all[country][AA][0] # average requirement\n",
        "\n",
        "    CDF = prop_under(pr_mean, sigma, req)\n",
        "    variable_diet[country][AA] = CDF"
      ],
      "execution_count": 0,
      "outputs": []
    },
    {
      "cell_type": "code",
      "metadata": {
        "id": "WDJNpISsoz7F",
        "colab_type": "code",
        "outputId": "f36d0ee0-6d97-4d54-c3a6-a8418c8758ff",
        "colab": {
          "base_uri": "https://localhost:8080/",
          "height": 241
        }
      },
      "source": [
        "variable_diet_df = pd.DataFrame.from_dict(variable_diet,orient='index')\n",
        "variable_diet_df.head()"
      ],
      "execution_count": 0,
      "outputs": [
        {
          "output_type": "execute_result",
          "data": {
            "text/html": [
              "<div>\n",
              "<style scoped>\n",
              "    .dataframe tbody tr th:only-of-type {\n",
              "        vertical-align: middle;\n",
              "    }\n",
              "\n",
              "    .dataframe tbody tr th {\n",
              "        vertical-align: top;\n",
              "    }\n",
              "\n",
              "    .dataframe thead th {\n",
              "        text-align: right;\n",
              "    }\n",
              "</style>\n",
              "<table border=\"1\" class=\"dataframe\">\n",
              "  <thead>\n",
              "    <tr style=\"text-align: right;\">\n",
              "      <th></th>\n",
              "      <th>Histidine</th>\n",
              "      <th>Isoleucine</th>\n",
              "      <th>Leucine</th>\n",
              "      <th>Lysine</th>\n",
              "      <th>SAA</th>\n",
              "      <th>AAA</th>\n",
              "      <th>Threonine</th>\n",
              "      <th>Tryptophan</th>\n",
              "      <th>Valine</th>\n",
              "      <th>protein</th>\n",
              "    </tr>\n",
              "  </thead>\n",
              "  <tbody>\n",
              "    <tr>\n",
              "      <th>Afghanistan</th>\n",
              "      <td>0.159174</td>\n",
              "      <td>0.310610</td>\n",
              "      <td>0.350879</td>\n",
              "      <td>0.461741</td>\n",
              "      <td>0.172173</td>\n",
              "      <td>0.091065</td>\n",
              "      <td>0.278464</td>\n",
              "      <td>0.101937</td>\n",
              "      <td>0.376299</td>\n",
              "      <td>0.387066</td>\n",
              "    </tr>\n",
              "    <tr>\n",
              "      <th>Albania</th>\n",
              "      <td>0.017260</td>\n",
              "      <td>0.032140</td>\n",
              "      <td>0.048495</td>\n",
              "      <td>0.022688</td>\n",
              "      <td>0.023415</td>\n",
              "      <td>0.005792</td>\n",
              "      <td>0.017214</td>\n",
              "      <td>0.018024</td>\n",
              "      <td>0.052496</td>\n",
              "      <td>0.142396</td>\n",
              "    </tr>\n",
              "    <tr>\n",
              "      <th>Algeria</th>\n",
              "      <td>0.100112</td>\n",
              "      <td>0.142358</td>\n",
              "      <td>0.179787</td>\n",
              "      <td>0.182758</td>\n",
              "      <td>0.094143</td>\n",
              "      <td>0.035596</td>\n",
              "      <td>0.110453</td>\n",
              "      <td>0.067432</td>\n",
              "      <td>0.189942</td>\n",
              "      <td>0.281223</td>\n",
              "    </tr>\n",
              "    <tr>\n",
              "      <th>Angola</th>\n",
              "      <td>0.136782</td>\n",
              "      <td>0.311888</td>\n",
              "      <td>0.352272</td>\n",
              "      <td>0.232458</td>\n",
              "      <td>0.203201</td>\n",
              "      <td>0.116810</td>\n",
              "      <td>0.211833</td>\n",
              "      <td>0.186711</td>\n",
              "      <td>0.416354</td>\n",
              "      <td>0.553057</td>\n",
              "    </tr>\n",
              "    <tr>\n",
              "      <th>Antigua and Barbuda</th>\n",
              "      <td>0.014032</td>\n",
              "      <td>0.040017</td>\n",
              "      <td>0.063740</td>\n",
              "      <td>0.016608</td>\n",
              "      <td>0.021050</td>\n",
              "      <td>0.009133</td>\n",
              "      <td>0.018269</td>\n",
              "      <td>0.016499</td>\n",
              "      <td>0.077025</td>\n",
              "      <td>0.171813</td>\n",
              "    </tr>\n",
              "  </tbody>\n",
              "</table>\n",
              "</div>"
            ],
            "text/plain": [
              "                     Histidine  Isoleucine  ...    Valine   protein\n",
              "Afghanistan           0.159174    0.310610  ...  0.376299  0.387066\n",
              "Albania               0.017260    0.032140  ...  0.052496  0.142396\n",
              "Algeria               0.100112    0.142358  ...  0.189942  0.281223\n",
              "Angola                0.136782    0.311888  ...  0.416354  0.553057\n",
              "Antigua and Barbuda   0.014032    0.040017  ...  0.077025  0.171813\n",
              "\n",
              "[5 rows x 10 columns]"
            ]
          },
          "metadata": {
            "tags": []
          },
          "execution_count": 98
        }
      ]
    },
    {
      "cell_type": "code",
      "metadata": {
        "id": "_cCzlg-TpCpo",
        "colab_type": "code",
        "colab": {}
      },
      "source": [
        "savepath = path + 'undernourished_25.csv'\n",
        "variable_diet_df.to_csv(savepath)"
      ],
      "execution_count": 0,
      "outputs": []
    },
    {
      "cell_type": "markdown",
      "metadata": {
        "id": "PObUtob2QwR6",
        "colab_type": "text"
      },
      "source": [
        "# Old Code"
      ]
    },
    {
      "cell_type": "code",
      "metadata": {
        "id": "SVGhVUNV3YFs",
        "colab_type": "code",
        "outputId": "da89ab33-175c-487a-a7fd-dbe7f92a8e24",
        "colab": {
          "base_uri": "https://localhost:8080/",
          "height": 68
        }
      },
      "source": [
        "# BMI regex work! (save me for now!)\n",
        "temp = BMI['2016'].values[0]\n",
        "print(temp)\n",
        "m = re.search(r\"[^[]*\\[([^]]*)\\]\", temp).groups()[0] # gets the things in the brackets!\n",
        "n = re.search(r'^.*(?=(\\[))', temp).group(0)\n",
        "print(m)\n",
        "print(n)"
      ],
      "execution_count": 0,
      "outputs": [
        {
          "output_type": "stream",
          "text": [
            "23.4 [22.0-24.8]\n",
            "22.0-24.8\n",
            "23.4 \n"
          ],
          "name": "stdout"
        }
      ]
    },
    {
      "cell_type": "code",
      "metadata": {
        "id": "jLqzoeb1A_P6",
        "colab_type": "code",
        "colab": {}
      },
      "source": [
        "adult_weight = 136.68 # average adult weight\n"
      ],
      "execution_count": 0,
      "outputs": []
    },
    {
      "cell_type": "code",
      "metadata": {
        "id": "9XjIW57WTNHn",
        "colab_type": "code",
        "colab": {}
      },
      "source": [
        "# calculate average height (m) for each country; look into this later\n",
        "ctry_hts = {}\n",
        "for country in list(pop_df.Location.unique()): \n",
        "  if country in list(height_df.Entity.unique()):\n",
        "    ht = height_df[height_df['Entity'].isin([country])]\n",
        "    m_ht = statistics.mean(ht['Males (centimeters)'])\n",
        "    f_ht = statistics.mean(ht['Females (centimeters)'])\n",
        "    ctry_hts[country] = {'M': m_ht/100, 'F': f_ht/100}"
      ],
      "execution_count": 0,
      "outputs": []
    },
    {
      "cell_type": "code",
      "metadata": {
        "id": "0-8cAU1z3DmJ",
        "colab_type": "code",
        "outputId": "3911c058-c569-43f8-d498-3590db690314",
        "colab": {
          "base_uri": "https://localhost:8080/",
          "height": 827
        }
      },
      "source": [
        "# match those historical populations with average weight\n",
        "avg_adult_weight = {}\n",
        "total_adult_weight = {}\n",
        "\n",
        "for country in list(pop_df.Location.unique()): \n",
        "  BMI = BMI_df[BMI_df['Country'].isin([country])]\n",
        "  f_yrs_weight = {}\n",
        "  m_yrs_weight = {}\n",
        "  \n",
        "  ctry_ht = ctry_hts.get(country)\n",
        "  if ctry_ht:\n",
        "    m_ht = ctry_ht['M'] # get the average height for that country\n",
        "    f_ht = ctry_ht['F']\n",
        "\n",
        "    f_tot_weight = {} # pre-allocate\n",
        "    m_tot_weight = {}\n",
        "    tot_yr_weight = {}\n",
        "    for year in list(pop_df.Time.unique()):\n",
        "      # BMI\n",
        "      if str(year) in BMI.columns: # only go through years for which we have data\n",
        "        avg_m_BMI = re.sub(r'\\[[^]]*\\]','',BMI[str(year)+'.1'].item())\n",
        "        avg_f_BMI = re.sub(r'\\[[^]]*\\]','',BMI[str(year)+'.2'].item())\n",
        "        \n",
        "        f_yrs_weight[year] = float(avg_f_BMI)*(f_ht)**2 # calculates weight from BMI and height\n",
        "        m_yrs_weight[year] = float(avg_m_BMI)*(m_ht)**2\n",
        "        \n",
        "        f_tot_weight[year] = f_adult_population[country][year]*f_yrs_weight[year]\n",
        "        m_tot_weight[year] = m_adult_population[country][year]*m_yrs_weight[year]\n",
        "        tot_yr_weight[year] = f_tot_weight[year] + m_tot_weight[year]\n",
        "        \n",
        "    avg_adult_weight[country] = {'f': f_yrs_weight, 'm': m_yrs_weight}\n",
        "  \n",
        "    total_adult_weight[country] = tot_yr_weight\n",
        "  else:\n",
        "    print([country, ' did not have associated height'])"
      ],
      "execution_count": 0,
      "outputs": [
        {
          "output_type": "stream",
          "text": [
            "['Africa', ' did not have associated height']\n",
            "['Aruba', ' did not have associated height']\n",
            "['Asia', ' did not have associated height']\n",
            "['Australia/New Zealand', ' did not have associated height']\n",
            "['Bolivia (Plurinational State of)', ' did not have associated height']\n",
            "['Brunei Darussalam', ' did not have associated height']\n",
            "['Cabo Verde', ' did not have associated height']\n",
            "['Caribbean', ' did not have associated height']\n",
            "['Central America', ' did not have associated height']\n",
            "['Central and Southern Asia', ' did not have associated height']\n",
            "['Central Asia', ' did not have associated height']\n",
            "['Channel Islands', ' did not have associated height']\n",
            "['China, Hong Kong SAR', ' did not have associated height']\n",
            "['China, Macao SAR', ' did not have associated height']\n",
            "['China, Taiwan Province of China', ' did not have associated height']\n",
            "[\"Côte d'Ivoire\", ' did not have associated height']\n",
            "['Curaçao', ' did not have associated height']\n",
            "['Czechia', ' did not have associated height']\n",
            "[\"Dem. People's Republic of Korea\", ' did not have associated height']\n",
            "['Democratic Republic of the Congo', ' did not have associated height']\n",
            "['Eastern Africa', ' did not have associated height']\n",
            "['Eastern and South-Eastern Asia', ' did not have associated height']\n",
            "['Eastern Asia', ' did not have associated height']\n",
            "['Eastern Europe', ' did not have associated height']\n",
            "['Eswatini', ' did not have associated height']\n",
            "['Europe', ' did not have associated height']\n",
            "['Europe and Northern America', ' did not have associated height']\n",
            "['French Guiana', ' did not have associated height']\n"
          ],
          "name": "stdout"
        },
        {
          "output_type": "error",
          "ename": "ValueError",
          "evalue": "ignored",
          "traceback": [
            "\u001b[0;31m---------------------------------------------------------------------------\u001b[0m",
            "\u001b[0;31mValueError\u001b[0m                                Traceback (most recent call last)",
            "\u001b[0;32m<ipython-input-173-55b7837faff5>\u001b[0m in \u001b[0;36m<module>\u001b[0;34m()\u001b[0m\n\u001b[1;32m     18\u001b[0m       \u001b[0;31m# BMI\u001b[0m\u001b[0;34m\u001b[0m\u001b[0;34m\u001b[0m\u001b[0;34m\u001b[0m\u001b[0m\n\u001b[1;32m     19\u001b[0m       \u001b[0;32mif\u001b[0m \u001b[0mstr\u001b[0m\u001b[0;34m(\u001b[0m\u001b[0myear\u001b[0m\u001b[0;34m)\u001b[0m \u001b[0;32min\u001b[0m \u001b[0mBMI\u001b[0m\u001b[0;34m.\u001b[0m\u001b[0mcolumns\u001b[0m\u001b[0;34m:\u001b[0m \u001b[0;31m# only go through years for which we have data\u001b[0m\u001b[0;34m\u001b[0m\u001b[0;34m\u001b[0m\u001b[0m\n\u001b[0;32m---> 20\u001b[0;31m         \u001b[0mavg_m_BMI\u001b[0m \u001b[0;34m=\u001b[0m \u001b[0mre\u001b[0m\u001b[0;34m.\u001b[0m\u001b[0msub\u001b[0m\u001b[0;34m(\u001b[0m\u001b[0;34mr'\\[[^]]*\\]'\u001b[0m\u001b[0;34m,\u001b[0m\u001b[0;34m''\u001b[0m\u001b[0;34m,\u001b[0m\u001b[0mBMI\u001b[0m\u001b[0;34m[\u001b[0m\u001b[0mstr\u001b[0m\u001b[0;34m(\u001b[0m\u001b[0myear\u001b[0m\u001b[0;34m)\u001b[0m\u001b[0;34m+\u001b[0m\u001b[0;34m'.1'\u001b[0m\u001b[0;34m]\u001b[0m\u001b[0;34m.\u001b[0m\u001b[0mitem\u001b[0m\u001b[0;34m(\u001b[0m\u001b[0;34m)\u001b[0m\u001b[0;34m)\u001b[0m\u001b[0;34m\u001b[0m\u001b[0;34m\u001b[0m\u001b[0m\n\u001b[0m\u001b[1;32m     21\u001b[0m         \u001b[0mavg_f_BMI\u001b[0m \u001b[0;34m=\u001b[0m \u001b[0mre\u001b[0m\u001b[0;34m.\u001b[0m\u001b[0msub\u001b[0m\u001b[0;34m(\u001b[0m\u001b[0;34mr'\\[[^]]*\\]'\u001b[0m\u001b[0;34m,\u001b[0m\u001b[0;34m''\u001b[0m\u001b[0;34m,\u001b[0m\u001b[0mBMI\u001b[0m\u001b[0;34m[\u001b[0m\u001b[0mstr\u001b[0m\u001b[0;34m(\u001b[0m\u001b[0myear\u001b[0m\u001b[0;34m)\u001b[0m\u001b[0;34m+\u001b[0m\u001b[0;34m'.2'\u001b[0m\u001b[0;34m]\u001b[0m\u001b[0;34m.\u001b[0m\u001b[0mitem\u001b[0m\u001b[0;34m(\u001b[0m\u001b[0;34m)\u001b[0m\u001b[0;34m)\u001b[0m\u001b[0;34m\u001b[0m\u001b[0;34m\u001b[0m\u001b[0m\n\u001b[1;32m     22\u001b[0m \u001b[0;34m\u001b[0m\u001b[0m\n",
            "\u001b[0;32m/usr/local/lib/python3.6/dist-packages/pandas/core/base.py\u001b[0m in \u001b[0;36mitem\u001b[0;34m(self)\u001b[0m\n\u001b[1;32m    714\u001b[0m         \"\"\"\n\u001b[1;32m    715\u001b[0m         \u001b[0;32mtry\u001b[0m\u001b[0;34m:\u001b[0m\u001b[0;34m\u001b[0m\u001b[0;34m\u001b[0m\u001b[0m\n\u001b[0;32m--> 716\u001b[0;31m             \u001b[0;32mreturn\u001b[0m \u001b[0mself\u001b[0m\u001b[0;34m.\u001b[0m\u001b[0mvalues\u001b[0m\u001b[0;34m.\u001b[0m\u001b[0mitem\u001b[0m\u001b[0;34m(\u001b[0m\u001b[0;34m)\u001b[0m\u001b[0;34m\u001b[0m\u001b[0;34m\u001b[0m\u001b[0m\n\u001b[0m\u001b[1;32m    717\u001b[0m         \u001b[0;32mexcept\u001b[0m \u001b[0mIndexError\u001b[0m\u001b[0;34m:\u001b[0m\u001b[0;34m\u001b[0m\u001b[0;34m\u001b[0m\u001b[0m\n\u001b[1;32m    718\u001b[0m             \u001b[0;31m# copy numpy's message here because Py26 raises an IndexError\u001b[0m\u001b[0;34m\u001b[0m\u001b[0;34m\u001b[0m\u001b[0;34m\u001b[0m\u001b[0m\n",
            "\u001b[0;31mValueError\u001b[0m: can only convert an array of size 1 to a Python scalar"
          ]
        }
      ]
    },
    {
      "cell_type": "code",
      "metadata": {
        "id": "cfmmR7ZQMu2r",
        "colab_type": "code",
        "colab": {}
      },
      "source": [
        ""
      ],
      "execution_count": 0,
      "outputs": []
    }
  ]
}