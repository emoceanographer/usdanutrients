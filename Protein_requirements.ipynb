{
  "nbformat": 4,
  "nbformat_minor": 0,
  "metadata": {
    "colab": {
      "name": "Protein_requirements.ipynb",
      "provenance": [],
      "collapsed_sections": [],
      "include_colab_link": true
    },
    "kernelspec": {
      "name": "python3",
      "display_name": "Python 3"
    }
  },
  "cells": [
    {
      "cell_type": "markdown",
      "metadata": {
        "id": "view-in-github",
        "colab_type": "text"
      },
      "source": [
        "<a href=\"https://colab.research.google.com/github/emoceanographer/usdanutrients/blob/master/Protein_requirements.ipynb\" target=\"_parent\"><img src=\"https://colab.research.google.com/assets/colab-badge.svg\" alt=\"Open In Colab\"/></a>"
      ]
    },
    {
      "cell_type": "code",
      "metadata": {
        "id": "V0QcVq8a2BrP",
        "colab_type": "code",
        "outputId": "f57f465f-be18-48d1-f36d-2e534088c18c",
        "colab": {
          "base_uri": "https://localhost:8080/",
          "height": 124
        }
      },
      "source": [
        "from google.colab import drive\n",
        "drive.mount('/content/drive')"
      ],
      "execution_count": 1,
      "outputs": [
        {
          "output_type": "stream",
          "text": [
            "Go to this URL in a browser: https://accounts.google.com/o/oauth2/auth?client_id=947318989803-6bn6qk8qdgf4n4g3pfee6491hc0brc4i.apps.googleusercontent.com&redirect_uri=urn%3aietf%3awg%3aoauth%3a2.0%3aoob&response_type=code&scope=email%20https%3a%2f%2fwww.googleapis.com%2fauth%2fdocs.test%20https%3a%2f%2fwww.googleapis.com%2fauth%2fdrive%20https%3a%2f%2fwww.googleapis.com%2fauth%2fdrive.photos.readonly%20https%3a%2f%2fwww.googleapis.com%2fauth%2fpeopleapi.readonly\n",
            "\n",
            "Enter your authorization code:\n",
            "··········\n",
            "Mounted at /content/drive\n"
          ],
          "name": "stdout"
        }
      ]
    },
    {
      "cell_type": "code",
      "metadata": {
        "id": "Fw-LAioBz4si",
        "colab_type": "code",
        "colab": {}
      },
      "source": [
        "import pandas as pd\n",
        "import re\n",
        "import statistics\n",
        "from operator import add\n",
        "import numpy as np\n",
        "\n",
        "import math\n",
        "import scipy\n",
        "from scipy import stats\n",
        "from scipy.optimize import least_squares"
      ],
      "execution_count": 0,
      "outputs": []
    },
    {
      "cell_type": "code",
      "metadata": {
        "id": "SXtlf2qI2XAR",
        "colab_type": "code",
        "colab": {}
      },
      "source": [
        "path = '/content/drive/My Drive/Colab Notebooks/Nutrition/'\n",
        "pop_path = path + 'WPP2019_PopulationByAgeSex_Medium.csv'\n",
        "#BMI_path = path + 'NCD_BMI_MEAN.csv'\n",
        "BMI_path = path + 'NCD_RisC_Lancet_2017_BMI_age_standardised_country.csv'\n",
        "height_path = path + 'heights_over_time.csv'\n",
        "fao_ctry_path = path + 'fao_ctry_codes.csv'\n",
        "CV_path = path + 'Food_Security_Indicators.xlsx'"
      ],
      "execution_count": 0,
      "outputs": []
    },
    {
      "cell_type": "markdown",
      "metadata": {
        "id": "Y4F_MCDjQ4Oo",
        "colab_type": "text"
      },
      "source": [
        "# Calculate avg. body mass of adults for each country"
      ]
    },
    {
      "cell_type": "markdown",
      "metadata": {
        "id": "JnRfrAzx2zq8",
        "colab_type": "text"
      },
      "source": [
        "Population: Dataset is WPP2019, Population by age and sex, medium; for each country; plan is to, for each (country, year), match demographic groups to the age_aa requirement pattern and calculate needed aa requirements"
      ]
    },
    {
      "cell_type": "code",
      "metadata": {
        "id": "bAEJinmS0aHs",
        "colab_type": "code",
        "colab": {}
      },
      "source": [
        "pop_df = pd.read_csv(pop_path, encoding='latin-1') # each country has year, age group's population\n",
        "BMI_df = pd.read_csv(BMI_path, encoding='latin-1') # each country has a year and an associated mean\n",
        "height_df = pd.read_csv(height_path)\n",
        "fao_ctry_codes = pd.read_csv(fao_ctry_path)"
      ],
      "execution_count": 0,
      "outputs": []
    },
    {
      "cell_type": "code",
      "metadata": {
        "id": "B8LlVkhExLdb",
        "colab_type": "code",
        "outputId": "0bd595f8-9285-4c43-c32b-3793bb92fac7",
        "colab": {
          "base_uri": "https://localhost:8080/",
          "height": 226
        }
      },
      "source": [
        "pop_df.head()"
      ],
      "execution_count": 5,
      "outputs": [
        {
          "output_type": "execute_result",
          "data": {
            "text/html": [
              "<div>\n",
              "<style scoped>\n",
              "    .dataframe tbody tr th:only-of-type {\n",
              "        vertical-align: middle;\n",
              "    }\n",
              "\n",
              "    .dataframe tbody tr th {\n",
              "        vertical-align: top;\n",
              "    }\n",
              "\n",
              "    .dataframe thead th {\n",
              "        text-align: right;\n",
              "    }\n",
              "</style>\n",
              "<table border=\"1\" class=\"dataframe\">\n",
              "  <thead>\n",
              "    <tr style=\"text-align: right;\">\n",
              "      <th></th>\n",
              "      <th>LocID</th>\n",
              "      <th>Location</th>\n",
              "      <th>VarID</th>\n",
              "      <th>Variant</th>\n",
              "      <th>Time</th>\n",
              "      <th>MidPeriod</th>\n",
              "      <th>AgeGrp</th>\n",
              "      <th>AgeGrpStart</th>\n",
              "      <th>AgeGrpSpan</th>\n",
              "      <th>PopMale</th>\n",
              "      <th>PopFemale</th>\n",
              "      <th>PopTotal</th>\n",
              "    </tr>\n",
              "  </thead>\n",
              "  <tbody>\n",
              "    <tr>\n",
              "      <th>0</th>\n",
              "      <td>4</td>\n",
              "      <td>Afghanistan</td>\n",
              "      <td>2</td>\n",
              "      <td>Medium</td>\n",
              "      <td>1950</td>\n",
              "      <td>1950.5</td>\n",
              "      <td>0-4</td>\n",
              "      <td>0</td>\n",
              "      <td>5</td>\n",
              "      <td>630.044</td>\n",
              "      <td>661.578</td>\n",
              "      <td>1291.622</td>\n",
              "    </tr>\n",
              "    <tr>\n",
              "      <th>1</th>\n",
              "      <td>4</td>\n",
              "      <td>Afghanistan</td>\n",
              "      <td>2</td>\n",
              "      <td>Medium</td>\n",
              "      <td>1950</td>\n",
              "      <td>1950.5</td>\n",
              "      <td>5-9</td>\n",
              "      <td>5</td>\n",
              "      <td>5</td>\n",
              "      <td>516.206</td>\n",
              "      <td>487.335</td>\n",
              "      <td>1003.540</td>\n",
              "    </tr>\n",
              "    <tr>\n",
              "      <th>2</th>\n",
              "      <td>4</td>\n",
              "      <td>Afghanistan</td>\n",
              "      <td>2</td>\n",
              "      <td>Medium</td>\n",
              "      <td>1950</td>\n",
              "      <td>1950.5</td>\n",
              "      <td>10-14</td>\n",
              "      <td>10</td>\n",
              "      <td>5</td>\n",
              "      <td>461.378</td>\n",
              "      <td>423.326</td>\n",
              "      <td>884.704</td>\n",
              "    </tr>\n",
              "    <tr>\n",
              "      <th>3</th>\n",
              "      <td>4</td>\n",
              "      <td>Afghanistan</td>\n",
              "      <td>2</td>\n",
              "      <td>Medium</td>\n",
              "      <td>1950</td>\n",
              "      <td>1950.5</td>\n",
              "      <td>15-19</td>\n",
              "      <td>15</td>\n",
              "      <td>5</td>\n",
              "      <td>414.369</td>\n",
              "      <td>369.363</td>\n",
              "      <td>783.732</td>\n",
              "    </tr>\n",
              "    <tr>\n",
              "      <th>4</th>\n",
              "      <td>4</td>\n",
              "      <td>Afghanistan</td>\n",
              "      <td>2</td>\n",
              "      <td>Medium</td>\n",
              "      <td>1950</td>\n",
              "      <td>1950.5</td>\n",
              "      <td>20-24</td>\n",
              "      <td>20</td>\n",
              "      <td>5</td>\n",
              "      <td>374.109</td>\n",
              "      <td>318.392</td>\n",
              "      <td>692.501</td>\n",
              "    </tr>\n",
              "  </tbody>\n",
              "</table>\n",
              "</div>"
            ],
            "text/plain": [
              "   LocID     Location  VarID Variant  ...  AgeGrpSpan  PopMale PopFemale  PopTotal\n",
              "0      4  Afghanistan      2  Medium  ...           5  630.044   661.578  1291.622\n",
              "1      4  Afghanistan      2  Medium  ...           5  516.206   487.335  1003.540\n",
              "2      4  Afghanistan      2  Medium  ...           5  461.378   423.326   884.704\n",
              "3      4  Afghanistan      2  Medium  ...           5  414.369   369.363   783.732\n",
              "4      4  Afghanistan      2  Medium  ...           5  374.109   318.392   692.501\n",
              "\n",
              "[5 rows x 12 columns]"
            ]
          },
          "metadata": {
            "tags": []
          },
          "execution_count": 5
        }
      ]
    },
    {
      "cell_type": "code",
      "metadata": {
        "id": "Z2PjkjuqufVe",
        "colab_type": "code",
        "colab": {}
      },
      "source": [
        "def BMI_extract(df,yrs):\n",
        "  \"\"\"Gets the average and standard deviation for selected years for male and female BMI\"\"\"\n",
        "  # Male\n",
        "  temp = df[(df['Sex']=='Men') & (df['Year'].isin(yrs))]\n",
        "  avgM = temp['Mean BMI'].mean(axis=0)\n",
        "  #stdM = ((temp['Mean BMI upper 95% uncertainty interval'] - temp['Mean BMI lower 95% uncertainty interval'])/4).mean(axis=0)\n",
        "  \n",
        "   # Female\n",
        "  temp = df[(df['Sex']=='Women') & (df['Year'].isin(yrs))]\n",
        "  avgF = temp['Mean BMI'].mean(axis=0)\n",
        "  #stdF = ((temp['Mean BMI upper 95% uncertainty interval'] - temp['Mean BMI lower 95% uncertainty interval'])/4).mean(axis=0)\n",
        "  \n",
        "  return avgM, avgF"
      ],
      "execution_count": 0,
      "outputs": []
    },
    {
      "cell_type": "code",
      "metadata": {
        "id": "hSj6l4T60wu6",
        "colab_type": "code",
        "colab": {}
      },
      "source": [
        "def perc_calc(percentile, mean_val, std):\n",
        "  \"\"\"For a normal distribution, calculate the value of a normal distribution at the nth percentile\"\"\"\n",
        "  x = scipy.special.erfinv(2*percentile-1)*std*2**.5 + mean_val\n",
        "  return x"
      ],
      "execution_count": 0,
      "outputs": []
    },
    {
      "cell_type": "code",
      "metadata": {
        "id": "eQPEUwwT7NKM",
        "colab_type": "code",
        "colab": {}
      },
      "source": [
        "# Age group definitions\n",
        "child_age_grps = ['0-4', '5-9', '10-14', '15-19']\n",
        "geriatric_age_grps = ['65-69', '70-74', '75-79', '80-84', \n",
        "                      '85-89', '90-94', '95-99', '100+']\n",
        "adult_age_grps = ['20-24', '25-29', '30-34', '35-39',\n",
        "       '40-44', '45-49', '50-54', '55-59', '60-64', '65-69', '70-74',\n",
        "       '75-79', '80-84', '85-89', '90-94', '95-99', '100+'] # age groups for pop. data"
      ],
      "execution_count": 0,
      "outputs": []
    },
    {
      "cell_type": "code",
      "metadata": {
        "id": "VM2yNAP5NkxP",
        "colab_type": "code",
        "colab": {}
      },
      "source": [
        "ctry_mismatches = {'China, Hong Kong SAR': ['none'], 'China, Macao SAR': ['none'], \n",
        "                   'China, Taiwan Province of China': ['none'], \n",
        "                   \"Dem. People's Republic of Korea\": \"Democratic People's Republic of Korea\",\n",
        "                   'French Guiana': ['none'], 'French Polynesia': ['none'], \n",
        "                   'Guadeloupe': ['none'],'Martinique': ['none'],\n",
        "                   'United Kingdom': ['United Kingdom of Great Britain and Northern Ireland'],\n",
        "                   'Puerto Rico': ['none'], 'United Republic of Tanzania': 'Tanzania',\n",
        "                   'Bolivia (Plurinational State of)': 'Bolivia',\n",
        "                   \"Côte d'Ivoire\": \"Cote d'Ivoire\", \"Dem. People's Republic of Korea\": 'North Korea',\n",
        "                   'Democratic Republic of the Congo': 'DR Congo', 'Eswatini':'Swaziland',\n",
        "                   'Iran (Islamic Republic of)':'Iran', 'Republic of Korea': 'South Korea',\n",
        "                   'Venezuela (Bolivarian Republic of)': 'Venezuela'}"
      ],
      "execution_count": 0,
      "outputs": []
    },
    {
      "cell_type": "code",
      "metadata": {
        "id": "8IazvZFI0HA1",
        "colab_type": "code",
        "outputId": "99d747cf-bec4-4d0d-9525-99abe85bfff8",
        "colab": {
          "base_uri": "https://localhost:8080/",
          "height": 1000
        }
      },
      "source": [
        "# for each year and country, calculate the average mass of an adult\n",
        "avg_weight = {}\n",
        "avg_underweight = {}\n",
        "\n",
        "\n",
        "for country in list(pop_df.Location.unique()): # cycle through each country\n",
        "  # population\n",
        "  temp = pop_df[pop_df['Location'].isin([country])]\n",
        "  temp = temp[temp['AgeGrp'].isin(adult_age_grps)]\n",
        "  \n",
        "  # BMI\n",
        "  ctr = 0\n",
        "  if country in BMI_df['Country/Region/World'].unique(): # skip countries for which there is no BMI\n",
        "    ctr = 1\n",
        "    BMI = BMI_df[BMI_df['Country/Region/World'] == country]\n",
        "    \n",
        "  if country in ctry_mismatches: \n",
        "    if ctry_mismatches[country][0] in BMI_df['Country/Region/World'].unique():\n",
        "      BMI = BMI_df[BMI_df['Country/Region/World'] == ctry_mismatches[country][0]]\n",
        "      print('mismatch')\n",
        "      ctr = 1\n",
        "    if ctry_mismatches[country] == ['none']:\n",
        "        ctr = 0\n",
        "  if ctr == 1:\n",
        "\n",
        "    if country == 'United Kingdom':\n",
        "      ctry_code = 'GBR'\n",
        "    else:\n",
        "      ctry_code = fao_ctry_codes[fao_ctry_codes['Short name'] == country]['ISO3'].values[0]\n",
        "    \n",
        "    # Heights (gets people 20-40 in 2011-2013 by year of birth)\n",
        "    hts = height_df[height_df['Code'] == ctry_code]\n",
        "    hts_m = hts[(hts['Year']>1970) & (hts['Year']<1994)]['Males (centimeters)'].mean()\n",
        "    hts_f = hts[(hts['Year']>1970) & (hts['Year']<1994)]['Females (centimeters)'].mean()\n",
        "    \n",
        "    f_pop_year = []\n",
        "    m_pop_year = []\n",
        "    f_BMI = []\n",
        "    m_BMI = []\n",
        "    \n",
        "    for year in list(pop_df.Time.unique()):\n",
        "      if year < 2014 and year > 2010: # get 2011-2013\n",
        "        # population\n",
        "        f_adult_yr_pop = sum(temp[temp['Time'].isin([year])]['PopFemale'])\n",
        "        m_adult_yr_pop = sum(temp[temp['Time'].isin([year])]['PopMale'])\n",
        "        f_pop_year.append(f_adult_yr_pop*1000) # units originally in thousands of people\n",
        "        m_pop_year.append(m_adult_yr_pop*1000)\n",
        "\n",
        "        # BMI (average only)\n",
        "    meanM,meanF = BMI_extract(BMI,[2011,2012,2013])\n",
        "\n",
        "    f_uw =  (hts_f/100)**2 * 18.5\n",
        "    m_uw = (hts_m/100)**2 * 18.5\n",
        "    total_underweight = (f_uw*statistics.mean(f_pop_year) + m_uw*statistics.mean(m_pop_year)) / statistics.mean(list(map(add, f_pop_year, m_pop_year)))\n",
        "    \n",
        "    p_muw = BMI[(BMI['Sex']=='Men') & (BMI['Year'].isin([2011,2012,2013]))]['Prevalence of BMI<18.5 kg/m² (underweight)'].values[0].mean()\n",
        "    p_fuw = BMI[(BMI['Sex']=='Women') & (BMI['Year'].isin([2011,2012,2013]))]['Prevalence of BMI<18.5 kg/m² (underweight)'].values[0].mean()\n",
        "    \n",
        "    # Weight calculation (kg)\n",
        "    f_weight = (hts_f/100)**2 * meanF\n",
        "    m_weight = (hts_m/100)**2 * meanM\n",
        "    \n",
        "    # Population weighting\n",
        "    avg_weight[country] = (f_weight*statistics.mean(f_pop_year) + m_weight*statistics.mean(m_pop_year)) / statistics.mean(list(map(add, f_pop_year, m_pop_year)))\n",
        "    avg_underweight[country] = {'weight': total_underweight, 'percent': (p_fuw*statistics.mean(f_pop_year) + p_muw*statistics.mean(m_pop_year)) / statistics.mean(list(map(add, f_pop_year, m_pop_year)))}\n",
        "\n",
        "\n",
        "  else:\n",
        "    print(country)"
      ],
      "execution_count": 0,
      "outputs": [
        {
          "output_type": "stream",
          "text": [
            "Africa\n",
            "Aruba\n",
            "Asia\n",
            "Australia/New Zealand\n",
            "Bolivia (Plurinational State of)\n",
            "Caribbean\n",
            "Central America\n",
            "Central and Southern Asia\n",
            "Central Asia\n",
            "Channel Islands\n",
            "China, Hong Kong SAR\n",
            "China, Macao SAR\n",
            "China, Taiwan Province of China\n",
            "Côte d'Ivoire\n",
            "Curaçao\n",
            "Czechia\n",
            "Dem. People's Republic of Korea\n",
            "Democratic Republic of the Congo\n",
            "Eastern Africa\n",
            "Eastern and South-Eastern Asia\n",
            "Eastern Asia\n",
            "Eastern Europe\n",
            "Eswatini\n",
            "Europe\n",
            "Europe and Northern America\n",
            "French Guiana\n",
            "French Polynesia\n",
            "Guadeloupe\n",
            "Guam\n",
            "Guinea-Bissau\n",
            "High-income countries\n",
            "Iran (Islamic Republic of)\n",
            "Land-locked Developing Countries (LLDC)\n",
            "Lao People's Democratic Republic\n",
            "Latin America and the Caribbean\n",
            "Least developed countries\n",
            "Less developed regions\n",
            "Less developed regions, excluding China\n",
            "Less developed regions, excluding least developed countries\n",
            "Low-income countries\n",
            "Lower-middle-income countries\n",
            "Martinique\n",
            "Mayotte\n",
            "Melanesia\n",
            "Micronesia\n",
            "Micronesia (Fed. States of)\n",
            "Middle Africa\n",
            "Middle-income countries\n",
            "More developed regions\n",
            "New Caledonia\n",
            "No income group available\n",
            "North Macedonia\n",
            "Northern Africa\n",
            "Northern Africa and Western Asia\n",
            "Northern America\n",
            "Northern Europe\n",
            "Oceania\n",
            "Oceania (excluding Australia and New Zealand)\n",
            "Polynesia\n",
            "Puerto Rico\n",
            "Republic of Korea\n",
            "Republic of Moldova\n",
            "Réunion\n",
            "Small Island Developing States (SIDS)\n",
            "South America\n",
            "South Sudan\n",
            "South-Eastern Asia\n",
            "Southern Africa\n",
            "Southern Asia\n",
            "Southern Europe\n",
            "State of Palestine\n",
            "Sub-Saharan Africa\n",
            "United Republic of Tanzania\n",
            "United States Virgin Islands\n",
            "Upper-middle-income countries\n",
            "Venezuela (Bolivarian Republic of)\n",
            "Western Africa\n",
            "Western Asia\n",
            "Western Europe\n",
            "Western Sahara\n",
            "World\n"
          ],
          "name": "stdout"
        }
      ]
    },
    {
      "cell_type": "code",
      "metadata": {
        "id": "YJc6A1Ay_wFv",
        "colab_type": "code",
        "colab": {}
      },
      "source": [
        "child_weights = {'0-4': 13, '5-9': 26, '10-14': 46, '15-19': 67} # estimates; https://www.cincinnatichildrens.org/health/g/normal-growth used MF average"
      ],
      "execution_count": 0,
      "outputs": []
    },
    {
      "cell_type": "code",
      "metadata": {
        "id": "dppOih3LAA2g",
        "colab_type": "code",
        "colab": {}
      },
      "source": [
        ""
      ],
      "execution_count": 0,
      "outputs": []
    },
    {
      "cell_type": "code",
      "metadata": {
        "id": "1Ie4qt9_DHiB",
        "colab_type": "code",
        "outputId": "660eb2d4-65e4-4f2d-e4de-ff01e3a6b93d",
        "colab": {
          "base_uri": "https://localhost:8080/",
          "height": 34
        }
      },
      "source": [
        "# Selects the average UNDERWEIGHT amount (corresponding to BMI of 18.5)\n",
        "ctry_weights = pd.DataFrame.from_dict(avg_underweight,orient='index')\n",
        "ctry_weights = ctry_weights.reset_index()\n",
        "missing = ctry_weights[ctry_weights['weight'].isna()]\n",
        "list(missing['index'].unique()) # should be just those with actually no data (e.g. Sudan)"
      ],
      "execution_count": 0,
      "outputs": [
        {
          "output_type": "execute_result",
          "data": {
            "text/plain": [
              "[]"
            ]
          },
          "metadata": {
            "tags": []
          },
          "execution_count": 23
        }
      ]
    },
    {
      "cell_type": "markdown",
      "metadata": {
        "id": "ZI0xZd-zQzhW",
        "colab_type": "text"
      },
      "source": [
        "# Calculate AA requirements per capita (adults)"
      ]
    },
    {
      "cell_type": "code",
      "metadata": {
        "id": "TDjdwTOuTzIE",
        "colab_type": "code",
        "colab": {}
      },
      "source": [
        "case = 'safe'\n",
        "\n",
        "if case == 'baseline':\n",
        "\n",
        "  AA_adult_req = {'Histidine': 15, 'Isoleucine': 30, 'Leucine': 59, 'Lysine': 45, \n",
        "                 'SAA': 22, 'AAA': 38, 'Threonine': 23, 'Tryptophan': 6, 'Valine': 39} # mg AA /g protein\n",
        "  AA_total = .66 # g/kg\n",
        "elif case == 'safe':\n",
        "  AA_adult_req = {'Histidine': 12, 'Isoleucine': 24, 'Leucine': 47, 'Lysine': 36, \n",
        "                 'SAA': 17, 'AAA': 30, 'Threonine': 18, 'Tryptophan': 5, 'Valine': 31} # mg AA /g protein\n",
        "  AA_total = .83 # g/kg"
      ],
      "execution_count": 0,
      "outputs": []
    },
    {
      "cell_type": "code",
      "metadata": {
        "id": "XjJpOz_2Vnha",
        "colab_type": "code",
        "colab": {}
      },
      "source": [
        "SAA = ['Methionine', 'Cystine'] # there are others, but not in my diet AA list\n",
        "AAA = ['Phenylalanine', 'Tyrosine'] # also tryptophan and histidine but they are listed separately"
      ],
      "execution_count": 0,
      "outputs": []
    },
    {
      "cell_type": "code",
      "metadata": {
        "id": "of-vUtL-VASN",
        "colab_type": "code",
        "colab": {}
      },
      "source": [
        "# NOT EAT-Lancet\n",
        "#diet_AA = pd.read_csv(path + 'diet_aa_1126_waste.csv')\n",
        "diet_AA = pd.read_csv(path + 'diet_aa_current_withsubs.csv')"
      ],
      "execution_count": 0,
      "outputs": []
    },
    {
      "cell_type": "code",
      "metadata": {
        "id": "E4f9YjQU_nhe",
        "colab_type": "code",
        "colab": {}
      },
      "source": [
        "# EAT-Lancet\n",
        "#diet_AA = pd.read_csv(path + 'diet_aa_eat_lancet.csv')\n",
        "diet_AA = pd.read_csv(path + 'diet_aa_eatlancet_withsubs.csv')\n"
      ],
      "execution_count": 0,
      "outputs": []
    },
    {
      "cell_type": "code",
      "metadata": {
        "id": "qGla-rRtAGt_",
        "colab_type": "code",
        "outputId": "bda7f0ef-1f6e-4d31-e4a3-9f57b0d42184",
        "colab": {
          "base_uri": "https://localhost:8080/",
          "height": 244
        }
      },
      "source": [
        "diet_AA.head()"
      ],
      "execution_count": 0,
      "outputs": [
        {
          "output_type": "execute_result",
          "data": {
            "text/html": [
              "<div>\n",
              "<style scoped>\n",
              "    .dataframe tbody tr th:only-of-type {\n",
              "        vertical-align: middle;\n",
              "    }\n",
              "\n",
              "    .dataframe tbody tr th {\n",
              "        vertical-align: top;\n",
              "    }\n",
              "\n",
              "    .dataframe thead th {\n",
              "        text-align: right;\n",
              "    }\n",
              "</style>\n",
              "<table border=\"1\" class=\"dataframe\">\n",
              "  <thead>\n",
              "    <tr style=\"text-align: right;\">\n",
              "      <th></th>\n",
              "      <th>Unnamed: 0</th>\n",
              "      <th>Tryptophan</th>\n",
              "      <th>Threonine</th>\n",
              "      <th>Isoleucine</th>\n",
              "      <th>Leucine</th>\n",
              "      <th>Lysine</th>\n",
              "      <th>Methionine</th>\n",
              "      <th>Cystine</th>\n",
              "      <th>Phenylalanine</th>\n",
              "      <th>Tyrosine</th>\n",
              "      <th>Valine</th>\n",
              "      <th>Arginine</th>\n",
              "      <th>Histidine</th>\n",
              "      <th>Alanine</th>\n",
              "      <th>Aspartic</th>\n",
              "      <th>Glutamic</th>\n",
              "      <th>Glycine</th>\n",
              "      <th>Serine</th>\n",
              "      <th>protein</th>\n",
              "    </tr>\n",
              "  </thead>\n",
              "  <tbody>\n",
              "    <tr>\n",
              "      <th>0</th>\n",
              "      <td>all-r</td>\n",
              "      <td>0.824814</td>\n",
              "      <td>2.840416</td>\n",
              "      <td>3.234060</td>\n",
              "      <td>5.706459</td>\n",
              "      <td>5.365887</td>\n",
              "      <td>1.757487</td>\n",
              "      <td>0.881298</td>\n",
              "      <td>3.364310</td>\n",
              "      <td>2.388827</td>\n",
              "      <td>3.590507</td>\n",
              "      <td>4.954875</td>\n",
              "      <td>1.996653</td>\n",
              "      <td>1.605689</td>\n",
              "      <td>3.719884</td>\n",
              "      <td>8.187701</td>\n",
              "      <td>1.301508</td>\n",
              "      <td>1.690849</td>\n",
              "      <td>75.917363</td>\n",
              "    </tr>\n",
              "    <tr>\n",
              "      <th>1</th>\n",
              "      <td>HIC</td>\n",
              "      <td>1.058391</td>\n",
              "      <td>3.721594</td>\n",
              "      <td>4.193758</td>\n",
              "      <td>7.345268</td>\n",
              "      <td>7.145583</td>\n",
              "      <td>2.321522</td>\n",
              "      <td>1.129461</td>\n",
              "      <td>4.273194</td>\n",
              "      <td>3.082853</td>\n",
              "      <td>4.621841</td>\n",
              "      <td>6.112248</td>\n",
              "      <td>2.591660</td>\n",
              "      <td>1.751056</td>\n",
              "      <td>3.977686</td>\n",
              "      <td>9.538550</td>\n",
              "      <td>1.453121</td>\n",
              "      <td>1.933711</td>\n",
              "      <td>98.935805</td>\n",
              "    </tr>\n",
              "    <tr>\n",
              "      <th>2</th>\n",
              "      <td>UMC</td>\n",
              "      <td>1.021823</td>\n",
              "      <td>3.613558</td>\n",
              "      <td>4.079480</td>\n",
              "      <td>7.189858</td>\n",
              "      <td>6.921440</td>\n",
              "      <td>2.260763</td>\n",
              "      <td>1.096816</td>\n",
              "      <td>4.169556</td>\n",
              "      <td>3.012290</td>\n",
              "      <td>4.505865</td>\n",
              "      <td>5.944016</td>\n",
              "      <td>2.514458</td>\n",
              "      <td>1.717137</td>\n",
              "      <td>3.882230</td>\n",
              "      <td>9.173498</td>\n",
              "      <td>1.378224</td>\n",
              "      <td>1.876460</td>\n",
              "      <td>95.894633</td>\n",
              "    </tr>\n",
              "    <tr>\n",
              "      <th>3</th>\n",
              "      <td>LMC</td>\n",
              "      <td>0.784040</td>\n",
              "      <td>2.685262</td>\n",
              "      <td>3.066537</td>\n",
              "      <td>5.402547</td>\n",
              "      <td>5.050060</td>\n",
              "      <td>1.658910</td>\n",
              "      <td>0.837089</td>\n",
              "      <td>3.205867</td>\n",
              "      <td>2.257867</td>\n",
              "      <td>3.411042</td>\n",
              "      <td>4.765309</td>\n",
              "      <td>1.886771</td>\n",
              "      <td>1.576281</td>\n",
              "      <td>3.696006</td>\n",
              "      <td>7.966629</td>\n",
              "      <td>1.279784</td>\n",
              "      <td>1.644435</td>\n",
              "      <td>71.857102</td>\n",
              "    </tr>\n",
              "    <tr>\n",
              "      <th>4</th>\n",
              "      <td>LIC</td>\n",
              "      <td>0.556809</td>\n",
              "      <td>1.803345</td>\n",
              "      <td>2.097855</td>\n",
              "      <td>3.796391</td>\n",
              "      <td>3.287390</td>\n",
              "      <td>1.082998</td>\n",
              "      <td>0.594064</td>\n",
              "      <td>2.283287</td>\n",
              "      <td>1.595831</td>\n",
              "      <td>2.361480</td>\n",
              "      <td>3.559109</td>\n",
              "      <td>1.320599</td>\n",
              "      <td>1.464568</td>\n",
              "      <td>3.403934</td>\n",
              "      <td>6.767233</td>\n",
              "      <td>1.156944</td>\n",
              "      <td>1.451411</td>\n",
              "      <td>49.139684</td>\n",
              "    </tr>\n",
              "  </tbody>\n",
              "</table>\n",
              "</div>"
            ],
            "text/plain": [
              "  Unnamed: 0  Tryptophan  Threonine  ...   Glycine    Serine    protein\n",
              "0      all-r    0.824814   2.840416  ...  1.301508  1.690849  75.917363\n",
              "1        HIC    1.058391   3.721594  ...  1.453121  1.933711  98.935805\n",
              "2        UMC    1.021823   3.613558  ...  1.378224  1.876460  95.894633\n",
              "3        LMC    0.784040   2.685262  ...  1.279784  1.644435  71.857102\n",
              "4        LIC    0.556809   1.803345  ...  1.156944  1.451411  49.139684\n",
              "\n",
              "[5 rows x 19 columns]"
            ]
          },
          "metadata": {
            "tags": []
          },
          "execution_count": 21
        }
      ]
    },
    {
      "cell_type": "code",
      "metadata": {
        "id": "Kay8VytnCcPl",
        "colab_type": "code",
        "colab": {}
      },
      "source": [
        "names = {'Cape Verde': 'Cabo Verde', 'Czech Republic': 'Czechia', \n",
        "         'C√¥te d&#39;Ivoire': \"Côte d'Ivoire\", 'Côte d&#39;Ivoire': \"Côte d'Ivoire\",\n",
        "         'Democratic People&#39;s Republic of Korea':\n",
        "        \"Democratic People's Republic of Korea\", \n",
        "         'Faroe Islands (Associate Member)': 'Faroe Islands', \n",
        "         'Lao People&#39;s Democratic Republic': \"Lao People's Democratic Republic\",\n",
        "          'Swaziland': 'Eswatini', 'Tokelau (Associate Member)': 'Tokelau',\n",
        "        'United Kingdom': 'United Kingdom of Great Britain and Northern Ireland'}\n",
        "ignore = ['Holy See','Liechtenstein','The former Yugoslav Republic of Macedonia',\n",
        "          np.nan,'Antarctica']"
      ],
      "execution_count": 0,
      "outputs": []
    },
    {
      "cell_type": "code",
      "metadata": {
        "id": "PsXtKQphCZva",
        "colab_type": "code",
        "colab": {}
      },
      "source": [
        "def name2iso3(name, names, ctry_codes):\n",
        "  if name in names:\n",
        "    iso3 = ctry_codes[ctry_codes['Short name'] == names[name]]['ISO3'].values[0]\n",
        "  elif name in ignore:\n",
        "    iso3 = np.nan\n",
        "  else:\n",
        "    iso3 = ctry_codes[ctry_codes['Short name'] == name]['ISO3'].values[0]\n",
        "  return iso3"
      ],
      "execution_count": 0,
      "outputs": []
    },
    {
      "cell_type": "code",
      "metadata": {
        "id": "LirtE-RNCOQw",
        "colab_type": "code",
        "colab": {}
      },
      "source": [
        "isos = []\n",
        "for country in ctry_weights['index'].unique(): # assigns ISO3 values to country names\n",
        "  isos.append(name2iso3(country,names,fao_ctry_codes))\n",
        "ctry_weights['ISO3'] = isos"
      ],
      "execution_count": 0,
      "outputs": []
    },
    {
      "cell_type": "code",
      "metadata": {
        "id": "v1h9KSplC9xY",
        "colab_type": "code",
        "outputId": "21615244-0ecb-4781-eb30-60371e809ce9",
        "colab": {
          "base_uri": "https://localhost:8080/",
          "height": 156
        }
      },
      "source": [
        "# EAT-Lancet version\n",
        "AA_ctry = {}\n",
        "AA_all = {}\n",
        "for country in diet_AA['Unnamed: 0'].unique().tolist():\n",
        "  if country in ctry_weights['ISO3'].unique().tolist():\n",
        "    diet_ctry = diet_AA[diet_AA['Unnamed: 0'] == country]\n",
        "    AA_ctry[country] = {}\n",
        "    AA_all[country] = {}\n",
        "    for AA in AA_adult_req: \n",
        "      avg_weight = ctry_weights[ctry_weights['ISO3']==country]['weight'].values[0] \n",
        "      AA_req =  avg_weight * AA_total * AA_adult_req[AA] * 0.001 #g/capita/day\n",
        "      if AA == 'SAA':\n",
        "        aa_diet = []\n",
        "        for aa in SAA: \n",
        "          aa_diet.append(diet_ctry[aa].values[0])\n",
        "        AA_diet = sum(aa_diet)\n",
        "      elif AA == 'AAA':\n",
        "        aa_diet = []\n",
        "        for aa in AAA: \n",
        "          aa_diet.append(diet_ctry[aa].values[0])\n",
        "        AA_diet = sum(aa_diet)\n",
        "      else:\n",
        "        AA_diet = diet_ctry[AA].values[0]\n",
        "      AA_ctry[country][AA] = AA_diet / AA_req #[AA_req, AA_diet, AA_diet/AA_req] \n",
        "      AA_all[country][AA] = [AA_req, AA_diet, AA_diet/AA_req] \n",
        "      if AA_ctry[country][AA]<1:\n",
        "        print(country, ' lacking ' , AA, ' see: ', AA_req, AA_diet)\n",
        "    total_protein_req = avg_weight * AA_total\n",
        "    total_protein_diet = diet_ctry['protein'].values[0]\n",
        "    AA_ctry[country]['protein'] =  total_protein_diet/total_protein_req #[total_protein_req, total_protein_diet, total_protein_diet/total_protein_req]\n",
        "    AA_all[country]['protein'] = [total_protein_req, total_protein_diet, total_protein_diet/total_protein_req]\n",
        "    if AA_ctry[country]['protein'] < 1: \n",
        "      print(country, ' lacking total protein, see' , total_protein_req, total_protein_diet)"
      ],
      "execution_count": 0,
      "outputs": [
        {
          "output_type": "stream",
          "text": [
            "BDI  lacking total protein, see 40.22304740634166 35.656407523164575\n",
            "CAF  lacking total protein, see 41.17876392106861 38.27858393090995\n",
            "ERI  lacking total protein, see 41.031221395992034 39.23842512434006\n",
            "GIN  lacking total protein, see 41.28102389063809 37.68277423774101\n",
            "MWI  lacking total protein, see 39.26671319363268 37.995569312015455\n",
            "RWA  lacking total protein, see 39.775335029288 34.50022620367821\n",
            "TCD  lacking total protein, see 42.93093663498566 41.520137219134185\n",
            "GNQ  lacking total protein, see 41.73330701861095 28.25461021734612\n"
          ],
          "name": "stdout"
        }
      ]
    },
    {
      "cell_type": "code",
      "metadata": {
        "id": "F5HaS7DrVV6X",
        "colab_type": "code",
        "outputId": "1a6ab6c9-64af-4f30-b80b-19bf12059707",
        "colab": {
          "base_uri": "https://localhost:8080/",
          "height": 254
        }
      },
      "source": [
        "AA_ctry = {}\n",
        "AA_all = {}\n",
        "for country in diet_AA['Unnamed: 0'].unique().tolist():\n",
        "  if country in ctry_weights['index'].unique().tolist():\n",
        "    diet_ctry = diet_AA[diet_AA['Unnamed: 0'] == country]\n",
        "    AA_ctry[country] = {}\n",
        "    AA_all[country] = {}\n",
        "    for AA in AA_adult_req: \n",
        "      avg_weight = ctry_weights[ctry_weights['index']==country]['weight'].values[0] \n",
        "      AA_req =  avg_weight * AA_total * AA_adult_req[AA] * 0.001 #g/capita/day\n",
        "      if AA == 'SAA':\n",
        "        aa_diet = []\n",
        "        for aa in SAA: \n",
        "          aa_diet.append(diet_ctry[aa].values[0])\n",
        "        AA_diet = sum(aa_diet)\n",
        "      elif AA == 'AAA':\n",
        "        aa_diet = []\n",
        "        for aa in AAA: \n",
        "          aa_diet.append(diet_ctry[aa].values[0])\n",
        "        AA_diet = sum(aa_diet)\n",
        "      else:\n",
        "        AA_diet = diet_ctry[AA].values[0]\n",
        "      AA_ctry[country][AA] = AA_diet / AA_req #[AA_req, AA_diet, AA_diet/AA_req] \n",
        "      AA_all[country][AA] = [AA_req, AA_diet, AA_diet/AA_req] \n",
        "      if AA_ctry[country][AA]<1:\n",
        "        print(country, ' lacking ' , AA, ' see: ', AA_req, AA_diet)\n",
        "    total_protein_req = avg_weight * AA_total\n",
        "    total_protein_diet = diet_ctry['protein'].values[0]\n",
        "    AA_ctry[country]['protein'] =  total_protein_diet/total_protein_req #[total_protein_req, total_protein_diet, total_protein_diet/total_protein_req]\n",
        "    AA_all[country]['protein'] = [total_protein_req, total_protein_diet, total_protein_diet/total_protein_req]\n",
        "    if AA_ctry[country]['protein'] < 1: \n",
        "      print(country, ' lacking total protein, see' , total_protein_req, total_protein_diet)"
      ],
      "execution_count": 0,
      "outputs": [
        {
          "output_type": "error",
          "ename": "NameError",
          "evalue": "ignored",
          "traceback": [
            "\u001b[0;31m---------------------------------------------------------------------------\u001b[0m",
            "\u001b[0;31mNameError\u001b[0m                                 Traceback (most recent call last)",
            "\u001b[0;32m<ipython-input-19-eed6c7bad8f3>\u001b[0m in \u001b[0;36m<module>\u001b[0;34m()\u001b[0m\n\u001b[1;32m      2\u001b[0m \u001b[0mAA_all\u001b[0m \u001b[0;34m=\u001b[0m \u001b[0;34m{\u001b[0m\u001b[0;34m}\u001b[0m\u001b[0;34m\u001b[0m\u001b[0;34m\u001b[0m\u001b[0m\n\u001b[1;32m      3\u001b[0m \u001b[0;32mfor\u001b[0m \u001b[0mcountry\u001b[0m \u001b[0;32min\u001b[0m \u001b[0mdiet_AA\u001b[0m\u001b[0;34m[\u001b[0m\u001b[0;34m'Unnamed: 0'\u001b[0m\u001b[0;34m]\u001b[0m\u001b[0;34m.\u001b[0m\u001b[0munique\u001b[0m\u001b[0;34m(\u001b[0m\u001b[0;34m)\u001b[0m\u001b[0;34m.\u001b[0m\u001b[0mtolist\u001b[0m\u001b[0;34m(\u001b[0m\u001b[0;34m)\u001b[0m\u001b[0;34m:\u001b[0m\u001b[0;34m\u001b[0m\u001b[0;34m\u001b[0m\u001b[0m\n\u001b[0;32m----> 4\u001b[0;31m   \u001b[0;32mif\u001b[0m \u001b[0mcountry\u001b[0m \u001b[0;32min\u001b[0m \u001b[0mctry_weights\u001b[0m\u001b[0;34m[\u001b[0m\u001b[0;34m'index'\u001b[0m\u001b[0;34m]\u001b[0m\u001b[0;34m.\u001b[0m\u001b[0munique\u001b[0m\u001b[0;34m(\u001b[0m\u001b[0;34m)\u001b[0m\u001b[0;34m.\u001b[0m\u001b[0mtolist\u001b[0m\u001b[0;34m(\u001b[0m\u001b[0;34m)\u001b[0m\u001b[0;34m:\u001b[0m\u001b[0;34m\u001b[0m\u001b[0;34m\u001b[0m\u001b[0m\n\u001b[0m\u001b[1;32m      5\u001b[0m     \u001b[0mdiet_ctry\u001b[0m \u001b[0;34m=\u001b[0m \u001b[0mdiet_AA\u001b[0m\u001b[0;34m[\u001b[0m\u001b[0mdiet_AA\u001b[0m\u001b[0;34m[\u001b[0m\u001b[0;34m'Unnamed: 0'\u001b[0m\u001b[0;34m]\u001b[0m \u001b[0;34m==\u001b[0m \u001b[0mcountry\u001b[0m\u001b[0;34m]\u001b[0m\u001b[0;34m\u001b[0m\u001b[0;34m\u001b[0m\u001b[0m\n\u001b[1;32m      6\u001b[0m     \u001b[0mAA_ctry\u001b[0m\u001b[0;34m[\u001b[0m\u001b[0mcountry\u001b[0m\u001b[0;34m]\u001b[0m \u001b[0;34m=\u001b[0m \u001b[0;34m{\u001b[0m\u001b[0;34m}\u001b[0m\u001b[0;34m\u001b[0m\u001b[0;34m\u001b[0m\u001b[0m\n",
            "\u001b[0;31mNameError\u001b[0m: name 'ctry_weights' is not defined"
          ]
        }
      ]
    },
    {
      "cell_type": "code",
      "metadata": {
        "id": "W-yoOYEhZSfJ",
        "colab_type": "code",
        "colab": {}
      },
      "source": [
        "AA_ratios = pd.DataFrame.from_dict(AA_ctry,orient='index')"
      ],
      "execution_count": 0,
      "outputs": []
    },
    {
      "cell_type": "code",
      "metadata": {
        "id": "hSA39X1zVHES",
        "colab_type": "code",
        "colab": {}
      },
      "source": [
        "savepath = path + 'AA_ratios_EATLanceteven_safe_withsubs.csv'\n",
        "AA_ratios.to_csv(savepath)"
      ],
      "execution_count": 0,
      "outputs": []
    },
    {
      "cell_type": "markdown",
      "metadata": {
        "id": "7FtuAydIGjFJ",
        "colab_type": "text"
      },
      "source": [
        "## Undernourishment\n",
        "Use the average diet as the mean of lognormal & the avg. requirement as threshold for undernourishment (NB FAO would use a 5th percentile for this?)"
      ]
    },
    {
      "cell_type": "code",
      "metadata": {
        "id": "4WdDteQ46kUB",
        "colab_type": "code",
        "colab": {}
      },
      "source": [
        "CVs = pd.read_excel(CV_path,sheet_name='A_6',header=2)"
      ],
      "execution_count": 0,
      "outputs": []
    },
    {
      "cell_type": "code",
      "metadata": {
        "id": "QGMQvVzf6153",
        "colab_type": "code",
        "outputId": "b3a09917-1369-4b41-aec0-4e836c0cd8eb",
        "colab": {
          "base_uri": "https://localhost:8080/",
          "height": 244
        }
      },
      "source": [
        "CVs.head()"
      ],
      "execution_count": 0,
      "outputs": [
        {
          "output_type": "execute_result",
          "data": {
            "text/html": [
              "<div>\n",
              "<style scoped>\n",
              "    .dataframe tbody tr th:only-of-type {\n",
              "        vertical-align: middle;\n",
              "    }\n",
              "\n",
              "    .dataframe tbody tr th {\n",
              "        vertical-align: top;\n",
              "    }\n",
              "\n",
              "    .dataframe thead th {\n",
              "        text-align: right;\n",
              "    }\n",
              "</style>\n",
              "<table border=\"1\" class=\"dataframe\">\n",
              "  <thead>\n",
              "    <tr style=\"text-align: right;\">\n",
              "      <th></th>\n",
              "      <th>FAOST_CODE</th>\n",
              "      <th>Regions/Subregions/Countries</th>\n",
              "      <th>1990</th>\n",
              "      <th>1991</th>\n",
              "      <th>1992</th>\n",
              "      <th>1993</th>\n",
              "      <th>1994</th>\n",
              "      <th>1995</th>\n",
              "      <th>1996</th>\n",
              "      <th>1997</th>\n",
              "      <th>1998</th>\n",
              "      <th>1999</th>\n",
              "      <th>2000</th>\n",
              "      <th>2001</th>\n",
              "      <th>2002</th>\n",
              "      <th>2003</th>\n",
              "      <th>2004</th>\n",
              "      <th>2005</th>\n",
              "      <th>2006</th>\n",
              "      <th>2007</th>\n",
              "      <th>2008</th>\n",
              "      <th>2009</th>\n",
              "      <th>2010</th>\n",
              "      <th>2011</th>\n",
              "      <th>2012</th>\n",
              "      <th>2013</th>\n",
              "      <th>2014</th>\n",
              "    </tr>\n",
              "  </thead>\n",
              "  <tbody>\n",
              "    <tr>\n",
              "      <th>0</th>\n",
              "      <td>5001</td>\n",
              "      <td>World</td>\n",
              "      <td>NaN</td>\n",
              "      <td>NaN</td>\n",
              "      <td>NaN</td>\n",
              "      <td>NaN</td>\n",
              "      <td>NaN</td>\n",
              "      <td>NaN</td>\n",
              "      <td>NaN</td>\n",
              "      <td>NaN</td>\n",
              "      <td>NaN</td>\n",
              "      <td>NaN</td>\n",
              "      <td>NaN</td>\n",
              "      <td>NaN</td>\n",
              "      <td>NaN</td>\n",
              "      <td>NaN</td>\n",
              "      <td>NaN</td>\n",
              "      <td>NaN</td>\n",
              "      <td>NaN</td>\n",
              "      <td>NaN</td>\n",
              "      <td>NaN</td>\n",
              "      <td>NaN</td>\n",
              "      <td>NaN</td>\n",
              "      <td>NaN</td>\n",
              "      <td>NaN</td>\n",
              "      <td>NaN</td>\n",
              "      <td>NaN</td>\n",
              "    </tr>\n",
              "    <tr>\n",
              "      <th>1</th>\n",
              "      <td>5852</td>\n",
              "      <td>Developing countries</td>\n",
              "      <td>NaN</td>\n",
              "      <td>NaN</td>\n",
              "      <td>NaN</td>\n",
              "      <td>NaN</td>\n",
              "      <td>NaN</td>\n",
              "      <td>NaN</td>\n",
              "      <td>NaN</td>\n",
              "      <td>NaN</td>\n",
              "      <td>NaN</td>\n",
              "      <td>NaN</td>\n",
              "      <td>NaN</td>\n",
              "      <td>NaN</td>\n",
              "      <td>NaN</td>\n",
              "      <td>NaN</td>\n",
              "      <td>NaN</td>\n",
              "      <td>NaN</td>\n",
              "      <td>NaN</td>\n",
              "      <td>NaN</td>\n",
              "      <td>NaN</td>\n",
              "      <td>NaN</td>\n",
              "      <td>NaN</td>\n",
              "      <td>NaN</td>\n",
              "      <td>NaN</td>\n",
              "      <td>NaN</td>\n",
              "      <td>NaN</td>\n",
              "    </tr>\n",
              "    <tr>\n",
              "      <th>2</th>\n",
              "      <td>5100</td>\n",
              "      <td>Africa</td>\n",
              "      <td>NaN</td>\n",
              "      <td>NaN</td>\n",
              "      <td>NaN</td>\n",
              "      <td>NaN</td>\n",
              "      <td>NaN</td>\n",
              "      <td>NaN</td>\n",
              "      <td>NaN</td>\n",
              "      <td>NaN</td>\n",
              "      <td>NaN</td>\n",
              "      <td>NaN</td>\n",
              "      <td>NaN</td>\n",
              "      <td>NaN</td>\n",
              "      <td>NaN</td>\n",
              "      <td>NaN</td>\n",
              "      <td>NaN</td>\n",
              "      <td>NaN</td>\n",
              "      <td>NaN</td>\n",
              "      <td>NaN</td>\n",
              "      <td>NaN</td>\n",
              "      <td>NaN</td>\n",
              "      <td>NaN</td>\n",
              "      <td>NaN</td>\n",
              "      <td>NaN</td>\n",
              "      <td>NaN</td>\n",
              "      <td>NaN</td>\n",
              "    </tr>\n",
              "    <tr>\n",
              "      <th>3</th>\n",
              "      <td>421</td>\n",
              "      <td>Northern Africa</td>\n",
              "      <td>NaN</td>\n",
              "      <td>NaN</td>\n",
              "      <td>NaN</td>\n",
              "      <td>NaN</td>\n",
              "      <td>NaN</td>\n",
              "      <td>NaN</td>\n",
              "      <td>NaN</td>\n",
              "      <td>NaN</td>\n",
              "      <td>NaN</td>\n",
              "      <td>NaN</td>\n",
              "      <td>NaN</td>\n",
              "      <td>NaN</td>\n",
              "      <td>NaN</td>\n",
              "      <td>NaN</td>\n",
              "      <td>NaN</td>\n",
              "      <td>NaN</td>\n",
              "      <td>NaN</td>\n",
              "      <td>NaN</td>\n",
              "      <td>NaN</td>\n",
              "      <td>NaN</td>\n",
              "      <td>NaN</td>\n",
              "      <td>NaN</td>\n",
              "      <td>NaN</td>\n",
              "      <td>NaN</td>\n",
              "      <td>NaN</td>\n",
              "    </tr>\n",
              "    <tr>\n",
              "      <th>4</th>\n",
              "      <td>4</td>\n",
              "      <td>Algeria</td>\n",
              "      <td>0.28</td>\n",
              "      <td>0.28</td>\n",
              "      <td>0.28</td>\n",
              "      <td>0.28</td>\n",
              "      <td>0.28</td>\n",
              "      <td>0.28</td>\n",
              "      <td>0.28</td>\n",
              "      <td>0.28</td>\n",
              "      <td>0.28</td>\n",
              "      <td>0.28</td>\n",
              "      <td>0.27</td>\n",
              "      <td>0.27</td>\n",
              "      <td>0.28</td>\n",
              "      <td>0.28</td>\n",
              "      <td>0.28</td>\n",
              "      <td>0.28</td>\n",
              "      <td>0.28</td>\n",
              "      <td>0.28</td>\n",
              "      <td>0.28</td>\n",
              "      <td>0.28</td>\n",
              "      <td>0.28</td>\n",
              "      <td>0.28</td>\n",
              "      <td>0.28</td>\n",
              "      <td>0.28</td>\n",
              "      <td>0.28</td>\n",
              "    </tr>\n",
              "  </tbody>\n",
              "</table>\n",
              "</div>"
            ],
            "text/plain": [
              "   FAOST_CODE Regions/Subregions/Countries  1990  1991  ...  2011  2012  2013  2014\n",
              "0        5001                        World   NaN   NaN  ...   NaN   NaN   NaN   NaN\n",
              "1        5852         Developing countries   NaN   NaN  ...   NaN   NaN   NaN   NaN\n",
              "2        5100                       Africa   NaN   NaN  ...   NaN   NaN   NaN   NaN\n",
              "3         421              Northern Africa   NaN   NaN  ...   NaN   NaN   NaN   NaN\n",
              "4           4                      Algeria  0.28  0.28  ...  0.28  0.28  0.28  0.28\n",
              "\n",
              "[5 rows x 27 columns]"
            ]
          },
          "metadata": {
            "tags": []
          },
          "execution_count": 49
        }
      ]
    },
    {
      "cell_type": "code",
      "metadata": {
        "id": "rkq7nJ4MPr3t",
        "colab_type": "code",
        "colab": {}
      },
      "source": [
        "def prop_under(s_mean, CV, x):\n",
        "  sigma = ((math.log(CV**2+1)))**0.5\n",
        "  mu = math.log(s_mean) - sigma**2/2\n",
        "  CDF = 1/2 + 1/2*scipy.special.erf((math.log(x) - mu)/(2**0.5*sigma))\n",
        "  return CDF"
      ],
      "execution_count": 0,
      "outputs": []
    },
    {
      "cell_type": "code",
      "metadata": {
        "id": "gWiYRYAo7scC",
        "colab_type": "code",
        "colab": {}
      },
      "source": [
        "def CV_calc(df,years):\n",
        "  \"\"\"Expects dataframe for a country and will extract coefficient of variation\n",
        "  for the selected years\"\"\"\n",
        "  vals = df[years].values[0]\n",
        "  mean_val = statistics.mean(vals)\n",
        "  if np.isnan(mean_val):\n",
        "    mean_val = 0.2 # conservative coefficient of variation if no data\n",
        "  return mean_val"
      ],
      "execution_count": 0,
      "outputs": []
    },
    {
      "cell_type": "code",
      "metadata": {
        "id": "Ws0lV-y6G6yF",
        "colab_type": "code",
        "outputId": "b9d5d8bf-057e-42bc-b7e6-2dc57ba33f56",
        "colab": {
          "base_uri": "https://localhost:8080/",
          "height": 376
        }
      },
      "source": [
        "# calculates the proportion under each\n",
        "variable_diet = {}\n",
        "for country in AA_all:\n",
        "  variable_diet[country] = {}\n",
        "  ctry_CV = CVs[CVs['Regions/Subregions/Countries']==country]\n",
        "  CV = CV_calc(ctry_CV,[2011,2012,2013])\n",
        "  #print([country,CV])\n",
        "  for AA in AA_all[country]:\n",
        "    pr_mean = AA_all[country][AA][1] # average amount in diet\n",
        "    req = AA_all[country][AA][0] # average requirement\n",
        "\n",
        "    CDF = prop_under(pr_mean, CV, req)\n",
        "    variable_diet[country][AA] = CDF"
      ],
      "execution_count": 0,
      "outputs": [
        {
          "output_type": "error",
          "ename": "IndexError",
          "evalue": "ignored",
          "traceback": [
            "\u001b[0;31m---------------------------------------------------------------------------\u001b[0m",
            "\u001b[0;31mIndexError\u001b[0m                                Traceback (most recent call last)",
            "\u001b[0;32m<ipython-input-125-8c393408cabc>\u001b[0m in \u001b[0;36m<module>\u001b[0;34m()\u001b[0m\n\u001b[1;32m      3\u001b[0m   \u001b[0mvariable_diet\u001b[0m\u001b[0;34m[\u001b[0m\u001b[0mcountry\u001b[0m\u001b[0;34m]\u001b[0m \u001b[0;34m=\u001b[0m \u001b[0;34m{\u001b[0m\u001b[0;34m}\u001b[0m\u001b[0;34m\u001b[0m\u001b[0;34m\u001b[0m\u001b[0m\n\u001b[1;32m      4\u001b[0m   \u001b[0mctry_CV\u001b[0m \u001b[0;34m=\u001b[0m \u001b[0mCVs\u001b[0m\u001b[0;34m[\u001b[0m\u001b[0mCVs\u001b[0m\u001b[0;34m[\u001b[0m\u001b[0;34m'Regions/Subregions/Countries'\u001b[0m\u001b[0;34m]\u001b[0m\u001b[0;34m==\u001b[0m\u001b[0mcountry\u001b[0m\u001b[0;34m]\u001b[0m\u001b[0;34m\u001b[0m\u001b[0;34m\u001b[0m\u001b[0m\n\u001b[0;32m----> 5\u001b[0;31m   \u001b[0mCV\u001b[0m \u001b[0;34m=\u001b[0m \u001b[0mCV_calc\u001b[0m\u001b[0;34m(\u001b[0m\u001b[0mctry_CV\u001b[0m\u001b[0;34m,\u001b[0m\u001b[0;34m[\u001b[0m\u001b[0;36m2011\u001b[0m\u001b[0;34m,\u001b[0m\u001b[0;36m2012\u001b[0m\u001b[0;34m,\u001b[0m\u001b[0;36m2013\u001b[0m\u001b[0;34m]\u001b[0m\u001b[0;34m)\u001b[0m\u001b[0;34m\u001b[0m\u001b[0;34m\u001b[0m\u001b[0m\n\u001b[0m\u001b[1;32m      6\u001b[0m   \u001b[0;31m#print([country,CV])\u001b[0m\u001b[0;34m\u001b[0m\u001b[0;34m\u001b[0m\u001b[0;34m\u001b[0m\u001b[0m\n\u001b[1;32m      7\u001b[0m   \u001b[0;32mfor\u001b[0m \u001b[0mAA\u001b[0m \u001b[0;32min\u001b[0m \u001b[0mAA_all\u001b[0m\u001b[0;34m[\u001b[0m\u001b[0mcountry\u001b[0m\u001b[0;34m]\u001b[0m\u001b[0;34m:\u001b[0m\u001b[0;34m\u001b[0m\u001b[0;34m\u001b[0m\u001b[0m\n",
            "\u001b[0;32m<ipython-input-81-974191a80858>\u001b[0m in \u001b[0;36mCV_calc\u001b[0;34m(df, years)\u001b[0m\n\u001b[1;32m      2\u001b[0m   \"\"\"Expects dataframe for a country and will extract coefficient of variation\n\u001b[1;32m      3\u001b[0m   for the selected years\"\"\"\n\u001b[0;32m----> 4\u001b[0;31m   \u001b[0mvals\u001b[0m \u001b[0;34m=\u001b[0m \u001b[0mdf\u001b[0m\u001b[0;34m[\u001b[0m\u001b[0myears\u001b[0m\u001b[0;34m]\u001b[0m\u001b[0;34m.\u001b[0m\u001b[0mvalues\u001b[0m\u001b[0;34m[\u001b[0m\u001b[0;36m0\u001b[0m\u001b[0;34m]\u001b[0m\u001b[0;34m\u001b[0m\u001b[0;34m\u001b[0m\u001b[0m\n\u001b[0m\u001b[1;32m      5\u001b[0m   \u001b[0mmean_val\u001b[0m \u001b[0;34m=\u001b[0m \u001b[0mstatistics\u001b[0m\u001b[0;34m.\u001b[0m\u001b[0mmean\u001b[0m\u001b[0;34m(\u001b[0m\u001b[0mvals\u001b[0m\u001b[0;34m)\u001b[0m\u001b[0;34m\u001b[0m\u001b[0;34m\u001b[0m\u001b[0m\n\u001b[1;32m      6\u001b[0m   \u001b[0;32mif\u001b[0m \u001b[0mnp\u001b[0m\u001b[0;34m.\u001b[0m\u001b[0misnan\u001b[0m\u001b[0;34m(\u001b[0m\u001b[0mmean_val\u001b[0m\u001b[0;34m)\u001b[0m\u001b[0;34m:\u001b[0m\u001b[0;34m\u001b[0m\u001b[0;34m\u001b[0m\u001b[0m\n",
            "\u001b[0;31mIndexError\u001b[0m: index 0 is out of bounds for axis 0 with size 0"
          ]
        }
      ]
    },
    {
      "cell_type": "code",
      "metadata": {
        "id": "neGZodjLVkR0",
        "colab_type": "code",
        "outputId": "4841bf74-b88b-4e50-df33-72b6aedf2d90",
        "colab": {
          "base_uri": "https://localhost:8080/",
          "height": 244
        }
      },
      "source": [
        "CVs.head()"
      ],
      "execution_count": 0,
      "outputs": [
        {
          "output_type": "execute_result",
          "data": {
            "text/html": [
              "<div>\n",
              "<style scoped>\n",
              "    .dataframe tbody tr th:only-of-type {\n",
              "        vertical-align: middle;\n",
              "    }\n",
              "\n",
              "    .dataframe tbody tr th {\n",
              "        vertical-align: top;\n",
              "    }\n",
              "\n",
              "    .dataframe thead th {\n",
              "        text-align: right;\n",
              "    }\n",
              "</style>\n",
              "<table border=\"1\" class=\"dataframe\">\n",
              "  <thead>\n",
              "    <tr style=\"text-align: right;\">\n",
              "      <th></th>\n",
              "      <th>FAOST_CODE</th>\n",
              "      <th>Regions/Subregions/Countries</th>\n",
              "      <th>1990</th>\n",
              "      <th>1991</th>\n",
              "      <th>1992</th>\n",
              "      <th>1993</th>\n",
              "      <th>1994</th>\n",
              "      <th>1995</th>\n",
              "      <th>1996</th>\n",
              "      <th>1997</th>\n",
              "      <th>1998</th>\n",
              "      <th>1999</th>\n",
              "      <th>2000</th>\n",
              "      <th>2001</th>\n",
              "      <th>2002</th>\n",
              "      <th>2003</th>\n",
              "      <th>2004</th>\n",
              "      <th>2005</th>\n",
              "      <th>2006</th>\n",
              "      <th>2007</th>\n",
              "      <th>2008</th>\n",
              "      <th>2009</th>\n",
              "      <th>2010</th>\n",
              "      <th>2011</th>\n",
              "      <th>2012</th>\n",
              "      <th>2013</th>\n",
              "      <th>2014</th>\n",
              "    </tr>\n",
              "  </thead>\n",
              "  <tbody>\n",
              "    <tr>\n",
              "      <th>0</th>\n",
              "      <td>5001</td>\n",
              "      <td>World</td>\n",
              "      <td>NaN</td>\n",
              "      <td>NaN</td>\n",
              "      <td>NaN</td>\n",
              "      <td>NaN</td>\n",
              "      <td>NaN</td>\n",
              "      <td>NaN</td>\n",
              "      <td>NaN</td>\n",
              "      <td>NaN</td>\n",
              "      <td>NaN</td>\n",
              "      <td>NaN</td>\n",
              "      <td>NaN</td>\n",
              "      <td>NaN</td>\n",
              "      <td>NaN</td>\n",
              "      <td>NaN</td>\n",
              "      <td>NaN</td>\n",
              "      <td>NaN</td>\n",
              "      <td>NaN</td>\n",
              "      <td>NaN</td>\n",
              "      <td>NaN</td>\n",
              "      <td>NaN</td>\n",
              "      <td>NaN</td>\n",
              "      <td>NaN</td>\n",
              "      <td>NaN</td>\n",
              "      <td>NaN</td>\n",
              "      <td>NaN</td>\n",
              "    </tr>\n",
              "    <tr>\n",
              "      <th>1</th>\n",
              "      <td>5852</td>\n",
              "      <td>Developing countries</td>\n",
              "      <td>NaN</td>\n",
              "      <td>NaN</td>\n",
              "      <td>NaN</td>\n",
              "      <td>NaN</td>\n",
              "      <td>NaN</td>\n",
              "      <td>NaN</td>\n",
              "      <td>NaN</td>\n",
              "      <td>NaN</td>\n",
              "      <td>NaN</td>\n",
              "      <td>NaN</td>\n",
              "      <td>NaN</td>\n",
              "      <td>NaN</td>\n",
              "      <td>NaN</td>\n",
              "      <td>NaN</td>\n",
              "      <td>NaN</td>\n",
              "      <td>NaN</td>\n",
              "      <td>NaN</td>\n",
              "      <td>NaN</td>\n",
              "      <td>NaN</td>\n",
              "      <td>NaN</td>\n",
              "      <td>NaN</td>\n",
              "      <td>NaN</td>\n",
              "      <td>NaN</td>\n",
              "      <td>NaN</td>\n",
              "      <td>NaN</td>\n",
              "    </tr>\n",
              "    <tr>\n",
              "      <th>2</th>\n",
              "      <td>5100</td>\n",
              "      <td>Africa</td>\n",
              "      <td>NaN</td>\n",
              "      <td>NaN</td>\n",
              "      <td>NaN</td>\n",
              "      <td>NaN</td>\n",
              "      <td>NaN</td>\n",
              "      <td>NaN</td>\n",
              "      <td>NaN</td>\n",
              "      <td>NaN</td>\n",
              "      <td>NaN</td>\n",
              "      <td>NaN</td>\n",
              "      <td>NaN</td>\n",
              "      <td>NaN</td>\n",
              "      <td>NaN</td>\n",
              "      <td>NaN</td>\n",
              "      <td>NaN</td>\n",
              "      <td>NaN</td>\n",
              "      <td>NaN</td>\n",
              "      <td>NaN</td>\n",
              "      <td>NaN</td>\n",
              "      <td>NaN</td>\n",
              "      <td>NaN</td>\n",
              "      <td>NaN</td>\n",
              "      <td>NaN</td>\n",
              "      <td>NaN</td>\n",
              "      <td>NaN</td>\n",
              "    </tr>\n",
              "    <tr>\n",
              "      <th>3</th>\n",
              "      <td>421</td>\n",
              "      <td>Northern Africa</td>\n",
              "      <td>NaN</td>\n",
              "      <td>NaN</td>\n",
              "      <td>NaN</td>\n",
              "      <td>NaN</td>\n",
              "      <td>NaN</td>\n",
              "      <td>NaN</td>\n",
              "      <td>NaN</td>\n",
              "      <td>NaN</td>\n",
              "      <td>NaN</td>\n",
              "      <td>NaN</td>\n",
              "      <td>NaN</td>\n",
              "      <td>NaN</td>\n",
              "      <td>NaN</td>\n",
              "      <td>NaN</td>\n",
              "      <td>NaN</td>\n",
              "      <td>NaN</td>\n",
              "      <td>NaN</td>\n",
              "      <td>NaN</td>\n",
              "      <td>NaN</td>\n",
              "      <td>NaN</td>\n",
              "      <td>NaN</td>\n",
              "      <td>NaN</td>\n",
              "      <td>NaN</td>\n",
              "      <td>NaN</td>\n",
              "      <td>NaN</td>\n",
              "    </tr>\n",
              "    <tr>\n",
              "      <th>4</th>\n",
              "      <td>4</td>\n",
              "      <td>Algeria</td>\n",
              "      <td>0.28</td>\n",
              "      <td>0.28</td>\n",
              "      <td>0.28</td>\n",
              "      <td>0.28</td>\n",
              "      <td>0.28</td>\n",
              "      <td>0.28</td>\n",
              "      <td>0.28</td>\n",
              "      <td>0.28</td>\n",
              "      <td>0.28</td>\n",
              "      <td>0.28</td>\n",
              "      <td>0.27</td>\n",
              "      <td>0.27</td>\n",
              "      <td>0.28</td>\n",
              "      <td>0.28</td>\n",
              "      <td>0.28</td>\n",
              "      <td>0.28</td>\n",
              "      <td>0.28</td>\n",
              "      <td>0.28</td>\n",
              "      <td>0.28</td>\n",
              "      <td>0.28</td>\n",
              "      <td>0.28</td>\n",
              "      <td>0.28</td>\n",
              "      <td>0.28</td>\n",
              "      <td>0.28</td>\n",
              "      <td>0.28</td>\n",
              "    </tr>\n",
              "  </tbody>\n",
              "</table>\n",
              "</div>"
            ],
            "text/plain": [
              "   FAOST_CODE Regions/Subregions/Countries  1990  1991  ...  2011  2012  2013  2014\n",
              "0        5001                        World   NaN   NaN  ...   NaN   NaN   NaN   NaN\n",
              "1        5852         Developing countries   NaN   NaN  ...   NaN   NaN   NaN   NaN\n",
              "2        5100                       Africa   NaN   NaN  ...   NaN   NaN   NaN   NaN\n",
              "3         421              Northern Africa   NaN   NaN  ...   NaN   NaN   NaN   NaN\n",
              "4           4                      Algeria  0.28  0.28  ...  0.28  0.28  0.28  0.28\n",
              "\n",
              "[5 rows x 27 columns]"
            ]
          },
          "metadata": {
            "tags": []
          },
          "execution_count": 47
        }
      ]
    },
    {
      "cell_type": "code",
      "metadata": {
        "id": "jbbhImLaYGjo",
        "colab_type": "code",
        "outputId": "5fd788b5-a056-4190-9be2-975491cc1e24",
        "colab": {
          "base_uri": "https://localhost:8080/",
          "height": 293
        }
      },
      "source": [
        "fao_ctry_codes.head()"
      ],
      "execution_count": 0,
      "outputs": [
        {
          "output_type": "execute_result",
          "data": {
            "text/html": [
              "<div>\n",
              "<style scoped>\n",
              "    .dataframe tbody tr th:only-of-type {\n",
              "        vertical-align: middle;\n",
              "    }\n",
              "\n",
              "    .dataframe tbody tr th {\n",
              "        vertical-align: top;\n",
              "    }\n",
              "\n",
              "    .dataframe thead th {\n",
              "        text-align: right;\n",
              "    }\n",
              "</style>\n",
              "<table border=\"1\" class=\"dataframe\">\n",
              "  <thead>\n",
              "    <tr style=\"text-align: right;\">\n",
              "      <th></th>\n",
              "      <th>Short name</th>\n",
              "      <th>Official name</th>\n",
              "      <th>ISO3</th>\n",
              "      <th>ISO2</th>\n",
              "      <th>UNI</th>\n",
              "      <th>UNDP</th>\n",
              "      <th>FAOSTAT</th>\n",
              "      <th>GAUL</th>\n",
              "    </tr>\n",
              "  </thead>\n",
              "  <tbody>\n",
              "    <tr>\n",
              "      <th>0</th>\n",
              "      <td>Afghanistan</td>\n",
              "      <td>the Islamic Republic of Afghanistan</td>\n",
              "      <td>AFG</td>\n",
              "      <td>AF</td>\n",
              "      <td>4</td>\n",
              "      <td>AFG</td>\n",
              "      <td>2</td>\n",
              "      <td>1</td>\n",
              "    </tr>\n",
              "    <tr>\n",
              "      <th>1</th>\n",
              "      <td>Albania</td>\n",
              "      <td>the Republic of Albania</td>\n",
              "      <td>ALB</td>\n",
              "      <td>AL</td>\n",
              "      <td>8</td>\n",
              "      <td>ALB</td>\n",
              "      <td>3</td>\n",
              "      <td>3</td>\n",
              "    </tr>\n",
              "    <tr>\n",
              "      <th>2</th>\n",
              "      <td>Algeria</td>\n",
              "      <td>the People's Democratic Republic of Algeria</td>\n",
              "      <td>DZA</td>\n",
              "      <td>DZ</td>\n",
              "      <td>12</td>\n",
              "      <td>DZA</td>\n",
              "      <td>4</td>\n",
              "      <td>4</td>\n",
              "    </tr>\n",
              "    <tr>\n",
              "      <th>3</th>\n",
              "      <td>Andorra</td>\n",
              "      <td>the Principality of Andorra</td>\n",
              "      <td>AND</td>\n",
              "      <td>AD</td>\n",
              "      <td>20</td>\n",
              "      <td>AND</td>\n",
              "      <td>6</td>\n",
              "      <td>7</td>\n",
              "    </tr>\n",
              "    <tr>\n",
              "      <th>4</th>\n",
              "      <td>Angola</td>\n",
              "      <td>the Republic of Angola</td>\n",
              "      <td>AGO</td>\n",
              "      <td>AO</td>\n",
              "      <td>24</td>\n",
              "      <td>AGO</td>\n",
              "      <td>7</td>\n",
              "      <td>8</td>\n",
              "    </tr>\n",
              "  </tbody>\n",
              "</table>\n",
              "</div>"
            ],
            "text/plain": [
              "    Short name                                Official name  ... FAOSTAT GAUL\n",
              "0  Afghanistan          the Islamic Republic of Afghanistan  ...       2    1\n",
              "1      Albania                      the Republic of Albania  ...       3    3\n",
              "2      Algeria  the People's Democratic Republic of Algeria  ...       4    4\n",
              "3      Andorra                  the Principality of Andorra  ...       6    7\n",
              "4       Angola                       the Republic of Angola  ...       7    8\n",
              "\n",
              "[5 rows x 8 columns]"
            ]
          },
          "metadata": {
            "tags": []
          },
          "execution_count": 52
        }
      ]
    },
    {
      "cell_type": "code",
      "metadata": {
        "id": "ucV23R5YV5ur",
        "colab_type": "code",
        "colab": {}
      },
      "source": [
        "def fao2iso3(code, fao_ctry_codes):\n",
        "  \"\"\"Gets iso3 from fao code\"\"\"\n",
        "  if code in fao_ctry_codes['FAOSTAT'].unique():\n",
        "    iso3 = list(fao_ctry_codes[fao_ctry_codes['FAOSTAT']==code]['ISO3'])[0]\n",
        "  else:\n",
        "    iso3 = np.nan\n",
        "  return iso3"
      ],
      "execution_count": 0,
      "outputs": []
    },
    {
      "cell_type": "code",
      "metadata": {
        "id": "Mik9chHsWlBz",
        "colab_type": "code",
        "colab": {}
      },
      "source": [
        "isos = []\n",
        "for faocode in CVs['FAOST_CODE'].unique():\n",
        "  isos.append(fao2iso3(faocode,fao_ctry_codes))\n",
        "CVs['ISO3'] = isos"
      ],
      "execution_count": 0,
      "outputs": []
    },
    {
      "cell_type": "code",
      "metadata": {
        "id": "S4Uj7uQCVd5B",
        "colab_type": "code",
        "colab": {}
      },
      "source": [
        "# EAT-Lancet version; calculates the proportion under each\n",
        "variable_diet = {}\n",
        "for country in AA_all:\n",
        "  variable_diet[country] = {}\n",
        "  ctry_CV = CVs[CVs['ISO3']==country]\n",
        "  CV = CV_calc(ctry_CV,[2011,2012,2013])\n",
        "  #print([country,CV])\n",
        "  for AA in AA_all[country]:\n",
        "    pr_mean = AA_all[country][AA][1] # average amount in diet\n",
        "    req = AA_all[country][AA][0] # average requirement\n",
        "\n",
        "    CDF = prop_under(pr_mean, CV, req)\n",
        "    variable_diet[country][AA] = CDF\n"
      ],
      "execution_count": 0,
      "outputs": []
    },
    {
      "cell_type": "code",
      "metadata": {
        "id": "WDJNpISsoz7F",
        "colab_type": "code",
        "outputId": "11f34cfa-8b47-4a7c-9111-6a4cd21df82a",
        "colab": {
          "base_uri": "https://localhost:8080/",
          "height": 226
        }
      },
      "source": [
        "variable_diet_df = pd.DataFrame.from_dict(variable_diet,orient='index')\n",
        "variable_diet_df.head()"
      ],
      "execution_count": 0,
      "outputs": [
        {
          "output_type": "execute_result",
          "data": {
            "text/html": [
              "<div>\n",
              "<style scoped>\n",
              "    .dataframe tbody tr th:only-of-type {\n",
              "        vertical-align: middle;\n",
              "    }\n",
              "\n",
              "    .dataframe tbody tr th {\n",
              "        vertical-align: top;\n",
              "    }\n",
              "\n",
              "    .dataframe thead th {\n",
              "        text-align: right;\n",
              "    }\n",
              "</style>\n",
              "<table border=\"1\" class=\"dataframe\">\n",
              "  <thead>\n",
              "    <tr style=\"text-align: right;\">\n",
              "      <th></th>\n",
              "      <th>Histidine</th>\n",
              "      <th>Isoleucine</th>\n",
              "      <th>Leucine</th>\n",
              "      <th>Lysine</th>\n",
              "      <th>SAA</th>\n",
              "      <th>AAA</th>\n",
              "      <th>Threonine</th>\n",
              "      <th>Tryptophan</th>\n",
              "      <th>Valine</th>\n",
              "      <th>protein</th>\n",
              "    </tr>\n",
              "  </thead>\n",
              "  <tbody>\n",
              "    <tr>\n",
              "      <th>AFG</th>\n",
              "      <td>1.280379e-05</td>\n",
              "      <td>6.426930e-04</td>\n",
              "      <td>2.103820e-03</td>\n",
              "      <td>5.144144e-04</td>\n",
              "      <td>9.934244e-05</td>\n",
              "      <td>5.991797e-07</td>\n",
              "      <td>1.081512e-04</td>\n",
              "      <td>6.092600e-06</td>\n",
              "      <td>3.812835e-03</td>\n",
              "      <td>0.130227</td>\n",
              "    </tr>\n",
              "    <tr>\n",
              "      <th>AGO</th>\n",
              "      <td>1.226930e-06</td>\n",
              "      <td>6.987344e-05</td>\n",
              "      <td>3.043057e-04</td>\n",
              "      <td>5.470536e-06</td>\n",
              "      <td>6.262490e-06</td>\n",
              "      <td>3.016896e-07</td>\n",
              "      <td>4.753786e-06</td>\n",
              "      <td>2.654779e-06</td>\n",
              "      <td>6.709270e-04</td>\n",
              "      <td>0.030692</td>\n",
              "    </tr>\n",
              "    <tr>\n",
              "      <th>ALB</th>\n",
              "      <td>3.275158e-15</td>\n",
              "      <td>7.556844e-12</td>\n",
              "      <td>2.795377e-10</td>\n",
              "      <td>3.679834e-13</td>\n",
              "      <td>2.314815e-14</td>\n",
              "      <td>0.000000e+00</td>\n",
              "      <td>2.997602e-14</td>\n",
              "      <td>2.775558e-15</td>\n",
              "      <td>1.026152e-09</td>\n",
              "      <td>0.000022</td>\n",
              "    </tr>\n",
              "    <tr>\n",
              "      <th>ARG</th>\n",
              "      <td>1.998401e-15</td>\n",
              "      <td>4.258816e-12</td>\n",
              "      <td>1.394005e-10</td>\n",
              "      <td>1.055822e-13</td>\n",
              "      <td>1.409983e-14</td>\n",
              "      <td>0.000000e+00</td>\n",
              "      <td>1.532108e-14</td>\n",
              "      <td>3.053113e-15</td>\n",
              "      <td>5.747448e-10</td>\n",
              "      <td>0.000011</td>\n",
              "    </tr>\n",
              "    <tr>\n",
              "      <th>ARM</th>\n",
              "      <td>1.056731e-09</td>\n",
              "      <td>1.151641e-07</td>\n",
              "      <td>1.094930e-06</td>\n",
              "      <td>2.941633e-08</td>\n",
              "      <td>3.838448e-09</td>\n",
              "      <td>1.096156e-11</td>\n",
              "      <td>4.300098e-09</td>\n",
              "      <td>6.461424e-10</td>\n",
              "      <td>2.420744e-06</td>\n",
              "      <td>0.001540</td>\n",
              "    </tr>\n",
              "  </tbody>\n",
              "</table>\n",
              "</div>"
            ],
            "text/plain": [
              "        Histidine    Isoleucine  ...        Valine   protein\n",
              "AFG  1.280379e-05  6.426930e-04  ...  3.812835e-03  0.130227\n",
              "AGO  1.226930e-06  6.987344e-05  ...  6.709270e-04  0.030692\n",
              "ALB  3.275158e-15  7.556844e-12  ...  1.026152e-09  0.000022\n",
              "ARG  1.998401e-15  4.258816e-12  ...  5.747448e-10  0.000011\n",
              "ARM  1.056731e-09  1.151641e-07  ...  2.420744e-06  0.001540\n",
              "\n",
              "[5 rows x 10 columns]"
            ]
          },
          "metadata": {
            "tags": []
          },
          "execution_count": 60
        }
      ]
    },
    {
      "cell_type": "code",
      "metadata": {
        "id": "_cCzlg-TpCpo",
        "colab_type": "code",
        "colab": {}
      },
      "source": [
        "savepath = path + 'undernourished_CVs_EL_1218.csv'\n",
        "variable_diet_df.to_csv(savepath)"
      ],
      "execution_count": 0,
      "outputs": []
    },
    {
      "cell_type": "markdown",
      "metadata": {
        "id": "PObUtob2QwR6",
        "colab_type": "text"
      },
      "source": [
        "# Old Code"
      ]
    },
    {
      "cell_type": "code",
      "metadata": {
        "id": "SVGhVUNV3YFs",
        "colab_type": "code",
        "outputId": "da89ab33-175c-487a-a7fd-dbe7f92a8e24",
        "colab": {
          "base_uri": "https://localhost:8080/",
          "height": 68
        }
      },
      "source": [
        "# BMI regex work! (save me for now!)\n",
        "temp = BMI['2016'].values[0]\n",
        "print(temp)\n",
        "m = re.search(r\"[^[]*\\[([^]]*)\\]\", temp).groups()[0] # gets the things in the brackets!\n",
        "n = re.search(r'^.*(?=(\\[))', temp).group(0)\n",
        "print(m)\n",
        "print(n)"
      ],
      "execution_count": 0,
      "outputs": [
        {
          "output_type": "stream",
          "text": [
            "23.4 [22.0-24.8]\n",
            "22.0-24.8\n",
            "23.4 \n"
          ],
          "name": "stdout"
        }
      ]
    },
    {
      "cell_type": "code",
      "metadata": {
        "id": "jLqzoeb1A_P6",
        "colab_type": "code",
        "colab": {}
      },
      "source": [
        "adult_weight = 136.68 # average adult weight\n"
      ],
      "execution_count": 0,
      "outputs": []
    },
    {
      "cell_type": "code",
      "metadata": {
        "id": "9XjIW57WTNHn",
        "colab_type": "code",
        "colab": {}
      },
      "source": [
        "# calculate average height (m) for each country; look into this later\n",
        "ctry_hts = {}\n",
        "for country in list(pop_df.Location.unique()): \n",
        "  if country in list(height_df.Entity.unique()):\n",
        "    ht = height_df[height_df['Entity'].isin([country])]\n",
        "    m_ht = statistics.mean(ht['Males (centimeters)'])\n",
        "    f_ht = statistics.mean(ht['Females (centimeters)'])\n",
        "    ctry_hts[country] = {'M': m_ht/100, 'F': f_ht/100}"
      ],
      "execution_count": 0,
      "outputs": []
    },
    {
      "cell_type": "code",
      "metadata": {
        "id": "0-8cAU1z3DmJ",
        "colab_type": "code",
        "outputId": "3911c058-c569-43f8-d498-3590db690314",
        "colab": {
          "base_uri": "https://localhost:8080/",
          "height": 827
        }
      },
      "source": [
        "# match those historical populations with average weight\n",
        "avg_adult_weight = {}\n",
        "total_adult_weight = {}\n",
        "\n",
        "for country in list(pop_df.Location.unique()): \n",
        "  BMI = BMI_df[BMI_df['Country'].isin([country])]\n",
        "  f_yrs_weight = {}\n",
        "  m_yrs_weight = {}\n",
        "  \n",
        "  ctry_ht = ctry_hts.get(country)\n",
        "  if ctry_ht:\n",
        "    m_ht = ctry_ht['M'] # get the average height for that country\n",
        "    f_ht = ctry_ht['F']\n",
        "\n",
        "    f_tot_weight = {} # pre-allocate\n",
        "    m_tot_weight = {}\n",
        "    tot_yr_weight = {}\n",
        "    for year in list(pop_df.Time.unique()):\n",
        "      # BMI\n",
        "      if str(year) in BMI.columns: # only go through years for which we have data\n",
        "        avg_m_BMI = re.sub(r'\\[[^]]*\\]','',BMI[str(year)+'.1'].item())\n",
        "        avg_f_BMI = re.sub(r'\\[[^]]*\\]','',BMI[str(year)+'.2'].item())\n",
        "        \n",
        "        f_yrs_weight[year] = float(avg_f_BMI)*(f_ht)**2 # calculates weight from BMI and height\n",
        "        m_yrs_weight[year] = float(avg_m_BMI)*(m_ht)**2\n",
        "        \n",
        "        f_tot_weight[year] = f_adult_population[country][year]*f_yrs_weight[year]\n",
        "        m_tot_weight[year] = m_adult_population[country][year]*m_yrs_weight[year]\n",
        "        tot_yr_weight[year] = f_tot_weight[year] + m_tot_weight[year]\n",
        "        \n",
        "    avg_adult_weight[country] = {'f': f_yrs_weight, 'm': m_yrs_weight}\n",
        "  \n",
        "    total_adult_weight[country] = tot_yr_weight\n",
        "  else:\n",
        "    print([country, ' did not have associated height'])"
      ],
      "execution_count": 0,
      "outputs": [
        {
          "output_type": "stream",
          "text": [
            "['Africa', ' did not have associated height']\n",
            "['Aruba', ' did not have associated height']\n",
            "['Asia', ' did not have associated height']\n",
            "['Australia/New Zealand', ' did not have associated height']\n",
            "['Bolivia (Plurinational State of)', ' did not have associated height']\n",
            "['Brunei Darussalam', ' did not have associated height']\n",
            "['Cabo Verde', ' did not have associated height']\n",
            "['Caribbean', ' did not have associated height']\n",
            "['Central America', ' did not have associated height']\n",
            "['Central and Southern Asia', ' did not have associated height']\n",
            "['Central Asia', ' did not have associated height']\n",
            "['Channel Islands', ' did not have associated height']\n",
            "['China, Hong Kong SAR', ' did not have associated height']\n",
            "['China, Macao SAR', ' did not have associated height']\n",
            "['China, Taiwan Province of China', ' did not have associated height']\n",
            "[\"Côte d'Ivoire\", ' did not have associated height']\n",
            "['Curaçao', ' did not have associated height']\n",
            "['Czechia', ' did not have associated height']\n",
            "[\"Dem. People's Republic of Korea\", ' did not have associated height']\n",
            "['Democratic Republic of the Congo', ' did not have associated height']\n",
            "['Eastern Africa', ' did not have associated height']\n",
            "['Eastern and South-Eastern Asia', ' did not have associated height']\n",
            "['Eastern Asia', ' did not have associated height']\n",
            "['Eastern Europe', ' did not have associated height']\n",
            "['Eswatini', ' did not have associated height']\n",
            "['Europe', ' did not have associated height']\n",
            "['Europe and Northern America', ' did not have associated height']\n",
            "['French Guiana', ' did not have associated height']\n"
          ],
          "name": "stdout"
        },
        {
          "output_type": "error",
          "ename": "ValueError",
          "evalue": "ignored",
          "traceback": [
            "\u001b[0;31m---------------------------------------------------------------------------\u001b[0m",
            "\u001b[0;31mValueError\u001b[0m                                Traceback (most recent call last)",
            "\u001b[0;32m<ipython-input-173-55b7837faff5>\u001b[0m in \u001b[0;36m<module>\u001b[0;34m()\u001b[0m\n\u001b[1;32m     18\u001b[0m       \u001b[0;31m# BMI\u001b[0m\u001b[0;34m\u001b[0m\u001b[0;34m\u001b[0m\u001b[0;34m\u001b[0m\u001b[0m\n\u001b[1;32m     19\u001b[0m       \u001b[0;32mif\u001b[0m \u001b[0mstr\u001b[0m\u001b[0;34m(\u001b[0m\u001b[0myear\u001b[0m\u001b[0;34m)\u001b[0m \u001b[0;32min\u001b[0m \u001b[0mBMI\u001b[0m\u001b[0;34m.\u001b[0m\u001b[0mcolumns\u001b[0m\u001b[0;34m:\u001b[0m \u001b[0;31m# only go through years for which we have data\u001b[0m\u001b[0;34m\u001b[0m\u001b[0;34m\u001b[0m\u001b[0m\n\u001b[0;32m---> 20\u001b[0;31m         \u001b[0mavg_m_BMI\u001b[0m \u001b[0;34m=\u001b[0m \u001b[0mre\u001b[0m\u001b[0;34m.\u001b[0m\u001b[0msub\u001b[0m\u001b[0;34m(\u001b[0m\u001b[0;34mr'\\[[^]]*\\]'\u001b[0m\u001b[0;34m,\u001b[0m\u001b[0;34m''\u001b[0m\u001b[0;34m,\u001b[0m\u001b[0mBMI\u001b[0m\u001b[0;34m[\u001b[0m\u001b[0mstr\u001b[0m\u001b[0;34m(\u001b[0m\u001b[0myear\u001b[0m\u001b[0;34m)\u001b[0m\u001b[0;34m+\u001b[0m\u001b[0;34m'.1'\u001b[0m\u001b[0;34m]\u001b[0m\u001b[0;34m.\u001b[0m\u001b[0mitem\u001b[0m\u001b[0;34m(\u001b[0m\u001b[0;34m)\u001b[0m\u001b[0;34m)\u001b[0m\u001b[0;34m\u001b[0m\u001b[0;34m\u001b[0m\u001b[0m\n\u001b[0m\u001b[1;32m     21\u001b[0m         \u001b[0mavg_f_BMI\u001b[0m \u001b[0;34m=\u001b[0m \u001b[0mre\u001b[0m\u001b[0;34m.\u001b[0m\u001b[0msub\u001b[0m\u001b[0;34m(\u001b[0m\u001b[0;34mr'\\[[^]]*\\]'\u001b[0m\u001b[0;34m,\u001b[0m\u001b[0;34m''\u001b[0m\u001b[0;34m,\u001b[0m\u001b[0mBMI\u001b[0m\u001b[0;34m[\u001b[0m\u001b[0mstr\u001b[0m\u001b[0;34m(\u001b[0m\u001b[0myear\u001b[0m\u001b[0;34m)\u001b[0m\u001b[0;34m+\u001b[0m\u001b[0;34m'.2'\u001b[0m\u001b[0;34m]\u001b[0m\u001b[0;34m.\u001b[0m\u001b[0mitem\u001b[0m\u001b[0;34m(\u001b[0m\u001b[0;34m)\u001b[0m\u001b[0;34m)\u001b[0m\u001b[0;34m\u001b[0m\u001b[0;34m\u001b[0m\u001b[0m\n\u001b[1;32m     22\u001b[0m \u001b[0;34m\u001b[0m\u001b[0m\n",
            "\u001b[0;32m/usr/local/lib/python3.6/dist-packages/pandas/core/base.py\u001b[0m in \u001b[0;36mitem\u001b[0;34m(self)\u001b[0m\n\u001b[1;32m    714\u001b[0m         \"\"\"\n\u001b[1;32m    715\u001b[0m         \u001b[0;32mtry\u001b[0m\u001b[0;34m:\u001b[0m\u001b[0;34m\u001b[0m\u001b[0;34m\u001b[0m\u001b[0m\n\u001b[0;32m--> 716\u001b[0;31m             \u001b[0;32mreturn\u001b[0m \u001b[0mself\u001b[0m\u001b[0;34m.\u001b[0m\u001b[0mvalues\u001b[0m\u001b[0;34m.\u001b[0m\u001b[0mitem\u001b[0m\u001b[0;34m(\u001b[0m\u001b[0;34m)\u001b[0m\u001b[0;34m\u001b[0m\u001b[0;34m\u001b[0m\u001b[0m\n\u001b[0m\u001b[1;32m    717\u001b[0m         \u001b[0;32mexcept\u001b[0m \u001b[0mIndexError\u001b[0m\u001b[0;34m:\u001b[0m\u001b[0;34m\u001b[0m\u001b[0;34m\u001b[0m\u001b[0m\n\u001b[1;32m    718\u001b[0m             \u001b[0;31m# copy numpy's message here because Py26 raises an IndexError\u001b[0m\u001b[0;34m\u001b[0m\u001b[0;34m\u001b[0m\u001b[0;34m\u001b[0m\u001b[0m\n",
            "\u001b[0;31mValueError\u001b[0m: can only convert an array of size 1 to a Python scalar"
          ]
        }
      ]
    }
  ]
}