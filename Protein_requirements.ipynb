{
  "nbformat": 4,
  "nbformat_minor": 0,
  "metadata": {
    "colab": {
      "name": "Protein_requirements.ipynb",
      "provenance": [],
      "collapsed_sections": [],
      "include_colab_link": true
    },
    "kernelspec": {
      "name": "python3",
      "display_name": "Python 3"
    }
  },
  "cells": [
    {
      "cell_type": "markdown",
      "metadata": {
        "id": "view-in-github",
        "colab_type": "text"
      },
      "source": [
        "<a href=\"https://colab.research.google.com/github/emoceanographer/usdanutrients/blob/master/Protein_requirements.ipynb\" target=\"_parent\"><img src=\"https://colab.research.google.com/assets/colab-badge.svg\" alt=\"Open In Colab\"/></a>"
      ]
    },
    {
      "cell_type": "code",
      "metadata": {
        "id": "V0QcVq8a2BrP",
        "colab_type": "code",
        "outputId": "d076904b-9418-46c9-e716-faaf6a7e29af",
        "colab": {
          "base_uri": "https://localhost:8080/",
          "height": 122
        }
      },
      "source": [
        "from google.colab import drive\n",
        "drive.mount('/content/drive')"
      ],
      "execution_count": 0,
      "outputs": [
        {
          "output_type": "stream",
          "text": [
            "Go to this URL in a browser: https://accounts.google.com/o/oauth2/auth?client_id=947318989803-6bn6qk8qdgf4n4g3pfee6491hc0brc4i.apps.googleusercontent.com&redirect_uri=urn%3aietf%3awg%3aoauth%3a2.0%3aoob&response_type=code&scope=email%20https%3a%2f%2fwww.googleapis.com%2fauth%2fdocs.test%20https%3a%2f%2fwww.googleapis.com%2fauth%2fdrive%20https%3a%2f%2fwww.googleapis.com%2fauth%2fdrive.photos.readonly%20https%3a%2f%2fwww.googleapis.com%2fauth%2fpeopleapi.readonly\n",
            "\n",
            "Enter your authorization code:\n",
            "··········\n",
            "Mounted at /content/drive\n"
          ],
          "name": "stdout"
        }
      ]
    },
    {
      "cell_type": "code",
      "metadata": {
        "id": "Fw-LAioBz4si",
        "colab_type": "code",
        "colab": {}
      },
      "source": [
        "import pandas as pd\n",
        "import re\n",
        "import statistics\n",
        "from operator import add\n",
        "import numpy as np"
      ],
      "execution_count": 0,
      "outputs": []
    },
    {
      "cell_type": "code",
      "metadata": {
        "id": "SXtlf2qI2XAR",
        "colab_type": "code",
        "colab": {}
      },
      "source": [
        "path = '/content/drive/My Drive/Colab Notebooks/Nutrition/'\n",
        "pop_path = path + 'WPP2019_PopulationByAgeSex_Medium.csv'\n",
        "BMI_path = path + 'NCD_BMI_MEAN.csv'\n",
        "height_path = path + 'heights_over_time.csv'\n",
        "fao_ctry_path = path + 'fao_ctry_codes.csv'"
      ],
      "execution_count": 0,
      "outputs": []
    },
    {
      "cell_type": "markdown",
      "metadata": {
        "id": "Y4F_MCDjQ4Oo",
        "colab_type": "text"
      },
      "source": [
        "# Calculate avg. body mass of adults for each country"
      ]
    },
    {
      "cell_type": "markdown",
      "metadata": {
        "id": "JnRfrAzx2zq8",
        "colab_type": "text"
      },
      "source": [
        "Population: Dataset is WPP2019, Population by age and sex, medium; for each country; plan is to, for each (country, year), match demographic groups to the age_aa requirement pattern and calculate needed aa requirements"
      ]
    },
    {
      "cell_type": "code",
      "metadata": {
        "id": "bAEJinmS0aHs",
        "colab_type": "code",
        "colab": {}
      },
      "source": [
        "pop_df = pd.read_csv(pop_path, encoding='latin-1') # each country has year, age group's population\n",
        "BMI_df = pd.read_csv(BMI_path) # each country has a year and an associated mean\n",
        "height_df = pd.read_csv(height_path)\n",
        "fao_ctry_codes = pd.read_csv(fao_ctry_path)"
      ],
      "execution_count": 0,
      "outputs": []
    },
    {
      "cell_type": "code",
      "metadata": {
        "id": "BKQy8LUl8iYO",
        "colab_type": "code",
        "colab": {}
      },
      "source": [
        "BMI_df = BMI_df.rename(columns ={'Unnamed: 0':'Country'})"
      ],
      "execution_count": 0,
      "outputs": []
    },
    {
      "cell_type": "code",
      "metadata": {
        "id": "eQPEUwwT7NKM",
        "colab_type": "code",
        "colab": {}
      },
      "source": [
        "# Age group definitions\n",
        "child_age_grps = ['0-4', '5-9', '10-14', '15-19']\n",
        "adult_age_grps = ['20-24', '25-29', '30-34', '35-39',\n",
        "       '40-44', '45-49', '50-54', '55-59', '60-64', '65-69', '70-74',\n",
        "       '75-79', '80-84', '85-89', '90-94', '95-99', '100+'] # age groups for pop. data"
      ],
      "execution_count": 0,
      "outputs": []
    },
    {
      "cell_type": "code",
      "metadata": {
        "id": "VM2yNAP5NkxP",
        "colab_type": "code",
        "colab": {}
      },
      "source": [
        "ctry_mismatches = {'China, Hong Kong SAR': ['none'], 'China, Macao SAR': ['none'], \n",
        "                   'China, Taiwan Province of China': ['none'], \n",
        "                   \"Dem. People's Republic of Korea\": \"Democratic People's Republic of Korea\",\n",
        "                   'French Guiana': ['none'], 'French Polynesia': ['none'], \n",
        "                   'Guadeloupe': ['none'],'Martinique': ['none'],\n",
        "                   'United Kingdom': ['United Kingdom of Great Britain and Northern Ireland']}"
      ],
      "execution_count": 0,
      "outputs": []
    },
    {
      "cell_type": "code",
      "metadata": {
        "id": "8IazvZFI0HA1",
        "colab_type": "code",
        "outputId": "017736ae-c0b8-462d-c6da-fc509ff1f62a",
        "colab": {
          "base_uri": "https://localhost:8080/",
          "height": 1000
        }
      },
      "source": [
        "# for each year and country, calculate the average mass of an adult\n",
        "avg_weight = {}\n",
        "for country in list(pop_df.Location.unique()): # cycle through each country\n",
        "  # population\n",
        "  temp = pop_df[pop_df['Location'].isin([country])]\n",
        "  temp = temp[temp['AgeGrp'].isin(adult_age_grps)]\n",
        "  \n",
        "  # BMI\n",
        "  ctr = 0\n",
        "  if country in BMI_df['Unnamed: 0'].unique(): # skip countries for which there is no BMI\n",
        "    ctr = 1\n",
        "    BMI = BMI_df[BMI_df['Unnamed: 0'] == country]\n",
        "    \n",
        "  if country in ctry_mismatches: \n",
        "    if ctry_mismatches[country][0] in BMI_df['Unnamed: 0'].unique():\n",
        "      ctr = 1\n",
        "      BMI = BMI_df[BMI_df['Unnamed: 0'] == ctry_mismatches[country][0]]\n",
        "  \n",
        "  if ctr == 1:\n",
        "\n",
        "    if country == 'United Kingdom':\n",
        "      ctry_code = 'GBR'\n",
        "    else:\n",
        "      ctry_code = fao_ctry_codes[fao_ctry_codes['Short name'] == country]['ISO3'].values[0]\n",
        "    \n",
        "    # Heights (gets people 20-40 in 2011-2013 by year of birth)\n",
        "    hts = height_df[height_df['Code'] == ctry_code]\n",
        "    hts_m = hts[(hts['Year']>1970) & (hts['Year']<1994)]['Males (centimeters)'].mean()\n",
        "    hts_f = hts[(hts['Year']>1970) & (hts['Year']<1994)]['Females (centimeters)'].mean()\n",
        "    \n",
        "    f_pop_year = []\n",
        "    m_pop_year = []\n",
        "    f_BMI = []\n",
        "    m_BMI = []\n",
        "    for year in list(pop_df.Time.unique()):\n",
        "      if year < 2014 and year > 2010: # get 2011-2013\n",
        "        # population\n",
        "        f_adult_yr_pop = sum(temp[temp['Time'].isin([year])]['PopFemale'])\n",
        "        m_adult_yr_pop = sum(temp[temp['Time'].isin([year])]['PopMale'])\n",
        "        f_pop_year.append(f_adult_yr_pop*1000) # units originally in thousands of people\n",
        "        m_pop_year.append(m_adult_yr_pop*1000)\n",
        "\n",
        "        # BMI (average only)\n",
        "        yr_str = str(year)\n",
        "        BMI_f_temp = re.search(r'^.*(?=(\\[))', BMI[yr_str + '.2'].values[0])\n",
        "        BMI_m_temp = re.search(r'^.*(?=(\\[))', BMI[yr_str + '.1'].values[0])\n",
        "        if BMI_f_temp:\n",
        "          f_BMI.append(float(BMI_f_temp.group(0)))\n",
        "        else:\n",
        "          f_BMI.append(np.nan)\n",
        "        if BMI_m_temp:\n",
        "          m_BMI.append(float(BMI_m_temp.group(0)))\n",
        "        else:\n",
        "          m_BMI.append(np.nan)\n",
        "    \n",
        "    # Weight calculation (kg)\n",
        "    f_weight = (hts_f/100)**2 * statistics.mean(f_BMI)\n",
        "    m_weight = (hts_m/100)**2 * statistics.mean(m_BMI)\n",
        "    \n",
        "    # Population weighting\n",
        "    avg_weight[country] = (f_weight*statistics.mean(f_pop_year) + m_weight*statistics.mean(m_pop_year)) / statistics.mean(list(map(add, f_pop_year, m_pop_year)))\n",
        "  else:\n",
        "    print(country)"
      ],
      "execution_count": 0,
      "outputs": [
        {
          "output_type": "stream",
          "text": [
            "Africa\n",
            "Aruba\n",
            "Asia\n",
            "Australia/New Zealand\n",
            "Caribbean\n",
            "Central America\n",
            "Central and Southern Asia\n",
            "Central Asia\n",
            "Channel Islands\n",
            "China, Hong Kong SAR\n",
            "China, Macao SAR\n",
            "China, Taiwan Province of China\n",
            "Curaçao\n",
            "Dem. People's Republic of Korea\n",
            "Eastern Africa\n",
            "Eastern and South-Eastern Asia\n",
            "Eastern Asia\n",
            "Eastern Europe\n",
            "Europe\n",
            "Europe and Northern America\n",
            "French Guiana\n",
            "French Polynesia\n",
            "Guadeloupe\n",
            "Guam\n",
            "High-income countries\n",
            "Land-locked Developing Countries (LLDC)\n",
            "Latin America and the Caribbean\n",
            "Least developed countries\n",
            "Less developed regions\n",
            "Less developed regions, excluding China\n",
            "Less developed regions, excluding least developed countries\n",
            "Low-income countries\n",
            "Lower-middle-income countries\n",
            "Martinique\n",
            "Mayotte\n",
            "Melanesia\n",
            "Micronesia\n",
            "Micronesia (Fed. States of)\n",
            "Middle Africa\n",
            "Middle-income countries\n",
            "More developed regions\n",
            "New Caledonia\n",
            "No income group available\n",
            "North Macedonia\n",
            "Northern Africa\n",
            "Northern Africa and Western Asia\n",
            "Northern America\n",
            "Northern Europe\n",
            "Oceania\n",
            "Oceania (excluding Australia and New Zealand)\n",
            "Polynesia\n",
            "Puerto Rico\n",
            "Réunion\n",
            "Small Island Developing States (SIDS)\n",
            "South America\n",
            "South-Eastern Asia\n",
            "Southern Africa\n",
            "Southern Asia\n",
            "Southern Europe\n",
            "State of Palestine\n",
            "Sub-Saharan Africa\n",
            "United States Virgin Islands\n",
            "Upper-middle-income countries\n",
            "Western Africa\n",
            "Western Asia\n",
            "Western Europe\n",
            "Western Sahara\n",
            "World\n"
          ],
          "name": "stdout"
        }
      ]
    },
    {
      "cell_type": "code",
      "metadata": {
        "id": "1Ie4qt9_DHiB",
        "colab_type": "code",
        "outputId": "0888a959-4be4-4e95-82f2-eaa25c001680",
        "colab": {
          "base_uri": "https://localhost:8080/",
          "height": 34
        }
      },
      "source": [
        "ctry_weights = pd.DataFrame.from_dict(avg_weight,orient='index')\n",
        "ctry_weights = ctry_weights.reset_index()\n",
        "missing = ctry_weights[ctry_weights[0].isna()]\n",
        "list(missing['index'].unique()) # should be just those with actually no data (e.g. Sudan)\n",
        "\n"
      ],
      "execution_count": 0,
      "outputs": [
        {
          "output_type": "execute_result",
          "data": {
            "text/plain": [
              "['South Sudan', 'Sudan']"
            ]
          },
          "metadata": {
            "tags": []
          },
          "execution_count": 174
        }
      ]
    },
    {
      "cell_type": "code",
      "metadata": {
        "id": "MvaP6YtuP--l",
        "colab_type": "code",
        "outputId": "6b90258d-c2f6-4c7f-e0c9-bcb71e3107ef",
        "colab": {
          "base_uri": "https://localhost:8080/",
          "height": 419
        }
      },
      "source": [
        "ctry_weights"
      ],
      "execution_count": 0,
      "outputs": [
        {
          "output_type": "execute_result",
          "data": {
            "text/html": [
              "<div>\n",
              "<style scoped>\n",
              "    .dataframe tbody tr th:only-of-type {\n",
              "        vertical-align: middle;\n",
              "    }\n",
              "\n",
              "    .dataframe tbody tr th {\n",
              "        vertical-align: top;\n",
              "    }\n",
              "\n",
              "    .dataframe thead th {\n",
              "        text-align: right;\n",
              "    }\n",
              "</style>\n",
              "<table border=\"1\" class=\"dataframe\">\n",
              "  <thead>\n",
              "    <tr style=\"text-align: right;\">\n",
              "      <th></th>\n",
              "      <th>index</th>\n",
              "      <th>0</th>\n",
              "    </tr>\n",
              "  </thead>\n",
              "  <tbody>\n",
              "    <tr>\n",
              "      <th>0</th>\n",
              "      <td>Afghanistan</td>\n",
              "      <td>59.128907</td>\n",
              "    </tr>\n",
              "    <tr>\n",
              "      <th>1</th>\n",
              "      <td>Albania</td>\n",
              "      <td>74.300504</td>\n",
              "    </tr>\n",
              "    <tr>\n",
              "      <th>2</th>\n",
              "      <td>Algeria</td>\n",
              "      <td>69.186634</td>\n",
              "    </tr>\n",
              "    <tr>\n",
              "      <th>3</th>\n",
              "      <td>Angola</td>\n",
              "      <td>61.446617</td>\n",
              "    </tr>\n",
              "    <tr>\n",
              "      <th>4</th>\n",
              "      <td>Antigua and Barbuda</td>\n",
              "      <td>72.731290</td>\n",
              "    </tr>\n",
              "    <tr>\n",
              "      <th>...</th>\n",
              "      <td>...</td>\n",
              "      <td>...</td>\n",
              "    </tr>\n",
              "    <tr>\n",
              "      <th>175</th>\n",
              "      <td>Venezuela (Bolivarian Republic of)</td>\n",
              "      <td>71.597418</td>\n",
              "    </tr>\n",
              "    <tr>\n",
              "      <th>176</th>\n",
              "      <td>Viet Nam</td>\n",
              "      <td>53.435563</td>\n",
              "    </tr>\n",
              "    <tr>\n",
              "      <th>177</th>\n",
              "      <td>Yemen</td>\n",
              "      <td>59.061992</td>\n",
              "    </tr>\n",
              "    <tr>\n",
              "      <th>178</th>\n",
              "      <td>Zambia</td>\n",
              "      <td>59.035999</td>\n",
              "    </tr>\n",
              "    <tr>\n",
              "      <th>179</th>\n",
              "      <td>Zimbabwe</td>\n",
              "      <td>64.124605</td>\n",
              "    </tr>\n",
              "  </tbody>\n",
              "</table>\n",
              "<p>180 rows × 2 columns</p>\n",
              "</div>"
            ],
            "text/plain": [
              "                                  index          0\n",
              "0                           Afghanistan  59.128907\n",
              "1                               Albania  74.300504\n",
              "2                               Algeria  69.186634\n",
              "3                                Angola  61.446617\n",
              "4                   Antigua and Barbuda  72.731290\n",
              "..                                  ...        ...\n",
              "175  Venezuela (Bolivarian Republic of)  71.597418\n",
              "176                            Viet Nam  53.435563\n",
              "177                               Yemen  59.061992\n",
              "178                              Zambia  59.035999\n",
              "179                            Zimbabwe  64.124605\n",
              "\n",
              "[180 rows x 2 columns]"
            ]
          },
          "metadata": {
            "tags": []
          },
          "execution_count": 175
        }
      ]
    },
    {
      "cell_type": "markdown",
      "metadata": {
        "id": "ZI0xZd-zQzhW",
        "colab_type": "text"
      },
      "source": [
        "# Calculate AA requirements per capita (adults)"
      ]
    },
    {
      "cell_type": "code",
      "metadata": {
        "id": "TDjdwTOuTzIE",
        "colab_type": "code",
        "colab": {}
      },
      "source": [
        "case = 'baseline'\n",
        "\n",
        "if case == 'baseline':\n",
        "\n",
        "  AA_adult_req = {'Histidine': 15, 'Isoleucine': 30, 'Leucine': 59, 'Lysine': 45, \n",
        "                 'SAA': 22, 'AAA': 38, 'Threonine': 23, 'Tryptophan': 6, 'Valine': 39} # mg AA /g protein\n",
        "  AA_total = .66 # g/kg\n",
        "elif case == 'safe':\n",
        "  AA_adult_req = {'Histidine': 12, 'Isoleucine': 24, 'Leucine': 47, 'Lysine': 36, \n",
        "                 'SAA': 17, 'AAA': 30, 'Threonine': 18, 'Tryptophan': 5, 'Valine': 31} # mg AA /g protein\n",
        "  AA_total = .83 # g/kg"
      ],
      "execution_count": 0,
      "outputs": []
    },
    {
      "cell_type": "code",
      "metadata": {
        "id": "XjJpOz_2Vnha",
        "colab_type": "code",
        "colab": {}
      },
      "source": [
        "SAA = ['Methionine', 'Cystine'] # there are others, but not in my diet AA list\n",
        "AAA = ['Phenylalanine', 'Tyrosine'] # also tryptophan and histidine but they are listed separately"
      ],
      "execution_count": 0,
      "outputs": []
    },
    {
      "cell_type": "code",
      "metadata": {
        "id": "of-vUtL-VASN",
        "colab_type": "code",
        "colab": {}
      },
      "source": [
        "diet_AA = pd.read_csv(path + 'diet_aa_1030.csv')"
      ],
      "execution_count": 0,
      "outputs": []
    },
    {
      "cell_type": "code",
      "metadata": {
        "id": "F5HaS7DrVV6X",
        "colab_type": "code",
        "outputId": "aa87bfb3-6b75-488e-d1a4-c8aa21ab64d4",
        "colab": {
          "base_uri": "https://localhost:8080/",
          "height": 1000
        }
      },
      "source": [
        "AA_ctry = {}\n",
        "AA_all = {}\n",
        "for country in diet_AA['Unnamed: 0'].unique().tolist():\n",
        "  if country in ctry_weights['index'].unique().tolist():\n",
        "    diet_ctry = diet_AA[diet_AA['Unnamed: 0'] == country]\n",
        "    AA_ctry[country] = {}\n",
        "    AA_all[country] = {}\n",
        "    for AA in AA_adult_req: \n",
        "      avg_weight = ctry_weights[ctry_weights['index']==country][0].values[0] \n",
        "      AA_req =  avg_weight * AA_total * AA_adult_req[AA] * 0.001 #g/capita/day\n",
        "      if AA == 'SAA':\n",
        "        aa_diet = []\n",
        "        for aa in SAA: \n",
        "          aa_diet.append(diet_ctry[aa].values[0])\n",
        "        AA_diet = sum(aa_diet)\n",
        "      elif AA == 'AAA':\n",
        "        aa_diet = []\n",
        "        for aa in AAA: \n",
        "          aa_diet.append(diet_ctry[aa].values[0])\n",
        "        AA_diet = sum(aa_diet)\n",
        "      else:\n",
        "        AA_diet = diet_ctry[AA].values[0]\n",
        "      AA_ctry[country][AA] = AA_diet / AA_req #[AA_req, AA_diet, AA_diet/AA_req] \n",
        "      AA_all[country][AA] = [AA_req, AA_diet, AA_diet/AA_req] \n",
        "      if AA_ctry[country][AA]<1:\n",
        "        print(country, ' lacking ' , AA, ' see: ', AA_req, AA_diet)\n",
        "    total_protein_req = avg_weight * AA_total\n",
        "    total_protein_diet = diet_ctry['protein'].values[0]\n",
        "    AA_ctry[country]['protein'] =  total_protein_diet/total_protein_req #[total_protein_req, total_protein_diet, total_protein_diet/total_protein_req]\n",
        "    AA_all[country]['protein'] = [total_protein_req, total_protein_diet, total_protein_diet/total_protein_req]\n",
        "    if AA_ctry[country]['protein'] < 1: \n",
        "      print(country, ' lacking total protein, see' , total_protein_req, total_protein_diet)"
      ],
      "execution_count": 0,
      "outputs": [
        {
          "output_type": "stream",
          "text": [
            "Botswana  lacking total protein, see 44.571305692524426 39.37955272541638\n",
            "Burkina Faso  lacking total protein, see 39.94765649450399 37.68984071169531\n",
            "Cameroon  lacking  Leucine  see:  2.5610903530351123 2.505075051222612\n",
            "Cameroon  lacking  Lysine  see:  1.9533739980776283 1.9024724893831808\n",
            "Cameroon  lacking  Valine  see:  1.6929241316672778 1.4988342785909057\n",
            "Cameroon  lacking total protein, see 43.40831106839174 32.771679563383344\n",
            "Central African Republic  lacking total protein, see 39.838969339630815 38.88468435925096\n",
            "Chad  lacking  Isoleucine  see:  1.2040984671960073 1.0413191745254369\n",
            "Chad  lacking  Leucine  see:  2.3680603188188143 2.1126089379569803\n",
            "Chad  lacking  Lysine  see:  1.8061477007940112 1.551967972852235\n",
            "Chad  lacking  SAA  see:  0.8830055426104054 0.8716101965293748\n",
            "Chad  lacking  Threonine  see:  0.9231421581836057 0.8896969291788854\n",
            "Chad  lacking  Valine  see:  1.5653280073548097 1.2024736149059008\n",
            "Chad  lacking total protein, see 40.136615573200245 28.164195554564966\n",
            "Côte d'Ivoire  lacking  Isoleucine  see:  1.2620946551076782 1.243473425710944\n",
            "Côte d'Ivoire  lacking  Leucine  see:  2.4821194883784337 2.379982004427493\n",
            "Côte d'Ivoire  lacking  Lysine  see:  1.8931419826615172 1.4736070092069469\n",
            "Côte d'Ivoire  lacking  Threonine  see:  0.96760590224922 0.932697082408669\n",
            "Côte d'Ivoire  lacking  Valine  see:  1.6407230516399816 1.480670288937968\n",
            "Côte d'Ivoire  lacking total protein, see 42.06982183692261 32.099246284028844\n",
            "Ethiopia  lacking  Isoleucine  see:  1.0635198633261311 1.013421731080961\n",
            "Ethiopia  lacking  Leucine  see:  2.0915890645413913 2.0308697790280714\n",
            "Ethiopia  lacking  Lysine  see:  1.5952797949891968 1.4067080816682629\n",
            "Ethiopia  lacking  Valine  see:  1.3825758223239704 1.184927945728554\n",
            "Ethiopia  lacking total protein, see 35.450662110871036 26.43450474342368\n",
            "Gambia  lacking  Lysine  see:  1.8972547696645732 1.873945989264453\n",
            "Gambia  lacking total protein, see 42.16121710365718 40.087184790334334\n",
            "Ghana  lacking total protein, see 42.177733634555665 37.71093003712998\n",
            "Guinea  lacking  Isoleucine  see:  1.2085678583447297 1.18629555972419\n",
            "Guinea  lacking  Leucine  see:  2.3768501214113016 2.2077838725805643\n",
            "Guinea  lacking  Lysine  see:  1.8128517875170946 1.6261020558462926\n",
            "Guinea  lacking  Valine  see:  1.5711382158481486 1.4316068682676228\n",
            "Guinea  lacking total protein, see 40.28559527815766 27.81251639556271\n",
            "Guinea-Bissau  lacking  Isoleucine  see:  1.2358713970611837 1.195192305963892\n",
            "Guinea-Bissau  lacking  Leucine  see:  2.4305470808869947 2.255767450289824\n",
            "Guinea-Bissau  lacking  Lysine  see:  1.8538070955917754 1.6687802309398927\n",
            "Guinea-Bissau  lacking  Valine  see:  1.6066328161795387 1.4460654474976908\n",
            "Guinea-Bissau  lacking total protein, see 41.195713235372786 28.327019752441007\n",
            "Haiti  lacking  Isoleucine  see:  1.3549686543995116 1.2282875440935381\n",
            "Haiti  lacking  Leucine  see:  2.6647716869857065 2.2961880689924303\n",
            "Haiti  lacking  Lysine  see:  2.032452981599268 1.9033795781870737\n",
            "Haiti  lacking  Threonine  see:  1.0388093017062925 1.0316915931453638\n",
            "Haiti  lacking  Valine  see:  1.7614592507193654 1.4123419486039186\n",
            "Haiti  lacking total protein, see 45.16562181331706 29.71591814276791\n",
            "Liberia  lacking  Isoleucine  see:  1.2275314907292056 1.1072868367492874\n",
            "Liberia  lacking  Leucine  see:  2.414145265100771 1.9919134508404803\n",
            "Liberia  lacking  Lysine  see:  1.8412972360938085 1.5054625601758207\n",
            "Liberia  lacking  Threonine  see:  0.9411074762257243 0.9137537571689672\n",
            "Liberia  lacking  Valine  see:  1.5957909379479676 1.320084752933597\n",
            "Liberia  lacking total protein, see 40.91771635764019 26.387097707044568\n",
            "Madagascar  lacking total protein, see 35.10803044837272 29.539456205870234\n",
            "Malawi  lacking total protein, see 38.16435069175048 36.77004027269973\n",
            "Mozambique  lacking  Lysine  see:  1.7158571502625182 1.5958264838425469\n",
            "Mozambique  lacking  Valine  see:  1.4870761968941824 1.3697370511235862\n",
            "Mozambique  lacking total protein, see 38.130158894722626 30.265476928126564\n",
            "Rwanda  lacking  Valine  see:  1.4504009389729693 1.44894765456561\n",
            "Rwanda  lacking total protein, see 37.18976766597357 31.69876844824936\n",
            "Sao Tome and Principe  lacking total protein, see 43.882830611616804 43.823664288821746\n",
            "Senegal  lacking total protein, see 42.708670268752826 38.99108454887579\n",
            "Sierra Leone  lacking total protein, see 39.202343119626136 31.89937128315968\n",
            "Solomon Islands  lacking total protein, see 44.40045851870408 39.22390712492663\n",
            "Sri Lanka  lacking total protein, see 37.86859090967139 37.62161925549857\n",
            "Timor-Leste  lacking total protein, see 33.6807332851604 32.66419772787796\n",
            "Togo  lacking  Isoleucine  see:  1.2432624068539435 1.1643930626478394\n",
            "Togo  lacking  Leucine  see:  2.4450827334794223 2.3656917900036687\n",
            "Togo  lacking  Lysine  see:  1.8648936102809153 1.6397330917209896\n",
            "Togo  lacking  Threonine  see:  0.95316784525469 0.9342572727555573\n",
            "Togo  lacking  Valine  see:  1.6162411289101264 1.3418305991146218\n",
            "Togo  lacking total protein, see 41.44208022846478 29.76455315191209\n",
            "Uganda  lacking total protein, see 38.68914359351479 37.58734993371216\n",
            "United Republic of Tanzania  lacking total protein, see 39.51741392430472 33.635499632885534\n",
            "Zambia  lacking total protein, see 38.96375918845994 33.09995829532689\n",
            "Zimbabwe  lacking total protein, see 42.32223955886847 34.83671037578432\n"
          ],
          "name": "stdout"
        }
      ]
    },
    {
      "cell_type": "code",
      "metadata": {
        "id": "W-yoOYEhZSfJ",
        "colab_type": "code",
        "colab": {}
      },
      "source": [
        "AA_ratios = pd.DataFrame.from_dict(AA_ctry,orient='index')"
      ],
      "execution_count": 0,
      "outputs": []
    },
    {
      "cell_type": "code",
      "metadata": {
        "id": "hSA39X1zVHES",
        "colab_type": "code",
        "colab": {}
      },
      "source": [
        "savepath = path + 'AA_ratios_safe.csv'\n",
        "AA_ratios.to_csv(savepath)"
      ],
      "execution_count": 0,
      "outputs": []
    },
    {
      "cell_type": "code",
      "metadata": {
        "id": "x2tsnoIyeAm9",
        "colab_type": "code",
        "outputId": "e6a4b60a-9b02-4f61-c5b6-50ab920659a3",
        "colab": {
          "base_uri": "https://localhost:8080/",
          "height": 187
        }
      },
      "source": [
        "AA_all['Zimbabwe']"
      ],
      "execution_count": 0,
      "outputs": [
        {
          "output_type": "execute_result",
          "data": {
            "text/plain": [
              "{'AAA': [1.6082451032370018, 2.624873961736261, 1.632135522410754],\n",
              " 'Histidine': [0.634833593383027, 0.8999105221507897, 1.4175534053816659],\n",
              " 'Isoleucine': [1.269667186766054, 1.4086851410921415, 1.109491649288171],\n",
              " 'Leucine': [2.4970121339732394, 2.9192874185230693, 1.1691122276918642],\n",
              " 'Lysine': [1.904500780149081, 2.079767917758042, 1.092027863383307],\n",
              " 'SAA': [0.9310892702951064, 1.199306323266803, 1.28806803120681],\n",
              " 'Threonine': [0.9734115098539747, 1.2110487765840383, 1.2441282687994026],\n",
              " 'Tryptophan': [0.25393343735321083, 0.3070967028506071, 1.209359059017692],\n",
              " 'Valine': [1.6505673427958703, 1.6551851319766195, 1.0027976981374944],\n",
              " 'protein': [42.32223955886847, 34.83671037578432, 0.8231301258840027]}"
            ]
          },
          "metadata": {
            "tags": []
          },
          "execution_count": 222
        }
      ]
    },
    {
      "cell_type": "markdown",
      "metadata": {
        "id": "7FtuAydIGjFJ",
        "colab_type": "text"
      },
      "source": [
        "## Undernourishment\n",
        "Use the average diet as the mean of lognormal & the avg. requirement as threshold for undernourishment (NB FAO would use a 5th percentile for this?)"
      ]
    },
    {
      "cell_type": "code",
      "metadata": {
        "id": "Ws0lV-y6G6yF",
        "colab_type": "code",
        "colab": {}
      },
      "source": [
        "import math\n",
        "import scipy\n",
        "from scipy import stats\n",
        "from scipy.optimize import least_squares\n",
        "\n",
        "pr_mean = 50 # sample\n",
        "sigma = 0.25 # sample\n",
        "\n",
        "req = 40 # sample\n",
        "\n",
        "mu = math.log(pr_mean) - sigma**2/2\n",
        "CDF = 1/2 + 1/2*scipy.special.erf((math.log(req) - mu)/(2**0.5*sigma))\n"
      ],
      "execution_count": 0,
      "outputs": []
    },
    {
      "cell_type": "code",
      "metadata": {
        "id": "LrCv_3HEIdkF",
        "colab_type": "code",
        "colab": {
          "base_uri": "https://localhost:8080/",
          "height": 34
        },
        "outputId": "f44602b8-05b6-4040-a5b0-174b3552fe1c"
      },
      "source": [
        "CDF"
      ],
      "execution_count": 11,
      "outputs": [
        {
          "output_type": "execute_result",
          "data": {
            "text/plain": [
              "0.22137009599489793"
            ]
          },
          "metadata": {
            "tags": []
          },
          "execution_count": 11
        }
      ]
    },
    {
      "cell_type": "markdown",
      "metadata": {
        "id": "PObUtob2QwR6",
        "colab_type": "text"
      },
      "source": [
        "# Old Code"
      ]
    },
    {
      "cell_type": "code",
      "metadata": {
        "id": "SVGhVUNV3YFs",
        "colab_type": "code",
        "outputId": "da89ab33-175c-487a-a7fd-dbe7f92a8e24",
        "colab": {
          "base_uri": "https://localhost:8080/",
          "height": 68
        }
      },
      "source": [
        "# BMI regex work! (save me for now!)\n",
        "temp = BMI['2016'].values[0]\n",
        "print(temp)\n",
        "m = re.search(r\"[^[]*\\[([^]]*)\\]\", temp).groups()[0] # gets the things in the brackets!\n",
        "n = re.search(r'^.*(?=(\\[))', temp).group(0)\n",
        "print(m)\n",
        "print(n)"
      ],
      "execution_count": 0,
      "outputs": [
        {
          "output_type": "stream",
          "text": [
            "23.4 [22.0-24.8]\n",
            "22.0-24.8\n",
            "23.4 \n"
          ],
          "name": "stdout"
        }
      ]
    },
    {
      "cell_type": "code",
      "metadata": {
        "id": "jLqzoeb1A_P6",
        "colab_type": "code",
        "colab": {}
      },
      "source": [
        "adult_weight = 136.68 # average adult weight\n"
      ],
      "execution_count": 0,
      "outputs": []
    },
    {
      "cell_type": "code",
      "metadata": {
        "id": "9XjIW57WTNHn",
        "colab_type": "code",
        "colab": {}
      },
      "source": [
        "# calculate average height (m) for each country; look into this later\n",
        "ctry_hts = {}\n",
        "for country in list(pop_df.Location.unique()): \n",
        "  if country in list(height_df.Entity.unique()):\n",
        "    ht = height_df[height_df['Entity'].isin([country])]\n",
        "    m_ht = statistics.mean(ht['Males (centimeters)'])\n",
        "    f_ht = statistics.mean(ht['Females (centimeters)'])\n",
        "    ctry_hts[country] = {'M': m_ht/100, 'F': f_ht/100}"
      ],
      "execution_count": 0,
      "outputs": []
    },
    {
      "cell_type": "code",
      "metadata": {
        "id": "0-8cAU1z3DmJ",
        "colab_type": "code",
        "outputId": "3911c058-c569-43f8-d498-3590db690314",
        "colab": {
          "base_uri": "https://localhost:8080/",
          "height": 827
        }
      },
      "source": [
        "# match those historical populations with average weight\n",
        "avg_adult_weight = {}\n",
        "total_adult_weight = {}\n",
        "\n",
        "for country in list(pop_df.Location.unique()): \n",
        "  BMI = BMI_df[BMI_df['Country'].isin([country])]\n",
        "  f_yrs_weight = {}\n",
        "  m_yrs_weight = {}\n",
        "  \n",
        "  ctry_ht = ctry_hts.get(country)\n",
        "  if ctry_ht:\n",
        "    m_ht = ctry_ht['M'] # get the average height for that country\n",
        "    f_ht = ctry_ht['F']\n",
        "\n",
        "    f_tot_weight = {} # pre-allocate\n",
        "    m_tot_weight = {}\n",
        "    tot_yr_weight = {}\n",
        "    for year in list(pop_df.Time.unique()):\n",
        "      # BMI\n",
        "      if str(year) in BMI.columns: # only go through years for which we have data\n",
        "        avg_m_BMI = re.sub(r'\\[[^]]*\\]','',BMI[str(year)+'.1'].item())\n",
        "        avg_f_BMI = re.sub(r'\\[[^]]*\\]','',BMI[str(year)+'.2'].item())\n",
        "        \n",
        "        f_yrs_weight[year] = float(avg_f_BMI)*(f_ht)**2 # calculates weight from BMI and height\n",
        "        m_yrs_weight[year] = float(avg_m_BMI)*(m_ht)**2\n",
        "        \n",
        "        f_tot_weight[year] = f_adult_population[country][year]*f_yrs_weight[year]\n",
        "        m_tot_weight[year] = m_adult_population[country][year]*m_yrs_weight[year]\n",
        "        tot_yr_weight[year] = f_tot_weight[year] + m_tot_weight[year]\n",
        "        \n",
        "    avg_adult_weight[country] = {'f': f_yrs_weight, 'm': m_yrs_weight}\n",
        "  \n",
        "    total_adult_weight[country] = tot_yr_weight\n",
        "  else:\n",
        "    print([country, ' did not have associated height'])"
      ],
      "execution_count": 0,
      "outputs": [
        {
          "output_type": "stream",
          "text": [
            "['Africa', ' did not have associated height']\n",
            "['Aruba', ' did not have associated height']\n",
            "['Asia', ' did not have associated height']\n",
            "['Australia/New Zealand', ' did not have associated height']\n",
            "['Bolivia (Plurinational State of)', ' did not have associated height']\n",
            "['Brunei Darussalam', ' did not have associated height']\n",
            "['Cabo Verde', ' did not have associated height']\n",
            "['Caribbean', ' did not have associated height']\n",
            "['Central America', ' did not have associated height']\n",
            "['Central and Southern Asia', ' did not have associated height']\n",
            "['Central Asia', ' did not have associated height']\n",
            "['Channel Islands', ' did not have associated height']\n",
            "['China, Hong Kong SAR', ' did not have associated height']\n",
            "['China, Macao SAR', ' did not have associated height']\n",
            "['China, Taiwan Province of China', ' did not have associated height']\n",
            "[\"Côte d'Ivoire\", ' did not have associated height']\n",
            "['Curaçao', ' did not have associated height']\n",
            "['Czechia', ' did not have associated height']\n",
            "[\"Dem. People's Republic of Korea\", ' did not have associated height']\n",
            "['Democratic Republic of the Congo', ' did not have associated height']\n",
            "['Eastern Africa', ' did not have associated height']\n",
            "['Eastern and South-Eastern Asia', ' did not have associated height']\n",
            "['Eastern Asia', ' did not have associated height']\n",
            "['Eastern Europe', ' did not have associated height']\n",
            "['Eswatini', ' did not have associated height']\n",
            "['Europe', ' did not have associated height']\n",
            "['Europe and Northern America', ' did not have associated height']\n",
            "['French Guiana', ' did not have associated height']\n"
          ],
          "name": "stdout"
        },
        {
          "output_type": "error",
          "ename": "ValueError",
          "evalue": "ignored",
          "traceback": [
            "\u001b[0;31m---------------------------------------------------------------------------\u001b[0m",
            "\u001b[0;31mValueError\u001b[0m                                Traceback (most recent call last)",
            "\u001b[0;32m<ipython-input-173-55b7837faff5>\u001b[0m in \u001b[0;36m<module>\u001b[0;34m()\u001b[0m\n\u001b[1;32m     18\u001b[0m       \u001b[0;31m# BMI\u001b[0m\u001b[0;34m\u001b[0m\u001b[0;34m\u001b[0m\u001b[0;34m\u001b[0m\u001b[0m\n\u001b[1;32m     19\u001b[0m       \u001b[0;32mif\u001b[0m \u001b[0mstr\u001b[0m\u001b[0;34m(\u001b[0m\u001b[0myear\u001b[0m\u001b[0;34m)\u001b[0m \u001b[0;32min\u001b[0m \u001b[0mBMI\u001b[0m\u001b[0;34m.\u001b[0m\u001b[0mcolumns\u001b[0m\u001b[0;34m:\u001b[0m \u001b[0;31m# only go through years for which we have data\u001b[0m\u001b[0;34m\u001b[0m\u001b[0;34m\u001b[0m\u001b[0m\n\u001b[0;32m---> 20\u001b[0;31m         \u001b[0mavg_m_BMI\u001b[0m \u001b[0;34m=\u001b[0m \u001b[0mre\u001b[0m\u001b[0;34m.\u001b[0m\u001b[0msub\u001b[0m\u001b[0;34m(\u001b[0m\u001b[0;34mr'\\[[^]]*\\]'\u001b[0m\u001b[0;34m,\u001b[0m\u001b[0;34m''\u001b[0m\u001b[0;34m,\u001b[0m\u001b[0mBMI\u001b[0m\u001b[0;34m[\u001b[0m\u001b[0mstr\u001b[0m\u001b[0;34m(\u001b[0m\u001b[0myear\u001b[0m\u001b[0;34m)\u001b[0m\u001b[0;34m+\u001b[0m\u001b[0;34m'.1'\u001b[0m\u001b[0;34m]\u001b[0m\u001b[0;34m.\u001b[0m\u001b[0mitem\u001b[0m\u001b[0;34m(\u001b[0m\u001b[0;34m)\u001b[0m\u001b[0;34m)\u001b[0m\u001b[0;34m\u001b[0m\u001b[0;34m\u001b[0m\u001b[0m\n\u001b[0m\u001b[1;32m     21\u001b[0m         \u001b[0mavg_f_BMI\u001b[0m \u001b[0;34m=\u001b[0m \u001b[0mre\u001b[0m\u001b[0;34m.\u001b[0m\u001b[0msub\u001b[0m\u001b[0;34m(\u001b[0m\u001b[0;34mr'\\[[^]]*\\]'\u001b[0m\u001b[0;34m,\u001b[0m\u001b[0;34m''\u001b[0m\u001b[0;34m,\u001b[0m\u001b[0mBMI\u001b[0m\u001b[0;34m[\u001b[0m\u001b[0mstr\u001b[0m\u001b[0;34m(\u001b[0m\u001b[0myear\u001b[0m\u001b[0;34m)\u001b[0m\u001b[0;34m+\u001b[0m\u001b[0;34m'.2'\u001b[0m\u001b[0;34m]\u001b[0m\u001b[0;34m.\u001b[0m\u001b[0mitem\u001b[0m\u001b[0;34m(\u001b[0m\u001b[0;34m)\u001b[0m\u001b[0;34m)\u001b[0m\u001b[0;34m\u001b[0m\u001b[0;34m\u001b[0m\u001b[0m\n\u001b[1;32m     22\u001b[0m \u001b[0;34m\u001b[0m\u001b[0m\n",
            "\u001b[0;32m/usr/local/lib/python3.6/dist-packages/pandas/core/base.py\u001b[0m in \u001b[0;36mitem\u001b[0;34m(self)\u001b[0m\n\u001b[1;32m    714\u001b[0m         \"\"\"\n\u001b[1;32m    715\u001b[0m         \u001b[0;32mtry\u001b[0m\u001b[0;34m:\u001b[0m\u001b[0;34m\u001b[0m\u001b[0;34m\u001b[0m\u001b[0m\n\u001b[0;32m--> 716\u001b[0;31m             \u001b[0;32mreturn\u001b[0m \u001b[0mself\u001b[0m\u001b[0;34m.\u001b[0m\u001b[0mvalues\u001b[0m\u001b[0;34m.\u001b[0m\u001b[0mitem\u001b[0m\u001b[0;34m(\u001b[0m\u001b[0;34m)\u001b[0m\u001b[0;34m\u001b[0m\u001b[0;34m\u001b[0m\u001b[0m\n\u001b[0m\u001b[1;32m    717\u001b[0m         \u001b[0;32mexcept\u001b[0m \u001b[0mIndexError\u001b[0m\u001b[0;34m:\u001b[0m\u001b[0;34m\u001b[0m\u001b[0;34m\u001b[0m\u001b[0m\n\u001b[1;32m    718\u001b[0m             \u001b[0;31m# copy numpy's message here because Py26 raises an IndexError\u001b[0m\u001b[0;34m\u001b[0m\u001b[0;34m\u001b[0m\u001b[0;34m\u001b[0m\u001b[0m\n",
            "\u001b[0;31mValueError\u001b[0m: can only convert an array of size 1 to a Python scalar"
          ]
        }
      ]
    },
    {
      "cell_type": "code",
      "metadata": {
        "id": "cfmmR7ZQMu2r",
        "colab_type": "code",
        "colab": {}
      },
      "source": [
        ""
      ],
      "execution_count": 0,
      "outputs": []
    }
  ]
}